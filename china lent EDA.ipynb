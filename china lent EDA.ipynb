{
 "cells": [
  {
   "cell_type": "markdown",
   "id": "f0ce12da",
   "metadata": {},
   "source": [
    "## China loan EDA"
   ]
  },
  {
   "cell_type": "raw",
   "id": "0a262e10",
   "metadata": {},
   "source": [
    "Loan analysis is an evaluation method that determines if loans are made on feasible terms \n",
    "and the reason that loan is made, who lends, and from which sector.\n",
    "China is one of the lender countries that lend to other countries."
   ]
  },
  {
   "cell_type": "markdown",
   "id": "709b6c4d",
   "metadata": {},
   "source": [
    "dicriptions of columns:\n",
    "1. COUNTRY: name of countries (which the borrower of China) exist (like Angola,SriLanka,Ethiopia, Kenya, ...) \n",
    "2. SECTOR:  the reason Companies/organization borrowed (like for transport, power,..)\n",
    "3. BORROWER: the company/organization that borrowed from China (like Government,Petrobras,..)\n",
    "4. LENDER: organizations that give loan for borrowers (like CDB,ExlBank)\n",
    "5. AMOUNT: the amount borrower lent.\n",
    "6. year: it specifies when they borrowed.\n",
    "7. Expand All | Collapse All: name of project\n",
    "8. SENSITIVE TERRITORY OVERLAP: theriotory relationship with the borrower's country."
   ]
  },
  {
   "cell_type": "markdown",
   "id": "0e469bf3",
   "metadata": {},
   "source": [
    "to get some insight, I applied different methods:\n",
    "1. grouping the data based on country, year\n",
    "2. transformation (especially for AMOUNT column)"
   ]
  },
  {
   "cell_type": "markdown",
   "id": "474a8c1a",
   "metadata": {},
   "source": [
    "importing necessary libraries"
   ]
  },
  {
   "cell_type": "code",
   "execution_count": 1,
   "id": "48511769",
   "metadata": {},
   "outputs": [],
   "source": [
    "import pandas as pd\n",
    "import numpy as np\n",
    "import seaborn as sns\n",
    "import matplotlib.pyplot as plt\n",
    "import re"
   ]
  },
  {
   "cell_type": "markdown",
   "id": "480d7667",
   "metadata": {},
   "source": [
    "loading the datasets"
   ]
  },
  {
   "cell_type": "code",
   "execution_count": 2,
   "id": "82a6719a",
   "metadata": {},
   "outputs": [
    {
     "data": {
      "text/html": [
       "<div>\n",
       "<style scoped>\n",
       "    .dataframe tbody tr th:only-of-type {\n",
       "        vertical-align: middle;\n",
       "    }\n",
       "\n",
       "    .dataframe tbody tr th {\n",
       "        vertical-align: top;\n",
       "    }\n",
       "\n",
       "    .dataframe thead th {\n",
       "        text-align: right;\n",
       "    }\n",
       "</style>\n",
       "<table border=\"1\" class=\"dataframe\">\n",
       "  <thead>\n",
       "    <tr style=\"text-align: right;\">\n",
       "      <th></th>\n",
       "      <th>Expand All | Collapse All</th>\n",
       "      <th>YEAR</th>\n",
       "      <th>AMOUNT</th>\n",
       "      <th>LENDER</th>\n",
       "      <th>BORROWER</th>\n",
       "      <th>SECTOR</th>\n",
       "      <th>SENSITIVE TERRITORY OVERLAP</th>\n",
       "      <th>Country</th>\n",
       "    </tr>\n",
       "  </thead>\n",
       "  <tbody>\n",
       "    <tr>\n",
       "      <th>0</th>\n",
       "      <td>“Lar Patriota\" Infrastructure (Phase 1)</td>\n",
       "      <td>2011</td>\n",
       "      <td>$50M</td>\n",
       "      <td>CDB</td>\n",
       "      <td>Government</td>\n",
       "      <td>Transport</td>\n",
       "      <td>None Known</td>\n",
       "      <td>Angola</td>\n",
       "    </tr>\n",
       "    <tr>\n",
       "      <th>1</th>\n",
       "      <td>10-Year Oil Supply Plan (10Mt/Year), \"Oil for ...</td>\n",
       "      <td>2009</td>\n",
       "      <td>$7.0B</td>\n",
       "      <td>CDB</td>\n",
       "      <td>Petrobras</td>\n",
       "      <td>Extraction, pipelines</td>\n",
       "      <td>None Known</td>\n",
       "      <td>Brazil</td>\n",
       "    </tr>\n",
       "    <tr>\n",
       "      <th>2</th>\n",
       "      <td>1000 housing project</td>\n",
       "      <td>2012</td>\n",
       "      <td>$47M</td>\n",
       "      <td>ExImBank</td>\n",
       "      <td>Government</td>\n",
       "      <td>Government</td>\n",
       "      <td>None Known</td>\n",
       "      <td>Suriname</td>\n",
       "    </tr>\n",
       "    <tr>\n",
       "      <th>3</th>\n",
       "      <td>115kV Transmission Line and Substation from Ph...</td>\n",
       "      <td>2009</td>\n",
       "      <td>$475M</td>\n",
       "      <td>ExImBank</td>\n",
       "      <td>Electricite Du Cambodge</td>\n",
       "      <td>Power</td>\n",
       "      <td>None Known</td>\n",
       "      <td>Cambodia</td>\n",
       "    </tr>\n",
       "    <tr>\n",
       "      <th>4</th>\n",
       "      <td>151 Multisector infrastructure projects</td>\n",
       "      <td>2016</td>\n",
       "      <td>$600M</td>\n",
       "      <td>CDB</td>\n",
       "      <td>Central Bank of Kenya</td>\n",
       "      <td>Mulit-sector/discretionary</td>\n",
       "      <td>None Known</td>\n",
       "      <td>Kenya</td>\n",
       "    </tr>\n",
       "  </tbody>\n",
       "</table>\n",
       "</div>"
      ],
      "text/plain": [
       "                           Expand All | Collapse All  YEAR AMOUNT    LENDER  \\\n",
       "0            “Lar Patriota\" Infrastructure (Phase 1)  2011   $50M       CDB   \n",
       "1  10-Year Oil Supply Plan (10Mt/Year), \"Oil for ...  2009  $7.0B       CDB   \n",
       "2                               1000 housing project  2012   $47M  ExImBank   \n",
       "3  115kV Transmission Line and Substation from Ph...  2009  $475M  ExImBank   \n",
       "4            151 Multisector infrastructure projects  2016  $600M       CDB   \n",
       "\n",
       "                  BORROWER                      SECTOR  \\\n",
       "0               Government                   Transport   \n",
       "1                Petrobras       Extraction, pipelines   \n",
       "2               Government                  Government   \n",
       "3  Electricite Du Cambodge                       Power   \n",
       "4    Central Bank of Kenya  Mulit-sector/discretionary   \n",
       "\n",
       "  SENSITIVE TERRITORY OVERLAP   Country  \n",
       "0                  None Known    Angola  \n",
       "1                  None Known    Brazil  \n",
       "2                  None Known  Suriname  \n",
       "3                  None Known  Cambodia  \n",
       "4                  None Known     Kenya  "
      ]
     },
     "execution_count": 2,
     "metadata": {},
     "output_type": "execute_result"
    }
   ],
   "source": [
    "df=pd.read_csv('china_dept_trap.csv')\n",
    "df.head()"
   ]
  },
  {
   "cell_type": "markdown",
   "id": "c5615fe7",
   "metadata": {},
   "source": [
    "looking the columns' dtype and not_null count"
   ]
  },
  {
   "cell_type": "code",
   "execution_count": 10,
   "id": "93b67aee",
   "metadata": {},
   "outputs": [
    {
     "name": "stdout",
     "output_type": "stream",
     "text": [
      "<class 'pandas.core.frame.DataFrame'>\n",
      "RangeIndex: 858 entries, 0 to 857\n",
      "Data columns (total 8 columns):\n",
      " #   Column                       Non-Null Count  Dtype \n",
      "---  ------                       --------------  ----- \n",
      " 0   Expand All | Collapse All    858 non-null    object\n",
      " 1   YEAR                         858 non-null    int64 \n",
      " 2   AMOUNT                       858 non-null    object\n",
      " 3   LENDER                       858 non-null    object\n",
      " 4   BORROWER                     857 non-null    object\n",
      " 5   SECTOR                       858 non-null    object\n",
      " 6   SENSITIVE TERRITORY OVERLAP  858 non-null    object\n",
      " 7   Country                      858 non-null    object\n",
      "dtypes: int64(1), object(7)\n",
      "memory usage: 53.8+ KB\n"
     ]
    }
   ],
   "source": [
    "df.info()"
   ]
  },
  {
   "cell_type": "code",
   "execution_count": 12,
   "id": "2f172c8e",
   "metadata": {},
   "outputs": [
    {
     "data": {
      "text/plain": [
       "(858, 8)"
      ]
     },
     "execution_count": 12,
     "metadata": {},
     "output_type": "execute_result"
    }
   ],
   "source": [
    "df.shape"
   ]
  },
  {
   "cell_type": "code",
   "execution_count": 13,
   "id": "303b8a8b",
   "metadata": {},
   "outputs": [
    {
     "data": {
      "text/plain": [
       "Index(['Expand All | Collapse All', 'YEAR', 'AMOUNT', 'LENDER', 'BORROWER',\n",
       "       'SECTOR', 'SENSITIVE TERRITORY OVERLAP', 'Country'],\n",
       "      dtype='object')"
      ]
     },
     "execution_count": 13,
     "metadata": {},
     "output_type": "execute_result"
    }
   ],
   "source": [
    "df.columns"
   ]
  },
  {
   "cell_type": "markdown",
   "id": "896553be",
   "metadata": {},
   "source": [
    "#### dealing with missing values"
   ]
  },
  {
   "cell_type": "code",
   "execution_count": 14,
   "id": "4cf1e5e5",
   "metadata": {},
   "outputs": [
    {
     "data": {
      "text/plain": [
       "Expand All | Collapse All      0\n",
       "YEAR                           0\n",
       "AMOUNT                         0\n",
       "LENDER                         0\n",
       "BORROWER                       1\n",
       "SECTOR                         0\n",
       "SENSITIVE TERRITORY OVERLAP    0\n",
       "Country                        0\n",
       "dtype: int64"
      ]
     },
     "execution_count": 14,
     "metadata": {},
     "output_type": "execute_result"
    }
   ],
   "source": [
    "df.isnull().sum()"
   ]
  },
  {
   "cell_type": "code",
   "execution_count": 15,
   "id": "cda9fd41",
   "metadata": {},
   "outputs": [
    {
     "name": "stdout",
     "output_type": "stream",
     "text": [
      "BORROWER has 1 missing values\n",
      "\n",
      " 1 features have missing values\n"
     ]
    }
   ],
   "source": [
    "miss=0\n",
    "for i in df.columns:\n",
    "    if df[i].isnull().sum()>0:\n",
    "        miss+=1\n",
    "        print('{} has {} missing values'.format(i,df[i].isnull().sum()))\n",
    "print('\\n {} features have missing values'.format(miss))"
   ]
  },
  {
   "cell_type": "code",
   "execution_count": 16,
   "id": "02d42a1b",
   "metadata": {},
   "outputs": [
    {
     "data": {
      "text/html": [
       "<div>\n",
       "<style scoped>\n",
       "    .dataframe tbody tr th:only-of-type {\n",
       "        vertical-align: middle;\n",
       "    }\n",
       "\n",
       "    .dataframe tbody tr th {\n",
       "        vertical-align: top;\n",
       "    }\n",
       "\n",
       "    .dataframe thead th {\n",
       "        text-align: right;\n",
       "    }\n",
       "</style>\n",
       "<table border=\"1\" class=\"dataframe\">\n",
       "  <thead>\n",
       "    <tr style=\"text-align: right;\">\n",
       "      <th></th>\n",
       "      <th>Expand All | Collapse All</th>\n",
       "      <th>YEAR</th>\n",
       "      <th>AMOUNT</th>\n",
       "      <th>LENDER</th>\n",
       "      <th>BORROWER</th>\n",
       "      <th>SECTOR</th>\n",
       "      <th>SENSITIVE TERRITORY OVERLAP</th>\n",
       "      <th>Country</th>\n",
       "    </tr>\n",
       "  </thead>\n",
       "  <tbody>\n",
       "    <tr>\n",
       "      <th>802</th>\n",
       "      <td>Unspecified</td>\n",
       "      <td>2009</td>\n",
       "      <td>$500M</td>\n",
       "      <td>ExImBank</td>\n",
       "      <td>NaN</td>\n",
       "      <td>Mulit-sector/discretionary</td>\n",
       "      <td>None Known</td>\n",
       "      <td>Venezuela</td>\n",
       "    </tr>\n",
       "  </tbody>\n",
       "</table>\n",
       "</div>"
      ],
      "text/plain": [
       "    Expand All | Collapse All  YEAR AMOUNT    LENDER BORROWER  \\\n",
       "802               Unspecified  2009  $500M  ExImBank      NaN   \n",
       "\n",
       "                         SECTOR SENSITIVE TERRITORY OVERLAP    Country  \n",
       "802  Mulit-sector/discretionary                  None Known  Venezuela  "
      ]
     },
     "execution_count": 16,
     "metadata": {},
     "output_type": "execute_result"
    }
   ],
   "source": [
    "df[df['BORROWER'].isnull()]"
   ]
  },
  {
   "cell_type": "markdown",
   "id": "f3159ccf",
   "metadata": {},
   "source": [
    "to fill missing value sometimes it needs some explaration about the data. (domain knowledge)\n",
    "1. we have to check mode for the country\n",
    "2. we will consider other's column"
   ]
  },
  {
   "cell_type": "code",
   "execution_count": 17,
   "id": "c4e532b5",
   "metadata": {},
   "outputs": [],
   "source": [
    "Venezuela_df=df[df['Country']=='Venezuela'] # creating dataframe that stores only about venezuela because the missing value in Venezuela"
   ]
  },
  {
   "cell_type": "code",
   "execution_count": 18,
   "id": "276847dc",
   "metadata": {},
   "outputs": [
    {
     "data": {
      "text/html": [
       "<div>\n",
       "<style scoped>\n",
       "    .dataframe tbody tr th:only-of-type {\n",
       "        vertical-align: middle;\n",
       "    }\n",
       "\n",
       "    .dataframe tbody tr th {\n",
       "        vertical-align: top;\n",
       "    }\n",
       "\n",
       "    .dataframe thead th {\n",
       "        text-align: right;\n",
       "    }\n",
       "</style>\n",
       "<table border=\"1\" class=\"dataframe\">\n",
       "  <thead>\n",
       "    <tr style=\"text-align: right;\">\n",
       "      <th></th>\n",
       "      <th>Expand All | Collapse All</th>\n",
       "      <th>YEAR</th>\n",
       "      <th>AMOUNT</th>\n",
       "      <th>LENDER</th>\n",
       "      <th>BORROWER</th>\n",
       "      <th>SECTOR</th>\n",
       "      <th>SENSITIVE TERRITORY OVERLAP</th>\n",
       "      <th>Country</th>\n",
       "    </tr>\n",
       "  </thead>\n",
       "  <tbody>\n",
       "    <tr>\n",
       "      <th>188</th>\n",
       "      <td>CVG (mining)</td>\n",
       "      <td>2009</td>\n",
       "      <td>$1000M</td>\n",
       "      <td>CDB</td>\n",
       "      <td>Corporacion Venezolana de Guayana (CVG)</td>\n",
       "      <td>Extraction, pipelines</td>\n",
       "      <td>Within Critical Habitats</td>\n",
       "      <td>Venezuela</td>\n",
       "    </tr>\n",
       "    <tr>\n",
       "      <th>212</th>\n",
       "      <td>Discretionary</td>\n",
       "      <td>2012</td>\n",
       "      <td>$4.0B</td>\n",
       "      <td>CDB</td>\n",
       "      <td>Government</td>\n",
       "      <td>Mulit-sector/discretionary</td>\n",
       "      <td>None Known</td>\n",
       "      <td>Venezuela</td>\n",
       "    </tr>\n",
       "    <tr>\n",
       "      <th>213</th>\n",
       "      <td>Discretionary</td>\n",
       "      <td>2013</td>\n",
       "      <td>$5.0B</td>\n",
       "      <td>CDB</td>\n",
       "      <td>Government</td>\n",
       "      <td>Mulit-sector/discretionary</td>\n",
       "      <td>None Known</td>\n",
       "      <td>Venezuela</td>\n",
       "    </tr>\n",
       "    <tr>\n",
       "      <th>214</th>\n",
       "      <td>Discretionary</td>\n",
       "      <td>2014</td>\n",
       "      <td>$4.0B</td>\n",
       "      <td>ExImBank</td>\n",
       "      <td>Government</td>\n",
       "      <td>Mulit-sector/discretionary</td>\n",
       "      <td>None Known</td>\n",
       "      <td>Venezuela</td>\n",
       "    </tr>\n",
       "    <tr>\n",
       "      <th>215</th>\n",
       "      <td>Discretionary</td>\n",
       "      <td>2015</td>\n",
       "      <td>$5.0B</td>\n",
       "      <td>CDB</td>\n",
       "      <td>Government</td>\n",
       "      <td>Mulit-sector/discretionary</td>\n",
       "      <td>None Known</td>\n",
       "      <td>Venezuela</td>\n",
       "    </tr>\n",
       "    <tr>\n",
       "      <th>298</th>\n",
       "      <td>Freeway, power plant, heavy industry, housing ...</td>\n",
       "      <td>2010</td>\n",
       "      <td>$14.3B</td>\n",
       "      <td>CDB</td>\n",
       "      <td>Government</td>\n",
       "      <td>Mulit-sector/discretionary</td>\n",
       "      <td>None Known</td>\n",
       "      <td>Venezuela</td>\n",
       "    </tr>\n",
       "    <tr>\n",
       "      <th>299</th>\n",
       "      <td>Freeway, power plant, heavy industry, housing ...</td>\n",
       "      <td>2010</td>\n",
       "      <td>$6.0B</td>\n",
       "      <td>CDB</td>\n",
       "      <td>Government</td>\n",
       "      <td>Mulit-sector/discretionary</td>\n",
       "      <td>None Known</td>\n",
       "      <td>Venezuela</td>\n",
       "    </tr>\n",
       "    <tr>\n",
       "      <th>355</th>\n",
       "      <td>Increase Sinovensa Production in Orinoco</td>\n",
       "      <td>2013</td>\n",
       "      <td>$4.0B</td>\n",
       "      <td>CDB</td>\n",
       "      <td>Petróleos de Venezuela, S.A. (PDVSA)</td>\n",
       "      <td>Extraction, pipelines</td>\n",
       "      <td>None Known</td>\n",
       "      <td>Venezuela</td>\n",
       "    </tr>\n",
       "    <tr>\n",
       "      <th>416</th>\n",
       "      <td>Las Cristinas gold mine</td>\n",
       "      <td>2013</td>\n",
       "      <td>$700M</td>\n",
       "      <td>CDB</td>\n",
       "      <td>Government</td>\n",
       "      <td>Extraction, pipelines</td>\n",
       "      <td>Within Indigenous Peoples' Lands\\n Within Crit...</td>\n",
       "      <td>Venezuela</td>\n",
       "    </tr>\n",
       "    <tr>\n",
       "      <th>424</th>\n",
       "      <td>Loan for oil</td>\n",
       "      <td>2009</td>\n",
       "      <td>$4.0B</td>\n",
       "      <td>CDB</td>\n",
       "      <td>The Venezuelan Economic and Social Development...</td>\n",
       "      <td>Extraction, pipelines</td>\n",
       "      <td>None Known</td>\n",
       "      <td>Venezuela</td>\n",
       "    </tr>\n",
       "    <tr>\n",
       "      <th>494</th>\n",
       "      <td>Morón, Carabobo port</td>\n",
       "      <td>2013</td>\n",
       "      <td>$391M</td>\n",
       "      <td>ExImBank</td>\n",
       "      <td>Petróleos de Venezuela, S.A. (PDVSA)</td>\n",
       "      <td>Transport</td>\n",
       "      <td>None Known</td>\n",
       "      <td>Venezuela</td>\n",
       "    </tr>\n",
       "    <tr>\n",
       "      <th>556</th>\n",
       "      <td>New Dehydration and Desalination Plant; expans...</td>\n",
       "      <td>2016</td>\n",
       "      <td>$2.2B</td>\n",
       "      <td>CDB</td>\n",
       "      <td>Petróleos de Venezuela, S.A. (PDVSA)</td>\n",
       "      <td>Mulit-sector/discretionary</td>\n",
       "      <td>None Known</td>\n",
       "      <td>Venezuela</td>\n",
       "    </tr>\n",
       "    <tr>\n",
       "      <th>578</th>\n",
       "      <td>Oil refinery</td>\n",
       "      <td>2010</td>\n",
       "      <td>$1.1B</td>\n",
       "      <td>CDB</td>\n",
       "      <td>Petróleos de Venezuela, S.A. (PDVSA)</td>\n",
       "      <td>Manufacturing</td>\n",
       "      <td>None Known</td>\n",
       "      <td>Venezuela</td>\n",
       "    </tr>\n",
       "    <tr>\n",
       "      <th>586</th>\n",
       "      <td>Orinoco oil production</td>\n",
       "      <td>2011</td>\n",
       "      <td>$4.0B</td>\n",
       "      <td>CDB</td>\n",
       "      <td>The Venezuelan Economic and Social Development...</td>\n",
       "      <td>Extraction, pipelines</td>\n",
       "      <td>Within Indigenous Peoples' Lands\\n Within Crit...</td>\n",
       "      <td>Venezuela</td>\n",
       "    </tr>\n",
       "    <tr>\n",
       "      <th>606</th>\n",
       "      <td>PDVSA, credit to buy 40% share of Abreu e Lima...</td>\n",
       "      <td>2013</td>\n",
       "      <td>$1.5B</td>\n",
       "      <td>CDB</td>\n",
       "      <td>Petróleos de Venezuela, S.A. (PDVSA)</td>\n",
       "      <td>Extraction, pipelines</td>\n",
       "      <td>None Known</td>\n",
       "      <td>Venezuela</td>\n",
       "    </tr>\n",
       "    <tr>\n",
       "      <th>790</th>\n",
       "      <td>Trade support: oil-related goods</td>\n",
       "      <td>2012</td>\n",
       "      <td>$500M</td>\n",
       "      <td>CDB</td>\n",
       "      <td>Petróleos de Venezuela, S.A. (PDVSA)</td>\n",
       "      <td>Power</td>\n",
       "      <td>None Known</td>\n",
       "      <td>Venezuela</td>\n",
       "    </tr>\n",
       "    <tr>\n",
       "      <th>802</th>\n",
       "      <td>Unspecified</td>\n",
       "      <td>2009</td>\n",
       "      <td>$500M</td>\n",
       "      <td>ExImBank</td>\n",
       "      <td>NaN</td>\n",
       "      <td>Mulit-sector/discretionary</td>\n",
       "      <td>None Known</td>\n",
       "      <td>Venezuela</td>\n",
       "    </tr>\n",
       "  </tbody>\n",
       "</table>\n",
       "</div>"
      ],
      "text/plain": [
       "                             Expand All | Collapse All  YEAR  AMOUNT  \\\n",
       "188                                       CVG (mining)  2009  $1000M   \n",
       "212                                      Discretionary  2012   $4.0B   \n",
       "213                                      Discretionary  2013   $5.0B   \n",
       "214                                      Discretionary  2014   $4.0B   \n",
       "215                                      Discretionary  2015   $5.0B   \n",
       "298  Freeway, power plant, heavy industry, housing ...  2010  $14.3B   \n",
       "299  Freeway, power plant, heavy industry, housing ...  2010   $6.0B   \n",
       "355           Increase Sinovensa Production in Orinoco  2013   $4.0B   \n",
       "416                            Las Cristinas gold mine  2013   $700M   \n",
       "424                                       Loan for oil  2009   $4.0B   \n",
       "494                               Morón, Carabobo port  2013   $391M   \n",
       "556  New Dehydration and Desalination Plant; expans...  2016   $2.2B   \n",
       "578                                       Oil refinery  2010   $1.1B   \n",
       "586                             Orinoco oil production  2011   $4.0B   \n",
       "606  PDVSA, credit to buy 40% share of Abreu e Lima...  2013   $1.5B   \n",
       "790                   Trade support: oil-related goods  2012   $500M   \n",
       "802                                        Unspecified  2009   $500M   \n",
       "\n",
       "       LENDER                                           BORROWER  \\\n",
       "188       CDB            Corporacion Venezolana de Guayana (CVG)   \n",
       "212       CDB                                         Government   \n",
       "213       CDB                                         Government   \n",
       "214  ExImBank                                         Government   \n",
       "215       CDB                                         Government   \n",
       "298       CDB                                         Government   \n",
       "299       CDB                                         Government   \n",
       "355       CDB               Petróleos de Venezuela, S.A. (PDVSA)   \n",
       "416       CDB                                         Government   \n",
       "424       CDB  The Venezuelan Economic and Social Development...   \n",
       "494  ExImBank               Petróleos de Venezuela, S.A. (PDVSA)   \n",
       "556       CDB               Petróleos de Venezuela, S.A. (PDVSA)   \n",
       "578       CDB               Petróleos de Venezuela, S.A. (PDVSA)   \n",
       "586       CDB  The Venezuelan Economic and Social Development...   \n",
       "606       CDB               Petróleos de Venezuela, S.A. (PDVSA)   \n",
       "790       CDB               Petróleos de Venezuela, S.A. (PDVSA)   \n",
       "802  ExImBank                                                NaN   \n",
       "\n",
       "                         SECTOR  \\\n",
       "188       Extraction, pipelines   \n",
       "212  Mulit-sector/discretionary   \n",
       "213  Mulit-sector/discretionary   \n",
       "214  Mulit-sector/discretionary   \n",
       "215  Mulit-sector/discretionary   \n",
       "298  Mulit-sector/discretionary   \n",
       "299  Mulit-sector/discretionary   \n",
       "355       Extraction, pipelines   \n",
       "416       Extraction, pipelines   \n",
       "424       Extraction, pipelines   \n",
       "494                   Transport   \n",
       "556  Mulit-sector/discretionary   \n",
       "578               Manufacturing   \n",
       "586       Extraction, pipelines   \n",
       "606       Extraction, pipelines   \n",
       "790                       Power   \n",
       "802  Mulit-sector/discretionary   \n",
       "\n",
       "                           SENSITIVE TERRITORY OVERLAP    Country  \n",
       "188                           Within Critical Habitats  Venezuela  \n",
       "212                                         None Known  Venezuela  \n",
       "213                                         None Known  Venezuela  \n",
       "214                                         None Known  Venezuela  \n",
       "215                                         None Known  Venezuela  \n",
       "298                                         None Known  Venezuela  \n",
       "299                                         None Known  Venezuela  \n",
       "355                                         None Known  Venezuela  \n",
       "416  Within Indigenous Peoples' Lands\\n Within Crit...  Venezuela  \n",
       "424                                         None Known  Venezuela  \n",
       "494                                         None Known  Venezuela  \n",
       "556                                         None Known  Venezuela  \n",
       "578                                         None Known  Venezuela  \n",
       "586  Within Indigenous Peoples' Lands\\n Within Crit...  Venezuela  \n",
       "606                                         None Known  Venezuela  \n",
       "790                                         None Known  Venezuela  \n",
       "802                                         None Known  Venezuela  "
      ]
     },
     "execution_count": 18,
     "metadata": {},
     "output_type": "execute_result"
    }
   ],
   "source": [
    "Venezuela_df"
   ]
  },
  {
   "cell_type": "code",
   "execution_count": 20,
   "id": "89e81beb",
   "metadata": {},
   "outputs": [
    {
     "data": {
      "text/plain": [
       "0    Government\n",
       "dtype: object"
      ]
     },
     "execution_count": 20,
     "metadata": {},
     "output_type": "execute_result"
    }
   ],
   "source": [
    "Venezuela_df['BORROWER'].mode() # the most repeated borrower in Venzuela "
   ]
  },
  {
   "cell_type": "code",
   "execution_count": 21,
   "id": "f6042719",
   "metadata": {},
   "outputs": [
    {
     "data": {
      "text/html": [
       "<div>\n",
       "<style scoped>\n",
       "    .dataframe tbody tr th:only-of-type {\n",
       "        vertical-align: middle;\n",
       "    }\n",
       "\n",
       "    .dataframe tbody tr th {\n",
       "        vertical-align: top;\n",
       "    }\n",
       "\n",
       "    .dataframe thead th {\n",
       "        text-align: right;\n",
       "    }\n",
       "</style>\n",
       "<table border=\"1\" class=\"dataframe\">\n",
       "  <thead>\n",
       "    <tr style=\"text-align: right;\">\n",
       "      <th></th>\n",
       "      <th>Expand All | Collapse All</th>\n",
       "      <th>YEAR</th>\n",
       "      <th>AMOUNT</th>\n",
       "      <th>LENDER</th>\n",
       "      <th>BORROWER</th>\n",
       "      <th>SECTOR</th>\n",
       "      <th>SENSITIVE TERRITORY OVERLAP</th>\n",
       "      <th>Country</th>\n",
       "    </tr>\n",
       "  </thead>\n",
       "  <tbody>\n",
       "    <tr>\n",
       "      <th>802</th>\n",
       "      <td>Unspecified</td>\n",
       "      <td>2009</td>\n",
       "      <td>$500M</td>\n",
       "      <td>ExImBank</td>\n",
       "      <td>NaN</td>\n",
       "      <td>Mulit-sector/discretionary</td>\n",
       "      <td>None Known</td>\n",
       "      <td>Venezuela</td>\n",
       "    </tr>\n",
       "  </tbody>\n",
       "</table>\n",
       "</div>"
      ],
      "text/plain": [
       "    Expand All | Collapse All  YEAR AMOUNT    LENDER BORROWER  \\\n",
       "802               Unspecified  2009  $500M  ExImBank      NaN   \n",
       "\n",
       "                         SECTOR SENSITIVE TERRITORY OVERLAP    Country  \n",
       "802  Mulit-sector/discretionary                  None Known  Venezuela  "
      ]
     },
     "execution_count": 21,
     "metadata": {},
     "output_type": "execute_result"
    }
   ],
   "source": [
    "Venezuela_df[Venezuela_df['Expand All | Collapse All']=='Unspecified']"
   ]
  },
  {
   "cell_type": "code",
   "execution_count": 22,
   "id": "8dbbcb52",
   "metadata": {},
   "outputs": [
    {
     "data": {
      "text/html": [
       "<div>\n",
       "<style scoped>\n",
       "    .dataframe tbody tr th:only-of-type {\n",
       "        vertical-align: middle;\n",
       "    }\n",
       "\n",
       "    .dataframe tbody tr th {\n",
       "        vertical-align: top;\n",
       "    }\n",
       "\n",
       "    .dataframe thead th {\n",
       "        text-align: right;\n",
       "    }\n",
       "</style>\n",
       "<table border=\"1\" class=\"dataframe\">\n",
       "  <thead>\n",
       "    <tr style=\"text-align: right;\">\n",
       "      <th></th>\n",
       "      <th>Expand All | Collapse All</th>\n",
       "      <th>YEAR</th>\n",
       "      <th>AMOUNT</th>\n",
       "      <th>LENDER</th>\n",
       "      <th>BORROWER</th>\n",
       "      <th>SECTOR</th>\n",
       "      <th>SENSITIVE TERRITORY OVERLAP</th>\n",
       "      <th>Country</th>\n",
       "    </tr>\n",
       "  </thead>\n",
       "  <tbody>\n",
       "    <tr>\n",
       "      <th>212</th>\n",
       "      <td>Discretionary</td>\n",
       "      <td>2012</td>\n",
       "      <td>$4.0B</td>\n",
       "      <td>CDB</td>\n",
       "      <td>Government</td>\n",
       "      <td>Mulit-sector/discretionary</td>\n",
       "      <td>None Known</td>\n",
       "      <td>Venezuela</td>\n",
       "    </tr>\n",
       "    <tr>\n",
       "      <th>213</th>\n",
       "      <td>Discretionary</td>\n",
       "      <td>2013</td>\n",
       "      <td>$5.0B</td>\n",
       "      <td>CDB</td>\n",
       "      <td>Government</td>\n",
       "      <td>Mulit-sector/discretionary</td>\n",
       "      <td>None Known</td>\n",
       "      <td>Venezuela</td>\n",
       "    </tr>\n",
       "    <tr>\n",
       "      <th>214</th>\n",
       "      <td>Discretionary</td>\n",
       "      <td>2014</td>\n",
       "      <td>$4.0B</td>\n",
       "      <td>ExImBank</td>\n",
       "      <td>Government</td>\n",
       "      <td>Mulit-sector/discretionary</td>\n",
       "      <td>None Known</td>\n",
       "      <td>Venezuela</td>\n",
       "    </tr>\n",
       "    <tr>\n",
       "      <th>215</th>\n",
       "      <td>Discretionary</td>\n",
       "      <td>2015</td>\n",
       "      <td>$5.0B</td>\n",
       "      <td>CDB</td>\n",
       "      <td>Government</td>\n",
       "      <td>Mulit-sector/discretionary</td>\n",
       "      <td>None Known</td>\n",
       "      <td>Venezuela</td>\n",
       "    </tr>\n",
       "    <tr>\n",
       "      <th>298</th>\n",
       "      <td>Freeway, power plant, heavy industry, housing ...</td>\n",
       "      <td>2010</td>\n",
       "      <td>$14.3B</td>\n",
       "      <td>CDB</td>\n",
       "      <td>Government</td>\n",
       "      <td>Mulit-sector/discretionary</td>\n",
       "      <td>None Known</td>\n",
       "      <td>Venezuela</td>\n",
       "    </tr>\n",
       "    <tr>\n",
       "      <th>299</th>\n",
       "      <td>Freeway, power plant, heavy industry, housing ...</td>\n",
       "      <td>2010</td>\n",
       "      <td>$6.0B</td>\n",
       "      <td>CDB</td>\n",
       "      <td>Government</td>\n",
       "      <td>Mulit-sector/discretionary</td>\n",
       "      <td>None Known</td>\n",
       "      <td>Venezuela</td>\n",
       "    </tr>\n",
       "    <tr>\n",
       "      <th>556</th>\n",
       "      <td>New Dehydration and Desalination Plant; expans...</td>\n",
       "      <td>2016</td>\n",
       "      <td>$2.2B</td>\n",
       "      <td>CDB</td>\n",
       "      <td>Petróleos de Venezuela, S.A. (PDVSA)</td>\n",
       "      <td>Mulit-sector/discretionary</td>\n",
       "      <td>None Known</td>\n",
       "      <td>Venezuela</td>\n",
       "    </tr>\n",
       "    <tr>\n",
       "      <th>802</th>\n",
       "      <td>Unspecified</td>\n",
       "      <td>2009</td>\n",
       "      <td>$500M</td>\n",
       "      <td>ExImBank</td>\n",
       "      <td>NaN</td>\n",
       "      <td>Mulit-sector/discretionary</td>\n",
       "      <td>None Known</td>\n",
       "      <td>Venezuela</td>\n",
       "    </tr>\n",
       "  </tbody>\n",
       "</table>\n",
       "</div>"
      ],
      "text/plain": [
       "                             Expand All | Collapse All  YEAR  AMOUNT  \\\n",
       "212                                      Discretionary  2012   $4.0B   \n",
       "213                                      Discretionary  2013   $5.0B   \n",
       "214                                      Discretionary  2014   $4.0B   \n",
       "215                                      Discretionary  2015   $5.0B   \n",
       "298  Freeway, power plant, heavy industry, housing ...  2010  $14.3B   \n",
       "299  Freeway, power plant, heavy industry, housing ...  2010   $6.0B   \n",
       "556  New Dehydration and Desalination Plant; expans...  2016   $2.2B   \n",
       "802                                        Unspecified  2009   $500M   \n",
       "\n",
       "       LENDER                              BORROWER  \\\n",
       "212       CDB                            Government   \n",
       "213       CDB                            Government   \n",
       "214  ExImBank                            Government   \n",
       "215       CDB                            Government   \n",
       "298       CDB                            Government   \n",
       "299       CDB                            Government   \n",
       "556       CDB  Petróleos de Venezuela, S.A. (PDVSA)   \n",
       "802  ExImBank                                   NaN   \n",
       "\n",
       "                         SECTOR SENSITIVE TERRITORY OVERLAP    Country  \n",
       "212  Mulit-sector/discretionary                  None Known  Venezuela  \n",
       "213  Mulit-sector/discretionary                  None Known  Venezuela  \n",
       "214  Mulit-sector/discretionary                  None Known  Venezuela  \n",
       "215  Mulit-sector/discretionary                  None Known  Venezuela  \n",
       "298  Mulit-sector/discretionary                  None Known  Venezuela  \n",
       "299  Mulit-sector/discretionary                  None Known  Venezuela  \n",
       "556  Mulit-sector/discretionary                  None Known  Venezuela  \n",
       "802  Mulit-sector/discretionary                  None Known  Venezuela  "
      ]
     },
     "execution_count": 22,
     "metadata": {},
     "output_type": "execute_result"
    }
   ],
   "source": [
    "Venezuela_df[Venezuela_df['SECTOR']=='Mulit-sector/discretionary']"
   ]
  },
  {
   "cell_type": "code",
   "execution_count": 23,
   "id": "f304f868",
   "metadata": {},
   "outputs": [
    {
     "data": {
      "text/html": [
       "<div>\n",
       "<style scoped>\n",
       "    .dataframe tbody tr th:only-of-type {\n",
       "        vertical-align: middle;\n",
       "    }\n",
       "\n",
       "    .dataframe tbody tr th {\n",
       "        vertical-align: top;\n",
       "    }\n",
       "\n",
       "    .dataframe thead th {\n",
       "        text-align: right;\n",
       "    }\n",
       "</style>\n",
       "<table border=\"1\" class=\"dataframe\">\n",
       "  <thead>\n",
       "    <tr style=\"text-align: right;\">\n",
       "      <th></th>\n",
       "      <th>Expand All | Collapse All</th>\n",
       "      <th>YEAR</th>\n",
       "      <th>AMOUNT</th>\n",
       "      <th>LENDER</th>\n",
       "      <th>BORROWER</th>\n",
       "      <th>SECTOR</th>\n",
       "      <th>SENSITIVE TERRITORY OVERLAP</th>\n",
       "      <th>Country</th>\n",
       "    </tr>\n",
       "  </thead>\n",
       "  <tbody>\n",
       "    <tr>\n",
       "      <th>212</th>\n",
       "      <td>Discretionary</td>\n",
       "      <td>2012</td>\n",
       "      <td>$4.0B</td>\n",
       "      <td>CDB</td>\n",
       "      <td>Government</td>\n",
       "      <td>Mulit-sector/discretionary</td>\n",
       "      <td>None Known</td>\n",
       "      <td>Venezuela</td>\n",
       "    </tr>\n",
       "    <tr>\n",
       "      <th>213</th>\n",
       "      <td>Discretionary</td>\n",
       "      <td>2013</td>\n",
       "      <td>$5.0B</td>\n",
       "      <td>CDB</td>\n",
       "      <td>Government</td>\n",
       "      <td>Mulit-sector/discretionary</td>\n",
       "      <td>None Known</td>\n",
       "      <td>Venezuela</td>\n",
       "    </tr>\n",
       "    <tr>\n",
       "      <th>214</th>\n",
       "      <td>Discretionary</td>\n",
       "      <td>2014</td>\n",
       "      <td>$4.0B</td>\n",
       "      <td>ExImBank</td>\n",
       "      <td>Government</td>\n",
       "      <td>Mulit-sector/discretionary</td>\n",
       "      <td>None Known</td>\n",
       "      <td>Venezuela</td>\n",
       "    </tr>\n",
       "    <tr>\n",
       "      <th>215</th>\n",
       "      <td>Discretionary</td>\n",
       "      <td>2015</td>\n",
       "      <td>$5.0B</td>\n",
       "      <td>CDB</td>\n",
       "      <td>Government</td>\n",
       "      <td>Mulit-sector/discretionary</td>\n",
       "      <td>None Known</td>\n",
       "      <td>Venezuela</td>\n",
       "    </tr>\n",
       "    <tr>\n",
       "      <th>298</th>\n",
       "      <td>Freeway, power plant, heavy industry, housing ...</td>\n",
       "      <td>2010</td>\n",
       "      <td>$14.3B</td>\n",
       "      <td>CDB</td>\n",
       "      <td>Government</td>\n",
       "      <td>Mulit-sector/discretionary</td>\n",
       "      <td>None Known</td>\n",
       "      <td>Venezuela</td>\n",
       "    </tr>\n",
       "    <tr>\n",
       "      <th>299</th>\n",
       "      <td>Freeway, power plant, heavy industry, housing ...</td>\n",
       "      <td>2010</td>\n",
       "      <td>$6.0B</td>\n",
       "      <td>CDB</td>\n",
       "      <td>Government</td>\n",
       "      <td>Mulit-sector/discretionary</td>\n",
       "      <td>None Known</td>\n",
       "      <td>Venezuela</td>\n",
       "    </tr>\n",
       "    <tr>\n",
       "      <th>416</th>\n",
       "      <td>Las Cristinas gold mine</td>\n",
       "      <td>2013</td>\n",
       "      <td>$700M</td>\n",
       "      <td>CDB</td>\n",
       "      <td>Government</td>\n",
       "      <td>Extraction, pipelines</td>\n",
       "      <td>Within Indigenous Peoples' Lands\\n Within Crit...</td>\n",
       "      <td>Venezuela</td>\n",
       "    </tr>\n",
       "  </tbody>\n",
       "</table>\n",
       "</div>"
      ],
      "text/plain": [
       "                             Expand All | Collapse All  YEAR  AMOUNT  \\\n",
       "212                                      Discretionary  2012   $4.0B   \n",
       "213                                      Discretionary  2013   $5.0B   \n",
       "214                                      Discretionary  2014   $4.0B   \n",
       "215                                      Discretionary  2015   $5.0B   \n",
       "298  Freeway, power plant, heavy industry, housing ...  2010  $14.3B   \n",
       "299  Freeway, power plant, heavy industry, housing ...  2010   $6.0B   \n",
       "416                            Las Cristinas gold mine  2013   $700M   \n",
       "\n",
       "       LENDER    BORROWER                      SECTOR  \\\n",
       "212       CDB  Government  Mulit-sector/discretionary   \n",
       "213       CDB  Government  Mulit-sector/discretionary   \n",
       "214  ExImBank  Government  Mulit-sector/discretionary   \n",
       "215       CDB  Government  Mulit-sector/discretionary   \n",
       "298       CDB  Government  Mulit-sector/discretionary   \n",
       "299       CDB  Government  Mulit-sector/discretionary   \n",
       "416       CDB  Government       Extraction, pipelines   \n",
       "\n",
       "                           SENSITIVE TERRITORY OVERLAP    Country  \n",
       "212                                         None Known  Venezuela  \n",
       "213                                         None Known  Venezuela  \n",
       "214                                         None Known  Venezuela  \n",
       "215                                         None Known  Venezuela  \n",
       "298                                         None Known  Venezuela  \n",
       "299                                         None Known  Venezuela  \n",
       "416  Within Indigenous Peoples' Lands\\n Within Crit...  Venezuela  "
      ]
     },
     "execution_count": 23,
     "metadata": {},
     "output_type": "execute_result"
    }
   ],
   "source": [
    "Venezuela_df[Venezuela_df['BORROWER']=='Government']"
   ]
  },
  {
   "cell_type": "markdown",
   "id": "cf7da265",
   "metadata": {},
   "source": [
    "this dataset has only one missing value.\n",
    "based on the above some explorations, we can inpute Government as borrower. because Government mostly borrowed for multi-sector/discretionality in venezuela."
   ]
  },
  {
   "cell_type": "code",
   "execution_count": 24,
   "id": "cfb771be",
   "metadata": {},
   "outputs": [
    {
     "data": {
      "text/plain": [
       "Expand All | Collapse All      0\n",
       "YEAR                           0\n",
       "AMOUNT                         0\n",
       "LENDER                         0\n",
       "BORROWER                       0\n",
       "SECTOR                         0\n",
       "SENSITIVE TERRITORY OVERLAP    0\n",
       "Country                        0\n",
       "dtype: int64"
      ]
     },
     "execution_count": 24,
     "metadata": {},
     "output_type": "execute_result"
    }
   ],
   "source": [
    "# imputing missing value\n",
    "df.fillna('Government',inplace=True)\n",
    "df.isnull().sum()"
   ]
  },
  {
   "cell_type": "markdown",
   "id": "ce7387e0",
   "metadata": {},
   "source": [
    "#### transformation"
   ]
  },
  {
   "cell_type": "code",
   "execution_count": 25,
   "id": "59ad801e",
   "metadata": {},
   "outputs": [
    {
     "data": {
      "text/html": [
       "<div>\n",
       "<style scoped>\n",
       "    .dataframe tbody tr th:only-of-type {\n",
       "        vertical-align: middle;\n",
       "    }\n",
       "\n",
       "    .dataframe tbody tr th {\n",
       "        vertical-align: top;\n",
       "    }\n",
       "\n",
       "    .dataframe thead th {\n",
       "        text-align: right;\n",
       "    }\n",
       "</style>\n",
       "<table border=\"1\" class=\"dataframe\">\n",
       "  <thead>\n",
       "    <tr style=\"text-align: right;\">\n",
       "      <th></th>\n",
       "      <th>Expand All | Collapse All</th>\n",
       "      <th>YEAR</th>\n",
       "      <th>AMOUNT</th>\n",
       "      <th>LENDER</th>\n",
       "      <th>BORROWER</th>\n",
       "      <th>SECTOR</th>\n",
       "      <th>SENSITIVE TERRITORY OVERLAP</th>\n",
       "      <th>Country</th>\n",
       "      <th>amount ($)</th>\n",
       "    </tr>\n",
       "  </thead>\n",
       "  <tbody>\n",
       "    <tr>\n",
       "      <th>0</th>\n",
       "      <td>“Lar Patriota\" Infrastructure (Phase 1)</td>\n",
       "      <td>2011</td>\n",
       "      <td>$50M</td>\n",
       "      <td>CDB</td>\n",
       "      <td>Government</td>\n",
       "      <td>Transport</td>\n",
       "      <td>None Known</td>\n",
       "      <td>Angola</td>\n",
       "      <td>50.0</td>\n",
       "    </tr>\n",
       "    <tr>\n",
       "      <th>1</th>\n",
       "      <td>10-Year Oil Supply Plan (10Mt/Year), \"Oil for ...</td>\n",
       "      <td>2009</td>\n",
       "      <td>$7.0B</td>\n",
       "      <td>CDB</td>\n",
       "      <td>Petrobras</td>\n",
       "      <td>Extraction, pipelines</td>\n",
       "      <td>None Known</td>\n",
       "      <td>Brazil</td>\n",
       "      <td>70.0</td>\n",
       "    </tr>\n",
       "    <tr>\n",
       "      <th>2</th>\n",
       "      <td>1000 housing project</td>\n",
       "      <td>2012</td>\n",
       "      <td>$47M</td>\n",
       "      <td>ExImBank</td>\n",
       "      <td>Government</td>\n",
       "      <td>Government</td>\n",
       "      <td>None Known</td>\n",
       "      <td>Suriname</td>\n",
       "      <td>47.0</td>\n",
       "    </tr>\n",
       "    <tr>\n",
       "      <th>3</th>\n",
       "      <td>115kV Transmission Line and Substation from Ph...</td>\n",
       "      <td>2009</td>\n",
       "      <td>$475M</td>\n",
       "      <td>ExImBank</td>\n",
       "      <td>Electricite Du Cambodge</td>\n",
       "      <td>Power</td>\n",
       "      <td>None Known</td>\n",
       "      <td>Cambodia</td>\n",
       "      <td>475.0</td>\n",
       "    </tr>\n",
       "    <tr>\n",
       "      <th>4</th>\n",
       "      <td>151 Multisector infrastructure projects</td>\n",
       "      <td>2016</td>\n",
       "      <td>$600M</td>\n",
       "      <td>CDB</td>\n",
       "      <td>Central Bank of Kenya</td>\n",
       "      <td>Mulit-sector/discretionary</td>\n",
       "      <td>None Known</td>\n",
       "      <td>Kenya</td>\n",
       "      <td>600.0</td>\n",
       "    </tr>\n",
       "  </tbody>\n",
       "</table>\n",
       "</div>"
      ],
      "text/plain": [
       "                           Expand All | Collapse All  YEAR AMOUNT    LENDER  \\\n",
       "0            “Lar Patriota\" Infrastructure (Phase 1)  2011   $50M       CDB   \n",
       "1  10-Year Oil Supply Plan (10Mt/Year), \"Oil for ...  2009  $7.0B       CDB   \n",
       "2                               1000 housing project  2012   $47M  ExImBank   \n",
       "3  115kV Transmission Line and Substation from Ph...  2009  $475M  ExImBank   \n",
       "4            151 Multisector infrastructure projects  2016  $600M       CDB   \n",
       "\n",
       "                  BORROWER                      SECTOR  \\\n",
       "0               Government                   Transport   \n",
       "1                Petrobras       Extraction, pipelines   \n",
       "2               Government                  Government   \n",
       "3  Electricite Du Cambodge                       Power   \n",
       "4    Central Bank of Kenya  Mulit-sector/discretionary   \n",
       "\n",
       "  SENSITIVE TERRITORY OVERLAP   Country  amount ($)  \n",
       "0                  None Known    Angola        50.0  \n",
       "1                  None Known    Brazil        70.0  \n",
       "2                  None Known  Suriname        47.0  \n",
       "3                  None Known  Cambodia       475.0  \n",
       "4                  None Known     Kenya       600.0  "
      ]
     },
     "execution_count": 25,
     "metadata": {},
     "output_type": "execute_result"
    }
   ],
   "source": [
    "# to extract number from text and change the data type to float\n",
    "# refer https://www.pauldesalvo.com/how-to-extract-all-numbers-from-a-string-column-in-python-pandas/ for detailed info\n",
    "df['amount ($)'] = df['AMOUNT'].astype('str').str.extractall('(\\d+)').unstack().fillna('').sum(axis=1).astype(float)\n",
    "df.head()"
   ]
  },
  {
   "cell_type": "code",
   "execution_count": 26,
   "id": "5130afca",
   "metadata": {},
   "outputs": [
    {
     "name": "stderr",
     "output_type": "stream",
     "text": [
      "C:\\Users\\KIIT\\AppData\\Local\\Temp/ipykernel_41740/1344107115.py:2: FutureWarning: The default value of regex will change from True to False in a future version.\n",
      "  df['AMOUNT'] = df.AMOUNT.str.replace('\\d+', '')\n"
     ]
    },
    {
     "data": {
      "text/html": [
       "<div>\n",
       "<style scoped>\n",
       "    .dataframe tbody tr th:only-of-type {\n",
       "        vertical-align: middle;\n",
       "    }\n",
       "\n",
       "    .dataframe tbody tr th {\n",
       "        vertical-align: top;\n",
       "    }\n",
       "\n",
       "    .dataframe thead th {\n",
       "        text-align: right;\n",
       "    }\n",
       "</style>\n",
       "<table border=\"1\" class=\"dataframe\">\n",
       "  <thead>\n",
       "    <tr style=\"text-align: right;\">\n",
       "      <th></th>\n",
       "      <th>Expand All | Collapse All</th>\n",
       "      <th>YEAR</th>\n",
       "      <th>AMOUNT</th>\n",
       "      <th>LENDER</th>\n",
       "      <th>BORROWER</th>\n",
       "      <th>SECTOR</th>\n",
       "      <th>SENSITIVE TERRITORY OVERLAP</th>\n",
       "      <th>Country</th>\n",
       "      <th>amount ($)</th>\n",
       "    </tr>\n",
       "  </thead>\n",
       "  <tbody>\n",
       "    <tr>\n",
       "      <th>0</th>\n",
       "      <td>“Lar Patriota\" Infrastructure (Phase 1)</td>\n",
       "      <td>2011</td>\n",
       "      <td>$M</td>\n",
       "      <td>CDB</td>\n",
       "      <td>Government</td>\n",
       "      <td>Transport</td>\n",
       "      <td>None Known</td>\n",
       "      <td>Angola</td>\n",
       "      <td>50.0</td>\n",
       "    </tr>\n",
       "    <tr>\n",
       "      <th>1</th>\n",
       "      <td>10-Year Oil Supply Plan (10Mt/Year), \"Oil for ...</td>\n",
       "      <td>2009</td>\n",
       "      <td>$.B</td>\n",
       "      <td>CDB</td>\n",
       "      <td>Petrobras</td>\n",
       "      <td>Extraction, pipelines</td>\n",
       "      <td>None Known</td>\n",
       "      <td>Brazil</td>\n",
       "      <td>70.0</td>\n",
       "    </tr>\n",
       "    <tr>\n",
       "      <th>2</th>\n",
       "      <td>1000 housing project</td>\n",
       "      <td>2012</td>\n",
       "      <td>$M</td>\n",
       "      <td>ExImBank</td>\n",
       "      <td>Government</td>\n",
       "      <td>Government</td>\n",
       "      <td>None Known</td>\n",
       "      <td>Suriname</td>\n",
       "      <td>47.0</td>\n",
       "    </tr>\n",
       "    <tr>\n",
       "      <th>3</th>\n",
       "      <td>115kV Transmission Line and Substation from Ph...</td>\n",
       "      <td>2009</td>\n",
       "      <td>$M</td>\n",
       "      <td>ExImBank</td>\n",
       "      <td>Electricite Du Cambodge</td>\n",
       "      <td>Power</td>\n",
       "      <td>None Known</td>\n",
       "      <td>Cambodia</td>\n",
       "      <td>475.0</td>\n",
       "    </tr>\n",
       "    <tr>\n",
       "      <th>4</th>\n",
       "      <td>151 Multisector infrastructure projects</td>\n",
       "      <td>2016</td>\n",
       "      <td>$M</td>\n",
       "      <td>CDB</td>\n",
       "      <td>Central Bank of Kenya</td>\n",
       "      <td>Mulit-sector/discretionary</td>\n",
       "      <td>None Known</td>\n",
       "      <td>Kenya</td>\n",
       "      <td>600.0</td>\n",
       "    </tr>\n",
       "  </tbody>\n",
       "</table>\n",
       "</div>"
      ],
      "text/plain": [
       "                           Expand All | Collapse All  YEAR AMOUNT    LENDER  \\\n",
       "0            “Lar Patriota\" Infrastructure (Phase 1)  2011     $M       CDB   \n",
       "1  10-Year Oil Supply Plan (10Mt/Year), \"Oil for ...  2009    $.B       CDB   \n",
       "2                               1000 housing project  2012     $M  ExImBank   \n",
       "3  115kV Transmission Line and Substation from Ph...  2009     $M  ExImBank   \n",
       "4            151 Multisector infrastructure projects  2016     $M       CDB   \n",
       "\n",
       "                  BORROWER                      SECTOR  \\\n",
       "0               Government                   Transport   \n",
       "1                Petrobras       Extraction, pipelines   \n",
       "2               Government                  Government   \n",
       "3  Electricite Du Cambodge                       Power   \n",
       "4    Central Bank of Kenya  Mulit-sector/discretionary   \n",
       "\n",
       "  SENSITIVE TERRITORY OVERLAP   Country  amount ($)  \n",
       "0                  None Known    Angola        50.0  \n",
       "1                  None Known    Brazil        70.0  \n",
       "2                  None Known  Suriname        47.0  \n",
       "3                  None Known  Cambodia       475.0  \n",
       "4                  None Known     Kenya       600.0  "
      ]
     },
     "execution_count": 26,
     "metadata": {},
     "output_type": "execute_result"
    }
   ],
   "source": [
    "# to remove number from AMOUNT column, to extract the value that is B or M\n",
    "df['AMOUNT'] = df.AMOUNT.str.replace('\\d+', '')\n",
    "df.head()"
   ]
  },
  {
   "cell_type": "code",
   "execution_count": 27,
   "id": "28e0527e",
   "metadata": {},
   "outputs": [
    {
     "data": {
      "text/plain": [
       "$M     764\n",
       "$.B     94\n",
       "Name: AMOUNT, dtype: int64"
      ]
     },
     "execution_count": 27,
     "metadata": {},
     "output_type": "execute_result"
    }
   ],
   "source": [
    "df.AMOUNT.value_counts()"
   ]
  },
  {
   "cell_type": "code",
   "execution_count": 28,
   "id": "d9d105aa",
   "metadata": {},
   "outputs": [],
   "source": [
    "# $M means 10lakh, $.B means 10000Lakh (change the value in lakh)\n",
    "df['AMOUNT'].replace('$M',10,inplace=True)\n",
    "df['AMOUNT'].replace('$.B',10000,inplace=True)\n",
    "df['AMOUNT']=df['AMOUNT'].astype(int) # changing the datatype\n",
    "df['amount ($)']=df['amount ($)']*df['AMOUNT'] # multiple the value by amount (eg. 10 M=100)\n",
    "df.drop('AMOUNT',axis=1,inplace=True) # drop because we don't use sinse"
   ]
  },
  {
   "cell_type": "code",
   "execution_count": 29,
   "id": "b663d351",
   "metadata": {},
   "outputs": [
    {
     "data": {
      "text/html": [
       "<div>\n",
       "<style scoped>\n",
       "    .dataframe tbody tr th:only-of-type {\n",
       "        vertical-align: middle;\n",
       "    }\n",
       "\n",
       "    .dataframe tbody tr th {\n",
       "        vertical-align: top;\n",
       "    }\n",
       "\n",
       "    .dataframe thead th {\n",
       "        text-align: right;\n",
       "    }\n",
       "</style>\n",
       "<table border=\"1\" class=\"dataframe\">\n",
       "  <thead>\n",
       "    <tr style=\"text-align: right;\">\n",
       "      <th></th>\n",
       "      <th>Expand All | Collapse All</th>\n",
       "      <th>YEAR</th>\n",
       "      <th>LENDER</th>\n",
       "      <th>BORROWER</th>\n",
       "      <th>SECTOR</th>\n",
       "      <th>SENSITIVE TERRITORY OVERLAP</th>\n",
       "      <th>Country</th>\n",
       "      <th>amount in lakh ($)</th>\n",
       "    </tr>\n",
       "  </thead>\n",
       "  <tbody>\n",
       "    <tr>\n",
       "      <th>0</th>\n",
       "      <td>“Lar Patriota\" Infrastructure (Phase 1)</td>\n",
       "      <td>2011</td>\n",
       "      <td>CDB</td>\n",
       "      <td>Government</td>\n",
       "      <td>Transport</td>\n",
       "      <td>None Known</td>\n",
       "      <td>Angola</td>\n",
       "      <td>500.0</td>\n",
       "    </tr>\n",
       "    <tr>\n",
       "      <th>1</th>\n",
       "      <td>10-Year Oil Supply Plan (10Mt/Year), \"Oil for ...</td>\n",
       "      <td>2009</td>\n",
       "      <td>CDB</td>\n",
       "      <td>Petrobras</td>\n",
       "      <td>Extraction, pipelines</td>\n",
       "      <td>None Known</td>\n",
       "      <td>Brazil</td>\n",
       "      <td>700000.0</td>\n",
       "    </tr>\n",
       "    <tr>\n",
       "      <th>2</th>\n",
       "      <td>1000 housing project</td>\n",
       "      <td>2012</td>\n",
       "      <td>ExImBank</td>\n",
       "      <td>Government</td>\n",
       "      <td>Government</td>\n",
       "      <td>None Known</td>\n",
       "      <td>Suriname</td>\n",
       "      <td>470.0</td>\n",
       "    </tr>\n",
       "    <tr>\n",
       "      <th>3</th>\n",
       "      <td>115kV Transmission Line and Substation from Ph...</td>\n",
       "      <td>2009</td>\n",
       "      <td>ExImBank</td>\n",
       "      <td>Electricite Du Cambodge</td>\n",
       "      <td>Power</td>\n",
       "      <td>None Known</td>\n",
       "      <td>Cambodia</td>\n",
       "      <td>4750.0</td>\n",
       "    </tr>\n",
       "    <tr>\n",
       "      <th>4</th>\n",
       "      <td>151 Multisector infrastructure projects</td>\n",
       "      <td>2016</td>\n",
       "      <td>CDB</td>\n",
       "      <td>Central Bank of Kenya</td>\n",
       "      <td>Mulit-sector/discretionary</td>\n",
       "      <td>None Known</td>\n",
       "      <td>Kenya</td>\n",
       "      <td>6000.0</td>\n",
       "    </tr>\n",
       "  </tbody>\n",
       "</table>\n",
       "</div>"
      ],
      "text/plain": [
       "                           Expand All | Collapse All  YEAR    LENDER  \\\n",
       "0            “Lar Patriota\" Infrastructure (Phase 1)  2011       CDB   \n",
       "1  10-Year Oil Supply Plan (10Mt/Year), \"Oil for ...  2009       CDB   \n",
       "2                               1000 housing project  2012  ExImBank   \n",
       "3  115kV Transmission Line and Substation from Ph...  2009  ExImBank   \n",
       "4            151 Multisector infrastructure projects  2016       CDB   \n",
       "\n",
       "                  BORROWER                      SECTOR  \\\n",
       "0               Government                   Transport   \n",
       "1                Petrobras       Extraction, pipelines   \n",
       "2               Government                  Government   \n",
       "3  Electricite Du Cambodge                       Power   \n",
       "4    Central Bank of Kenya  Mulit-sector/discretionary   \n",
       "\n",
       "  SENSITIVE TERRITORY OVERLAP   Country  amount in lakh ($)  \n",
       "0                  None Known    Angola               500.0  \n",
       "1                  None Known    Brazil            700000.0  \n",
       "2                  None Known  Suriname               470.0  \n",
       "3                  None Known  Cambodia              4750.0  \n",
       "4                  None Known     Kenya              6000.0  "
      ]
     },
     "execution_count": 29,
     "metadata": {},
     "output_type": "execute_result"
    }
   ],
   "source": [
    "df.rename(columns={'amount ($)':'amount in lakh ($)'},inplace=True)# renaming the column name to give some discreption\n",
    "df.head()"
   ]
  },
  {
   "cell_type": "code",
   "execution_count": 133,
   "id": "62c93569",
   "metadata": {},
   "outputs": [],
   "source": [
    "# exporting the transformed dataset to build dashboard on Power BI\n",
    "df.to_csv('china_loan_transformed.csv', index=False)"
   ]
  },
  {
   "cell_type": "markdown",
   "id": "b328bf16",
   "metadata": {},
   "source": [
    "### categorical analysis"
   ]
  },
  {
   "cell_type": "code",
   "execution_count": 30,
   "id": "f95cbdb3",
   "metadata": {},
   "outputs": [
    {
     "name": "stdout",
     "output_type": "stream",
     "text": [
      "<class 'pandas.core.frame.DataFrame'>\n",
      "RangeIndex: 858 entries, 0 to 857\n",
      "Data columns (total 8 columns):\n",
      " #   Column                       Non-Null Count  Dtype  \n",
      "---  ------                       --------------  -----  \n",
      " 0   Expand All | Collapse All    858 non-null    object \n",
      " 1   YEAR                         858 non-null    int64  \n",
      " 2   LENDER                       858 non-null    object \n",
      " 3   BORROWER                     858 non-null    object \n",
      " 4   SECTOR                       858 non-null    object \n",
      " 5   SENSITIVE TERRITORY OVERLAP  858 non-null    object \n",
      " 6   Country                      858 non-null    object \n",
      " 7   amount in lakh ($)           858 non-null    float64\n",
      "dtypes: float64(1), int64(1), object(6)\n",
      "memory usage: 53.8+ KB\n"
     ]
    }
   ],
   "source": [
    "df.info()"
   ]
  },
  {
   "cell_type": "code",
   "execution_count": 31,
   "id": "b9427434",
   "metadata": {},
   "outputs": [
    {
     "data": {
      "text/html": [
       "<div>\n",
       "<style scoped>\n",
       "    .dataframe tbody tr th:only-of-type {\n",
       "        vertical-align: middle;\n",
       "    }\n",
       "\n",
       "    .dataframe tbody tr th {\n",
       "        vertical-align: top;\n",
       "    }\n",
       "\n",
       "    .dataframe thead th {\n",
       "        text-align: right;\n",
       "    }\n",
       "</style>\n",
       "<table border=\"1\" class=\"dataframe\">\n",
       "  <thead>\n",
       "    <tr style=\"text-align: right;\">\n",
       "      <th></th>\n",
       "      <th>Expand All | Collapse All</th>\n",
       "      <th>YEAR</th>\n",
       "      <th>LENDER</th>\n",
       "      <th>BORROWER</th>\n",
       "      <th>SECTOR</th>\n",
       "      <th>SENSITIVE TERRITORY OVERLAP</th>\n",
       "      <th>Country</th>\n",
       "      <th>amount in lakh ($)</th>\n",
       "    </tr>\n",
       "  </thead>\n",
       "  <tbody>\n",
       "    <tr>\n",
       "      <th>0</th>\n",
       "      <td>“Lar Patriota\" Infrastructure (Phase 1)</td>\n",
       "      <td>2011</td>\n",
       "      <td>CDB</td>\n",
       "      <td>Government</td>\n",
       "      <td>Transport</td>\n",
       "      <td>None Known</td>\n",
       "      <td>Angola</td>\n",
       "      <td>500.0</td>\n",
       "    </tr>\n",
       "    <tr>\n",
       "      <th>1</th>\n",
       "      <td>10-Year Oil Supply Plan (10Mt/Year), \"Oil for ...</td>\n",
       "      <td>2009</td>\n",
       "      <td>CDB</td>\n",
       "      <td>Petrobras</td>\n",
       "      <td>Extraction, pipelines</td>\n",
       "      <td>None Known</td>\n",
       "      <td>Brazil</td>\n",
       "      <td>700000.0</td>\n",
       "    </tr>\n",
       "    <tr>\n",
       "      <th>2</th>\n",
       "      <td>1000 housing project</td>\n",
       "      <td>2012</td>\n",
       "      <td>ExImBank</td>\n",
       "      <td>Government</td>\n",
       "      <td>Government</td>\n",
       "      <td>None Known</td>\n",
       "      <td>Suriname</td>\n",
       "      <td>470.0</td>\n",
       "    </tr>\n",
       "    <tr>\n",
       "      <th>3</th>\n",
       "      <td>115kV Transmission Line and Substation from Ph...</td>\n",
       "      <td>2009</td>\n",
       "      <td>ExImBank</td>\n",
       "      <td>Electricite Du Cambodge</td>\n",
       "      <td>Power</td>\n",
       "      <td>None Known</td>\n",
       "      <td>Cambodia</td>\n",
       "      <td>4750.0</td>\n",
       "    </tr>\n",
       "    <tr>\n",
       "      <th>4</th>\n",
       "      <td>151 Multisector infrastructure projects</td>\n",
       "      <td>2016</td>\n",
       "      <td>CDB</td>\n",
       "      <td>Central Bank of Kenya</td>\n",
       "      <td>Mulit-sector/discretionary</td>\n",
       "      <td>None Known</td>\n",
       "      <td>Kenya</td>\n",
       "      <td>6000.0</td>\n",
       "    </tr>\n",
       "  </tbody>\n",
       "</table>\n",
       "</div>"
      ],
      "text/plain": [
       "                           Expand All | Collapse All  YEAR    LENDER  \\\n",
       "0            “Lar Patriota\" Infrastructure (Phase 1)  2011       CDB   \n",
       "1  10-Year Oil Supply Plan (10Mt/Year), \"Oil for ...  2009       CDB   \n",
       "2                               1000 housing project  2012  ExImBank   \n",
       "3  115kV Transmission Line and Substation from Ph...  2009  ExImBank   \n",
       "4            151 Multisector infrastructure projects  2016       CDB   \n",
       "\n",
       "                  BORROWER                      SECTOR  \\\n",
       "0               Government                   Transport   \n",
       "1                Petrobras       Extraction, pipelines   \n",
       "2               Government                  Government   \n",
       "3  Electricite Du Cambodge                       Power   \n",
       "4    Central Bank of Kenya  Mulit-sector/discretionary   \n",
       "\n",
       "  SENSITIVE TERRITORY OVERLAP   Country  amount in lakh ($)  \n",
       "0                  None Known    Angola               500.0  \n",
       "1                  None Known    Brazil            700000.0  \n",
       "2                  None Known  Suriname               470.0  \n",
       "3                  None Known  Cambodia              4750.0  \n",
       "4                  None Known     Kenya              6000.0  "
      ]
     },
     "execution_count": 31,
     "metadata": {},
     "output_type": "execute_result"
    }
   ],
   "source": [
    "df.head()"
   ]
  },
  {
   "cell_type": "code",
   "execution_count": 32,
   "id": "52332309",
   "metadata": {},
   "outputs": [
    {
     "data": {
      "text/plain": [
       "Index(['Expand All | Collapse All', 'YEAR', 'LENDER', 'BORROWER', 'SECTOR',\n",
       "       'SENSITIVE TERRITORY OVERLAP', 'Country', 'amount in lakh ($)'],\n",
       "      dtype='object')"
      ]
     },
     "execution_count": 32,
     "metadata": {},
     "output_type": "execute_result"
    }
   ],
   "source": [
    "df.columns"
   ]
  },
  {
   "cell_type": "code",
   "execution_count": 33,
   "id": "3022d2a8",
   "metadata": {},
   "outputs": [
    {
     "name": "stderr",
     "output_type": "stream",
     "text": [
      "C:\\Users\\KIIT\\anaconda3\\lib\\site-packages\\seaborn\\_decorators.py:36: FutureWarning: Pass the following variable as a keyword arg: x. From version 0.12, the only valid positional argument will be `data`, and passing other arguments without an explicit keyword will result in an error or misinterpretation.\n",
      "  warnings.warn(\n"
     ]
    },
    {
     "data": {
      "text/plain": [
       "<AxesSubplot:xlabel='SENSITIVE TERRITORY OVERLAP', ylabel='count'>"
      ]
     },
     "execution_count": 33,
     "metadata": {},
     "output_type": "execute_result"
    },
    {
     "data": {
      "image/png": "[encoded data removed]",
      "text/plain": [
       "<Figure size 432x288 with 1 Axes>"
      ]
     },
     "metadata": {
      "needs_background": "light"
     },
     "output_type": "display_data"
    }
   ],
   "source": [
    "plt.xticks(rotation=90)\n",
    "sns.countplot('SENSITIVE TERRITORY OVERLAP',data=df)"
   ]
  },
  {
   "cell_type": "raw",
   "id": "5be8e6ef",
   "metadata": {},
   "source": [
    "observation: \n",
    "    none Known teritory mostly borrowed from china"
   ]
  },
  {
   "cell_type": "code",
   "execution_count": 34,
   "id": "3a630bc1",
   "metadata": {},
   "outputs": [
    {
     "data": {
      "text/plain": [
       "array(['Angola', 'Brazil', 'Suriname', 'Cambodia', 'Kenya',\n",
       "       'Congo, Democratic Republic of the', 'Laos', 'Bangladesh',\n",
       "       'Nigeria', 'Benin', 'Zambia', 'Bahamas', \"Cote d'Ivoire\",\n",
       "       'Ethiopia', 'Djibouti', 'Indonesia', 'Togo', 'Philippines',\n",
       "       'Myanmar', 'Mozambique', 'Eritrea', 'Ukraine', 'South Sudan',\n",
       "       'Sudan', 'Kyrgyz Republic', 'Uzbekistan', 'Ecuador', 'Mauritania',\n",
       "       'Kazakhstan', 'Jordan', 'Niger', 'Mauritius', 'Pakistan', 'Mali',\n",
       "       'Hungary', 'Serbia', 'Belarus', 'Morocco', 'Regional', 'Malawi',\n",
       "       'Egypt', 'Tanzania', 'Congo, Republic of the', 'Fiji', 'Nepal',\n",
       "       'Rwanda', 'Ghana', 'Senegal', 'Sri Lanka', 'Argentina', 'Guyana',\n",
       "       'Trinidad and Tobago', 'Maldives', 'Bolivia', 'Vietnam', 'Gabon',\n",
       "       'Montenegro', 'Papua New Guinea', 'Samoa', 'Iran', 'Cameroon',\n",
       "       'Venezuela', 'Timor-Leste', 'Peru', 'Tajikistan', 'Malaysia',\n",
       "       'Dominican Republic', 'Uganda', 'Russian Federation', 'Madagascar',\n",
       "       'Turkmenistan', 'Jamaica', 'Gambia', 'Lesotho', 'Zimbabwe',\n",
       "       'Mongolia', 'Cuba', 'Guinea', 'Macedonia', 'Vanuatu',\n",
       "       'Equatorial Guinea', 'Grenada', 'South Africa', 'Namibia', 'Chad',\n",
       "       'Tonga', 'Barbados', 'Liberia', 'Costa Rica', 'Antigua & Barbuda',\n",
       "       'Comoros', 'Mexico', 'Tunisia', 'Bosnia & Herzegovina'],\n",
       "      dtype=object)"
      ]
     },
     "execution_count": 34,
     "metadata": {},
     "output_type": "execute_result"
    }
   ],
   "source": [
    "# countries\n",
    "df['Country'].unique()"
   ]
  },
  {
   "cell_type": "code",
   "execution_count": 35,
   "id": "3b8cfe5f",
   "metadata": {},
   "outputs": [
    {
     "data": {
      "text/plain": [
       "94"
      ]
     },
     "execution_count": 35,
     "metadata": {},
     "output_type": "execute_result"
    }
   ],
   "source": [
    "len(df['Country'].unique()) # total number of Countries (the borrower work)"
   ]
  },
  {
   "cell_type": "markdown",
   "id": "df6b2b33",
   "metadata": {},
   "source": [
    "China loans for 94 countries organization"
   ]
  },
  {
   "cell_type": "code",
   "execution_count": 36,
   "id": "21f2e8c5",
   "metadata": {},
   "outputs": [
    {
     "data": {
      "image/png": "[encoded data removed]",
      "text/plain": [
       "<Figure size 432x504 with 1 Axes>"
      ]
     },
     "metadata": {},
     "output_type": "display_data"
    }
   ],
   "source": [
    "plt.figure(figsize=(6,7))\n",
    "plt.pie(df['Country'].value_counts().head(),labels=df['Country'].value_counts().head().index,autopct=lambda x:f\"{x:.3f}%\")\n",
    "plt.title('Top 5 borrower countries from China')\n",
    "plt.show()"
   ]
  },
  {
   "cell_type": "markdown",
   "id": "d21d98a6",
   "metadata": {},
   "source": [
    "observation:\n",
    "1. ANGOLA's organizations are the first leading country by borrowing from China"
   ]
  },
  {
   "cell_type": "code",
   "execution_count": 37,
   "id": "fecc0096",
   "metadata": {},
   "outputs": [
    {
     "data": {
      "image/png": "[encoded data removed]",
      "text/plain": [
       "<Figure size 432x504 with 1 Axes>"
      ]
     },
     "metadata": {},
     "output_type": "display_data"
    }
   ],
   "source": [
    "plt.figure(figsize=(6,7))\n",
    "plt.pie(df['SECTOR'].value_counts(),labels=df['SECTOR'].value_counts().index,autopct=lambda x:f\"{x:.2f}%\")\n",
    "plt.title('sectors')\n",
    "plt.show()"
   ]
  },
  {
   "cell_type": "markdown",
   "id": "59cc3bb1",
   "metadata": {},
   "source": [
    "observation:\n",
    "1. most China's borrower borrow for transport, power, government"
   ]
  },
  {
   "cell_type": "code",
   "execution_count": 38,
   "id": "57110117",
   "metadata": {},
   "outputs": [
    {
     "data": {
      "image/png": "[encoded data removed]",
      "text/plain": [
       "<Figure size 432x504 with 1 Axes>"
      ]
     },
     "metadata": {},
     "output_type": "display_data"
    }
   ],
   "source": [
    "plt.figure(figsize=(6,7))\n",
    "plt.pie(df['LENDER'].value_counts(),labels=df['LENDER'].value_counts().index,autopct=lambda x:f\"{x:.3f}%\")\n",
    "plt.title('Lender distributon')\n",
    "plt.show()"
   ]
  },
  {
   "cell_type": "markdown",
   "id": "41fe40c8",
   "metadata": {},
   "source": [
    "1. the popular lenders are ExlmBand and CDB"
   ]
  },
  {
   "cell_type": "code",
   "execution_count": 39,
   "id": "bf75b412",
   "metadata": {},
   "outputs": [
    {
     "name": "stdout",
     "output_type": "stream",
     "text": [
      "<class 'pandas.core.frame.DataFrame'>\n",
      "RangeIndex: 858 entries, 0 to 857\n",
      "Data columns (total 8 columns):\n",
      " #   Column                       Non-Null Count  Dtype  \n",
      "---  ------                       --------------  -----  \n",
      " 0   Expand All | Collapse All    858 non-null    object \n",
      " 1   YEAR                         858 non-null    int64  \n",
      " 2   LENDER                       858 non-null    object \n",
      " 3   BORROWER                     858 non-null    object \n",
      " 4   SECTOR                       858 non-null    object \n",
      " 5   SENSITIVE TERRITORY OVERLAP  858 non-null    object \n",
      " 6   Country                      858 non-null    object \n",
      " 7   amount in lakh ($)           858 non-null    float64\n",
      "dtypes: float64(1), int64(1), object(6)\n",
      "memory usage: 53.8+ KB\n"
     ]
    }
   ],
   "source": [
    "df.info()"
   ]
  },
  {
   "cell_type": "code",
   "execution_count": 40,
   "id": "999307d9",
   "metadata": {},
   "outputs": [
    {
     "data": {
      "text/plain": [
       "Expand All | Collapse All      828\n",
       "YEAR                            12\n",
       "LENDER                           7\n",
       "BORROWER                       120\n",
       "SECTOR                          10\n",
       "SENSITIVE TERRITORY OVERLAP      8\n",
       "Country                         94\n",
       "amount in lakh ($)             346\n",
       "dtype: int64"
      ]
     },
     "execution_count": 40,
     "metadata": {},
     "output_type": "execute_result"
    }
   ],
   "source": [
    "df.nunique()"
   ]
  },
  {
   "cell_type": "code",
   "execution_count": 41,
   "id": "e3306a10",
   "metadata": {},
   "outputs": [
    {
     "name": "stderr",
     "output_type": "stream",
     "text": [
      "C:\\Users\\KIIT\\anaconda3\\lib\\site-packages\\seaborn\\_decorators.py:36: FutureWarning: Pass the following variable as a keyword arg: x. From version 0.12, the only valid positional argument will be `data`, and passing other arguments without an explicit keyword will result in an error or misinterpretation.\n",
      "  warnings.warn(\n"
     ]
    },
    {
     "data": {
      "text/plain": [
       "<AxesSubplot:xlabel='SECTOR', ylabel='count'>"
      ]
     },
     "execution_count": 41,
     "metadata": {},
     "output_type": "execute_result"
    },
    {
     "data": {
      "image/png": "[encoded data removed]",
      "text/plain": [
       "<Figure size 864x864 with 1 Axes>"
      ]
     },
     "metadata": {
      "needs_background": "light"
     },
     "output_type": "display_data"
    }
   ],
   "source": [
    "plt.figure(figsize=(12,12))\n",
    "plt.xticks(rotation=90)\n",
    "sns.countplot('SECTOR',data=df)"
   ]
  },
  {
   "cell_type": "code",
   "execution_count": 42,
   "id": "820009d0",
   "metadata": {},
   "outputs": [
    {
     "name": "stderr",
     "output_type": "stream",
     "text": [
      "C:\\Users\\KIIT\\anaconda3\\lib\\site-packages\\seaborn\\_decorators.py:36: FutureWarning: Pass the following variable as a keyword arg: x. From version 0.12, the only valid positional argument will be `data`, and passing other arguments without an explicit keyword will result in an error or misinterpretation.\n",
      "  warnings.warn(\n"
     ]
    },
    {
     "data": {
      "text/plain": [
       "<AxesSubplot:xlabel='SECTOR', ylabel='count'>"
      ]
     },
     "execution_count": 42,
     "metadata": {},
     "output_type": "execute_result"
    },
    {
     "data": {
      "image/png": "[encoded data removed]",
      "text/plain": [
       "<Figure size 864x864 with 1 Axes>"
      ]
     },
     "metadata": {
      "needs_background": "light"
     },
     "output_type": "display_data"
    }
   ],
   "source": [
    "plt.figure(figsize=(12,12))\n",
    "plt.xticks(rotation=90)\n",
    "sns.countplot('SECTOR',data=df,hue='LENDER')"
   ]
  },
  {
   "cell_type": "code",
   "execution_count": 43,
   "id": "e6b938b4",
   "metadata": {},
   "outputs": [
    {
     "name": "stderr",
     "output_type": "stream",
     "text": [
      "C:\\Users\\KIIT\\anaconda3\\lib\\site-packages\\seaborn\\_decorators.py:36: FutureWarning: Pass the following variable as a keyword arg: x. From version 0.12, the only valid positional argument will be `data`, and passing other arguments without an explicit keyword will result in an error or misinterpretation.\n",
      "  warnings.warn(\n"
     ]
    },
    {
     "data": {
      "text/plain": [
       "<AxesSubplot:xlabel='LENDER', ylabel='count'>"
      ]
     },
     "execution_count": 43,
     "metadata": {},
     "output_type": "execute_result"
    },
    {
     "data": {
      "image/png": "[encoded data removed]",
      "text/plain": [
       "<Figure size 864x864 with 1 Axes>"
      ]
     },
     "metadata": {
      "needs_background": "light"
     },
     "output_type": "display_data"
    }
   ],
   "source": [
    "plt.figure(figsize=(12,12))\n",
    "plt.xticks(rotation=90)\n",
    "sns.countplot('LENDER',data=df)"
   ]
  },
  {
   "cell_type": "code",
   "execution_count": 44,
   "id": "6308720c",
   "metadata": {},
   "outputs": [
    {
     "data": {
      "text/plain": [
       "Expand All | Collapse All      828\n",
       "YEAR                            12\n",
       "LENDER                           7\n",
       "BORROWER                       120\n",
       "SECTOR                          10\n",
       "SENSITIVE TERRITORY OVERLAP      8\n",
       "Country                         94\n",
       "amount in lakh ($)             346\n",
       "dtype: int64"
      ]
     },
     "execution_count": 44,
     "metadata": {},
     "output_type": "execute_result"
    }
   ],
   "source": [
    "df.nunique()"
   ]
  },
  {
   "cell_type": "code",
   "execution_count": 45,
   "id": "f573fc54",
   "metadata": {},
   "outputs": [
    {
     "name": "stderr",
     "output_type": "stream",
     "text": [
      "C:\\Users\\KIIT\\anaconda3\\lib\\site-packages\\seaborn\\_decorators.py:36: FutureWarning: Pass the following variable as a keyword arg: x. From version 0.12, the only valid positional argument will be `data`, and passing other arguments without an explicit keyword will result in an error or misinterpretation.\n",
      "  warnings.warn(\n"
     ]
    },
    {
     "data": {
      "text/plain": [
       "<AxesSubplot:xlabel='YEAR', ylabel='count'>"
      ]
     },
     "execution_count": 45,
     "metadata": {},
     "output_type": "execute_result"
    },
    {
     "data": {
      "image/png": "[encoded data removed]",
      "text/plain": [
       "<Figure size 864x864 with 1 Axes>"
      ]
     },
     "metadata": {
      "needs_background": "light"
     },
     "output_type": "display_data"
    }
   ],
   "source": [
    "plt.figure(figsize=(12,12))\n",
    "plt.xticks(rotation=90)\n",
    "sns.countplot('YEAR',data=df)"
   ]
  },
  {
   "cell_type": "code",
   "execution_count": 46,
   "id": "79ce5a0b",
   "metadata": {},
   "outputs": [
    {
     "data": {
      "text/plain": [
       "Index(['Expand All | Collapse All', 'YEAR', 'LENDER', 'BORROWER', 'SECTOR',\n",
       "       'SENSITIVE TERRITORY OVERLAP', 'Country', 'amount in lakh ($)'],\n",
       "      dtype='object')"
      ]
     },
     "execution_count": 46,
     "metadata": {},
     "output_type": "execute_result"
    }
   ],
   "source": [
    "df.columns"
   ]
  },
  {
   "cell_type": "code",
   "execution_count": 47,
   "id": "34724b6c",
   "metadata": {},
   "outputs": [
    {
     "data": {
      "image/png": "[encoded data removed]",
      "text/plain": [
       "<Figure size 360x360 with 1 Axes>"
      ]
     },
     "metadata": {
      "needs_background": "light"
     },
     "output_type": "display_data"
    }
   ],
   "source": [
    "sns.catplot(x='SECTOR',y='amount in lakh ($)',data=df,kind='bar')\n",
    "plt.xticks(rotation=90)\n",
    "plt.show()"
   ]
  },
  {
   "cell_type": "code",
   "execution_count": 48,
   "id": "dbd01b36",
   "metadata": {},
   "outputs": [
    {
     "data": {
      "image/png": "[encoded data removed]",
      "text/plain": [
       "<Figure size 864x864 with 1 Axes>"
      ]
     },
     "metadata": {
      "needs_background": "light"
     },
     "output_type": "display_data"
    }
   ],
   "source": [
    "plt.figure(figsize=(12,12))\n",
    "sns.scatterplot(x='SECTOR',y='amount in lakh ($)',data=df)\n",
    "plt.xticks(rotation=90)\n",
    "plt.show()"
   ]
  },
  {
   "cell_type": "code",
   "execution_count": 49,
   "id": "987a8037",
   "metadata": {},
   "outputs": [
    {
     "data": {
      "image/png": "[encoded data removed]",
      "text/plain": [
       "<Figure size 864x864 with 1 Axes>"
      ]
     },
     "metadata": {
      "needs_background": "light"
     },
     "output_type": "display_data"
    }
   ],
   "source": [
    "plt.figure(figsize=(12,12))\n",
    "sns.scatterplot(x='YEAR',y='amount in lakh ($)',data=df)\n",
    "plt.xticks(rotation=90)\n",
    "plt.show()"
   ]
  },
  {
   "cell_type": "code",
   "execution_count": 50,
   "id": "4264b18f",
   "metadata": {},
   "outputs": [
    {
     "data": {
      "image/png": "[encoded data removed]",
      "text/plain": [
       "<Figure size 864x864 with 1 Axes>"
      ]
     },
     "metadata": {
      "needs_background": "light"
     },
     "output_type": "display_data"
    }
   ],
   "source": [
    "plt.figure(figsize=(12,12))\n",
    "sns.scatterplot(x='LENDER',y='amount in lakh ($)',data=df)\n",
    "plt.xticks(rotation=90)\n",
    "plt.show()"
   ]
  },
  {
   "cell_type": "code",
   "execution_count": 51,
   "id": "2e05cd51",
   "metadata": {},
   "outputs": [
    {
     "data": {
      "text/plain": [
       "371648834.4988345"
      ]
     },
     "execution_count": 51,
     "metadata": {},
     "output_type": "execute_result"
    }
   ],
   "source": [
    "# average lent amount\n",
    "df['amount in lakh ($)'].mean()*10000#we multiply be 10000 becuase the amount is in lakh"
   ]
  },
  {
   "cell_type": "code",
   "execution_count": 52,
   "id": "c4614e2c",
   "metadata": {},
   "outputs": [
    {
     "data": {
      "text/plain": [
       "318874700000.0"
      ]
     },
     "execution_count": 52,
     "metadata": {},
     "output_type": "execute_result"
    }
   ],
   "source": [
    "# total lent amount\n",
    "df['amount in lakh ($)'].sum()*10000 #we multiply be 10000 becuase the amount is in lakh"
   ]
  },
  {
   "cell_type": "code",
   "execution_count": 53,
   "id": "2c65f4f8",
   "metadata": {},
   "outputs": [
    {
     "data": {
      "text/html": [
       "<div>\n",
       "<style scoped>\n",
       "    .dataframe tbody tr th:only-of-type {\n",
       "        vertical-align: middle;\n",
       "    }\n",
       "\n",
       "    .dataframe tbody tr th {\n",
       "        vertical-align: top;\n",
       "    }\n",
       "\n",
       "    .dataframe thead th {\n",
       "        text-align: right;\n",
       "    }\n",
       "</style>\n",
       "<table border=\"1\" class=\"dataframe\">\n",
       "  <thead>\n",
       "    <tr style=\"text-align: right;\">\n",
       "      <th></th>\n",
       "      <th>amount in lakh ($)</th>\n",
       "    </tr>\n",
       "    <tr>\n",
       "      <th>Country</th>\n",
       "      <th></th>\n",
       "    </tr>\n",
       "  </thead>\n",
       "  <tbody>\n",
       "    <tr>\n",
       "      <th>Venezuela</th>\n",
       "      <td>5540910.0</td>\n",
       "    </tr>\n",
       "    <tr>\n",
       "      <th>Pakistan</th>\n",
       "      <td>3566530.0</td>\n",
       "    </tr>\n",
       "    <tr>\n",
       "      <th>Russian Federation</th>\n",
       "      <td>3529450.0</td>\n",
       "    </tr>\n",
       "    <tr>\n",
       "      <th>Brazil</th>\n",
       "      <td>2756560.0</td>\n",
       "    </tr>\n",
       "    <tr>\n",
       "      <th>Angola</th>\n",
       "      <td>1979400.0</td>\n",
       "    </tr>\n",
       "    <tr>\n",
       "      <th>...</th>\n",
       "      <td>...</td>\n",
       "    </tr>\n",
       "    <tr>\n",
       "      <th>Peru</th>\n",
       "      <td>500.0</td>\n",
       "    </tr>\n",
       "    <tr>\n",
       "      <th>Timor-Leste</th>\n",
       "      <td>500.0</td>\n",
       "    </tr>\n",
       "    <tr>\n",
       "      <th>Liberia</th>\n",
       "      <td>500.0</td>\n",
       "    </tr>\n",
       "    <tr>\n",
       "      <th>Comoros</th>\n",
       "      <td>320.0</td>\n",
       "    </tr>\n",
       "    <tr>\n",
       "      <th>Gambia</th>\n",
       "      <td>250.0</td>\n",
       "    </tr>\n",
       "  </tbody>\n",
       "</table>\n",
       "<p>94 rows × 1 columns</p>\n",
       "</div>"
      ],
      "text/plain": [
       "                    amount in lakh ($)\n",
       "Country                               \n",
       "Venezuela                    5540910.0\n",
       "Pakistan                     3566530.0\n",
       "Russian Federation           3529450.0\n",
       "Brazil                       2756560.0\n",
       "Angola                       1979400.0\n",
       "...                                ...\n",
       "Peru                             500.0\n",
       "Timor-Leste                      500.0\n",
       "Liberia                          500.0\n",
       "Comoros                          320.0\n",
       "Gambia                           250.0\n",
       "\n",
       "[94 rows x 1 columns]"
      ]
     },
     "execution_count": 53,
     "metadata": {},
     "output_type": "execute_result"
    }
   ],
   "source": [
    "# group the dataset based on country\n",
    "total_country=df[['amount in lakh ($)','Country']].groupby('Country').sum()\n",
    "total_country.sort_values('amount in lakh ($)',ascending=False)"
   ]
  },
  {
   "cell_type": "code",
   "execution_count": 55,
   "id": "b6d2bc43",
   "metadata": {},
   "outputs": [
    {
     "data": {
      "text/html": [
       "<div>\n",
       "<style scoped>\n",
       "    .dataframe tbody tr th:only-of-type {\n",
       "        vertical-align: middle;\n",
       "    }\n",
       "\n",
       "    .dataframe tbody tr th {\n",
       "        vertical-align: top;\n",
       "    }\n",
       "\n",
       "    .dataframe thead th {\n",
       "        text-align: right;\n",
       "    }\n",
       "</style>\n",
       "<table border=\"1\" class=\"dataframe\">\n",
       "  <thead>\n",
       "    <tr style=\"text-align: right;\">\n",
       "      <th></th>\n",
       "      <th>amount in lakh ($)</th>\n",
       "    </tr>\n",
       "    <tr>\n",
       "      <th>Country</th>\n",
       "      <th></th>\n",
       "    </tr>\n",
       "  </thead>\n",
       "  <tbody>\n",
       "    <tr>\n",
       "      <th>Ethiopia</th>\n",
       "      <td>199910.0</td>\n",
       "    </tr>\n",
       "  </tbody>\n",
       "</table>\n",
       "</div>"
      ],
      "text/plain": [
       "          amount in lakh ($)\n",
       "Country                     \n",
       "Ethiopia            199910.0"
      ]
     },
     "execution_count": 55,
     "metadata": {},
     "output_type": "execute_result"
    }
   ],
   "source": [
    "# total lent amount for Ethiopia\n",
    "total_country[total_country.index=='Ethiopia']"
   ]
  },
  {
   "cell_type": "code",
   "execution_count": 56,
   "id": "69a9b76f",
   "metadata": {},
   "outputs": [
    {
     "data": {
      "text/plain": [
       "Index(['Expand All | Collapse All', 'YEAR', 'LENDER', 'BORROWER', 'SECTOR',\n",
       "       'SENSITIVE TERRITORY OVERLAP', 'Country', 'amount in lakh ($)'],\n",
       "      dtype='object')"
      ]
     },
     "execution_count": 56,
     "metadata": {},
     "output_type": "execute_result"
    }
   ],
   "source": [
    "df.columns"
   ]
  },
  {
   "cell_type": "code",
   "execution_count": 57,
   "id": "5bc90cea",
   "metadata": {},
   "outputs": [
    {
     "data": {
      "text/html": [
       "<div>\n",
       "<style scoped>\n",
       "    .dataframe tbody tr th:only-of-type {\n",
       "        vertical-align: middle;\n",
       "    }\n",
       "\n",
       "    .dataframe tbody tr th {\n",
       "        vertical-align: top;\n",
       "    }\n",
       "\n",
       "    .dataframe thead th {\n",
       "        text-align: right;\n",
       "    }\n",
       "</style>\n",
       "<table border=\"1\" class=\"dataframe\">\n",
       "  <thead>\n",
       "    <tr style=\"text-align: right;\">\n",
       "      <th></th>\n",
       "      <th>amount in lakh ($)</th>\n",
       "    </tr>\n",
       "    <tr>\n",
       "      <th>LENDER</th>\n",
       "      <th></th>\n",
       "    </tr>\n",
       "  </thead>\n",
       "  <tbody>\n",
       "    <tr>\n",
       "      <th>CDB</th>\n",
       "      <td>19859250.0</td>\n",
       "    </tr>\n",
       "    <tr>\n",
       "      <th>ExImBank</th>\n",
       "      <td>9597090.0</td>\n",
       "    </tr>\n",
       "    <tr>\n",
       "      <th>CDB, ExImBank</th>\n",
       "      <td>1091500.0</td>\n",
       "    </tr>\n",
       "    <tr>\n",
       "      <th>CDB, others</th>\n",
       "      <td>1000000.0</td>\n",
       "    </tr>\n",
       "    <tr>\n",
       "      <th>CDB, ICBC</th>\n",
       "      <td>330000.0</td>\n",
       "    </tr>\n",
       "    <tr>\n",
       "      <th>BOC, CDB, ExImBank</th>\n",
       "      <td>6900.0</td>\n",
       "    </tr>\n",
       "    <tr>\n",
       "      <th>CDB, Citic</th>\n",
       "      <td>2730.0</td>\n",
       "    </tr>\n",
       "  </tbody>\n",
       "</table>\n",
       "</div>"
      ],
      "text/plain": [
       "                    amount in lakh ($)\n",
       "LENDER                                \n",
       "CDB                         19859250.0\n",
       "ExImBank                     9597090.0\n",
       "CDB, ExImBank                1091500.0\n",
       "CDB, others                  1000000.0\n",
       "CDB, ICBC                     330000.0\n",
       "BOC, CDB, ExImBank              6900.0\n",
       "CDB, Citic                      2730.0"
      ]
     },
     "execution_count": 57,
     "metadata": {},
     "output_type": "execute_result"
    }
   ],
   "source": [
    "# group the dataset based on lender\n",
    "lender=df[['amount in lakh ($)','LENDER']].groupby('LENDER').sum()\n",
    "lender.sort_values('amount in lakh ($)',ascending=False)"
   ]
  },
  {
   "cell_type": "code",
   "execution_count": 58,
   "id": "87006b49",
   "metadata": {},
   "outputs": [
    {
     "data": {
      "image/png": "[encoded data removed]",
      "text/plain": [
       "<Figure size 432x288 with 1 Axes>"
      ]
     },
     "metadata": {
      "needs_background": "light"
     },
     "output_type": "display_data"
    }
   ],
   "source": [
    "plt.plot(lender.index,lender['amount in lakh ($)'])\n",
    "plt.xticks(rotation=90)\n",
    "plt.show()"
   ]
  },
  {
   "cell_type": "code",
   "execution_count": 59,
   "id": "31d97e56",
   "metadata": {},
   "outputs": [
    {
     "data": {
      "text/html": [
       "<div>\n",
       "<style scoped>\n",
       "    .dataframe tbody tr th:only-of-type {\n",
       "        vertical-align: middle;\n",
       "    }\n",
       "\n",
       "    .dataframe tbody tr th {\n",
       "        vertical-align: top;\n",
       "    }\n",
       "\n",
       "    .dataframe thead th {\n",
       "        text-align: right;\n",
       "    }\n",
       "</style>\n",
       "<table border=\"1\" class=\"dataframe\">\n",
       "  <thead>\n",
       "    <tr style=\"text-align: right;\">\n",
       "      <th></th>\n",
       "      <th>amount in lakh ($)</th>\n",
       "    </tr>\n",
       "    <tr>\n",
       "      <th>YEAR</th>\n",
       "      <th></th>\n",
       "    </tr>\n",
       "  </thead>\n",
       "  <tbody>\n",
       "    <tr>\n",
       "      <th>2016</th>\n",
       "      <td>5556010.0</td>\n",
       "    </tr>\n",
       "    <tr>\n",
       "      <th>2009</th>\n",
       "      <td>5246000.0</td>\n",
       "    </tr>\n",
       "    <tr>\n",
       "      <th>2017</th>\n",
       "      <td>3678410.0</td>\n",
       "    </tr>\n",
       "    <tr>\n",
       "      <th>2015</th>\n",
       "      <td>3661040.0</td>\n",
       "    </tr>\n",
       "    <tr>\n",
       "      <th>2014</th>\n",
       "      <td>3507910.0</td>\n",
       "    </tr>\n",
       "    <tr>\n",
       "      <th>2010</th>\n",
       "      <td>3391350.0</td>\n",
       "    </tr>\n",
       "    <tr>\n",
       "      <th>2013</th>\n",
       "      <td>2182520.0</td>\n",
       "    </tr>\n",
       "    <tr>\n",
       "      <th>2012</th>\n",
       "      <td>1959860.0</td>\n",
       "    </tr>\n",
       "    <tr>\n",
       "      <th>2011</th>\n",
       "      <td>1941490.0</td>\n",
       "    </tr>\n",
       "    <tr>\n",
       "      <th>2019</th>\n",
       "      <td>345400.0</td>\n",
       "    </tr>\n",
       "    <tr>\n",
       "      <th>2018</th>\n",
       "      <td>224830.0</td>\n",
       "    </tr>\n",
       "    <tr>\n",
       "      <th>2008</th>\n",
       "      <td>192650.0</td>\n",
       "    </tr>\n",
       "  </tbody>\n",
       "</table>\n",
       "</div>"
      ],
      "text/plain": [
       "      amount in lakh ($)\n",
       "YEAR                    \n",
       "2016           5556010.0\n",
       "2009           5246000.0\n",
       "2017           3678410.0\n",
       "2015           3661040.0\n",
       "2014           3507910.0\n",
       "2010           3391350.0\n",
       "2013           2182520.0\n",
       "2012           1959860.0\n",
       "2011           1941490.0\n",
       "2019            345400.0\n",
       "2018            224830.0\n",
       "2008            192650.0"
      ]
     },
     "execution_count": 59,
     "metadata": {},
     "output_type": "execute_result"
    }
   ],
   "source": [
    "# group the dataset based on country\n",
    "total_year=df[['amount in lakh ($)','YEAR']].groupby('YEAR').sum()\n",
    "total_year.sort_values('amount in lakh ($)',ascending=False)"
   ]
  },
  {
   "cell_type": "code",
   "execution_count": 60,
   "id": "65c6ec75",
   "metadata": {},
   "outputs": [
    {
     "data": {
      "image/png": "[encoded data removed]",
      "text/plain": [
       "<Figure size 432x288 with 1 Axes>"
      ]
     },
     "metadata": {
      "needs_background": "light"
     },
     "output_type": "display_data"
    }
   ],
   "source": [
    "plt.plot(total_year.index,total_year['amount in lakh ($)'])\n",
    "plt.xticks(rotation=90)\n",
    "plt.show()"
   ]
  },
  {
   "cell_type": "code",
   "execution_count": 61,
   "id": "7beed91a",
   "metadata": {},
   "outputs": [
    {
     "data": {
      "image/png": "[encoded data removed]",
      "text/plain": [
       "<Figure size 432x288 with 1 Axes>"
      ]
     },
     "metadata": {
      "needs_background": "light"
     },
     "output_type": "display_data"
    }
   ],
   "source": [
    "plt.bar(total_year.index,total_year['amount in lakh ($)'])\n",
    "plt.title('total amount borrowed in each year')\n",
    "plt.xticks(rotation=90)\n",
    "plt.show()"
   ]
  },
  {
   "cell_type": "code",
   "execution_count": 62,
   "id": "1103cd6b",
   "metadata": {},
   "outputs": [
    {
     "data": {
      "text/html": [
       "<div>\n",
       "<style scoped>\n",
       "    .dataframe tbody tr th:only-of-type {\n",
       "        vertical-align: middle;\n",
       "    }\n",
       "\n",
       "    .dataframe tbody tr th {\n",
       "        vertical-align: top;\n",
       "    }\n",
       "\n",
       "    .dataframe thead th {\n",
       "        text-align: right;\n",
       "    }\n",
       "</style>\n",
       "<table border=\"1\" class=\"dataframe\">\n",
       "  <thead>\n",
       "    <tr style=\"text-align: right;\">\n",
       "      <th></th>\n",
       "      <th>Expand All | Collapse All</th>\n",
       "      <th>YEAR</th>\n",
       "      <th>LENDER</th>\n",
       "      <th>BORROWER</th>\n",
       "      <th>SECTOR</th>\n",
       "      <th>SENSITIVE TERRITORY OVERLAP</th>\n",
       "      <th>Country</th>\n",
       "      <th>amount in lakh ($)</th>\n",
       "    </tr>\n",
       "  </thead>\n",
       "  <tbody>\n",
       "    <tr>\n",
       "      <th>29</th>\n",
       "      <td>Adama Wind Farm I (51MW)</td>\n",
       "      <td>2010</td>\n",
       "      <td>ExImBank</td>\n",
       "      <td>Government</td>\n",
       "      <td>Power</td>\n",
       "      <td>Within Indigenous Peoples' Lands</td>\n",
       "      <td>Ethiopia</td>\n",
       "      <td>990.0</td>\n",
       "    </tr>\n",
       "    <tr>\n",
       "      <th>30</th>\n",
       "      <td>Adama Wind Farm II (153 MW)</td>\n",
       "      <td>2013</td>\n",
       "      <td>ExImBank</td>\n",
       "      <td>Government</td>\n",
       "      <td>Power</td>\n",
       "      <td>Within Indigenous Peoples' Lands</td>\n",
       "      <td>Ethiopia</td>\n",
       "      <td>2930.0</td>\n",
       "    </tr>\n",
       "    <tr>\n",
       "      <th>31</th>\n",
       "      <td>Addis Ababa Deep Well Water Supply Project III</td>\n",
       "      <td>2011</td>\n",
       "      <td>ExImBank</td>\n",
       "      <td>Government</td>\n",
       "      <td>Government</td>\n",
       "      <td>Within Indigenous Peoples' Lands\\n Within Crit...</td>\n",
       "      <td>Ethiopia</td>\n",
       "      <td>960.0</td>\n",
       "    </tr>\n",
       "    <tr>\n",
       "      <th>32</th>\n",
       "      <td>Addis Ababa Power Network Rehabilitation and U...</td>\n",
       "      <td>2016</td>\n",
       "      <td>ExImBank</td>\n",
       "      <td>Government</td>\n",
       "      <td>Power</td>\n",
       "      <td>Within Indigenous Peoples' Lands\\n Within Crit...</td>\n",
       "      <td>Ethiopia</td>\n",
       "      <td>1650.0</td>\n",
       "    </tr>\n",
       "    <tr>\n",
       "      <th>33</th>\n",
       "      <td>Addis Ababa Transmission Lines</td>\n",
       "      <td>2017</td>\n",
       "      <td>ExImBank</td>\n",
       "      <td>Government</td>\n",
       "      <td>Power</td>\n",
       "      <td>Within Indigenous Peoples' Lands\\n Within Crit...</td>\n",
       "      <td>Ethiopia</td>\n",
       "      <td>830.0</td>\n",
       "    </tr>\n",
       "    <tr>\n",
       "      <th>34</th>\n",
       "      <td>Addis-Ababa Light Rail Project</td>\n",
       "      <td>2011</td>\n",
       "      <td>ExImBank</td>\n",
       "      <td>Government</td>\n",
       "      <td>Transport</td>\n",
       "      <td>Within Indigenous Peoples' Lands</td>\n",
       "      <td>Ethiopia</td>\n",
       "      <td>4750.0</td>\n",
       "    </tr>\n",
       "    <tr>\n",
       "      <th>35</th>\n",
       "      <td>Addis-Adama Expressway Construction (Phase 2)</td>\n",
       "      <td>2016</td>\n",
       "      <td>ExImBank</td>\n",
       "      <td>Government</td>\n",
       "      <td>Transport</td>\n",
       "      <td>Within Indigenous Peoples' Lands\\n Within Crit...</td>\n",
       "      <td>Ethiopia</td>\n",
       "      <td>1900.0</td>\n",
       "    </tr>\n",
       "    <tr>\n",
       "      <th>36</th>\n",
       "      <td>Addis-Adama Expressway Construction (Phase I)</td>\n",
       "      <td>2009</td>\n",
       "      <td>ExImBank</td>\n",
       "      <td>Government</td>\n",
       "      <td>Transport</td>\n",
       "      <td>Within Indigenous Peoples' Lands\\n Within Crit...</td>\n",
       "      <td>Ethiopia</td>\n",
       "      <td>3490.0</td>\n",
       "    </tr>\n",
       "    <tr>\n",
       "      <th>37</th>\n",
       "      <td>Addis-Adama Expressway- Toll Montovay Construc...</td>\n",
       "      <td>2013</td>\n",
       "      <td>ExImBank</td>\n",
       "      <td>Government</td>\n",
       "      <td>Transport</td>\n",
       "      <td>Within Indigenous Peoples' Lands\\n Within Crit...</td>\n",
       "      <td>Ethiopia</td>\n",
       "      <td>1430.0</td>\n",
       "    </tr>\n",
       "    <tr>\n",
       "      <th>38</th>\n",
       "      <td>Addis-Djibouti Railway (Tranche A)</td>\n",
       "      <td>2013</td>\n",
       "      <td>ExImBank</td>\n",
       "      <td>Government</td>\n",
       "      <td>Transport</td>\n",
       "      <td>Within Indigenous Peoples' Lands\\n Within Crit...</td>\n",
       "      <td>Ethiopia</td>\n",
       "      <td>2200.0</td>\n",
       "    </tr>\n",
       "    <tr>\n",
       "      <th>39</th>\n",
       "      <td>Addis-Djibouti Railway (Tranche B)</td>\n",
       "      <td>2013</td>\n",
       "      <td>ExImBank</td>\n",
       "      <td>Government</td>\n",
       "      <td>Transport</td>\n",
       "      <td>Within Indigenous Peoples' Lands\\n Within Crit...</td>\n",
       "      <td>Ethiopia</td>\n",
       "      <td>9810.0</td>\n",
       "    </tr>\n",
       "    <tr>\n",
       "      <th>40</th>\n",
       "      <td>Addis-Djibouti Railway (Tranche C)</td>\n",
       "      <td>2013</td>\n",
       "      <td>ExImBank</td>\n",
       "      <td>Government</td>\n",
       "      <td>Transport</td>\n",
       "      <td>Within Indigenous Peoples' Lands\\n Within Crit...</td>\n",
       "      <td>Ethiopia</td>\n",
       "      <td>130000.0</td>\n",
       "    </tr>\n",
       "    <tr>\n",
       "      <th>67</th>\n",
       "      <td>Aysha Wind Farm II Construction</td>\n",
       "      <td>2017</td>\n",
       "      <td>ExImBank</td>\n",
       "      <td>Government</td>\n",
       "      <td>Power</td>\n",
       "      <td>Within Indigenous Peoples' Lands</td>\n",
       "      <td>Ethiopia</td>\n",
       "      <td>2190.0</td>\n",
       "    </tr>\n",
       "    <tr>\n",
       "      <th>95</th>\n",
       "      <td>Bole Airport Expansion</td>\n",
       "      <td>2013</td>\n",
       "      <td>ExImBank</td>\n",
       "      <td>Government</td>\n",
       "      <td>Transport</td>\n",
       "      <td>Within Indigenous Peoples' Lands</td>\n",
       "      <td>Ethiopia</td>\n",
       "      <td>2390.0</td>\n",
       "    </tr>\n",
       "    <tr>\n",
       "      <th>96</th>\n",
       "      <td>Bole Airport Passenger Terminal Expansion</td>\n",
       "      <td>2016</td>\n",
       "      <td>ExImBank</td>\n",
       "      <td>Government</td>\n",
       "      <td>Transport</td>\n",
       "      <td>Within Indigenous Peoples' Lands</td>\n",
       "      <td>Ethiopia</td>\n",
       "      <td>1170.0</td>\n",
       "    </tr>\n",
       "    <tr>\n",
       "      <th>187</th>\n",
       "      <td>Customs Equipment and Scanners Purchase</td>\n",
       "      <td>2010</td>\n",
       "      <td>ExImBank</td>\n",
       "      <td>Government</td>\n",
       "      <td>Government</td>\n",
       "      <td>None Known</td>\n",
       "      <td>Ethiopia</td>\n",
       "      <td>260.0</td>\n",
       "    </tr>\n",
       "    <tr>\n",
       "      <th>207</th>\n",
       "      <td>Dire Dawa-Dewalle Road Construction</td>\n",
       "      <td>2014</td>\n",
       "      <td>ExImBank</td>\n",
       "      <td>Government</td>\n",
       "      <td>Transport</td>\n",
       "      <td>Within Indigenous Peoples' Lands</td>\n",
       "      <td>Ethiopia</td>\n",
       "      <td>1870.0</td>\n",
       "    </tr>\n",
       "    <tr>\n",
       "      <th>274</th>\n",
       "      <td>Ethio-Hunan Equipment Production Cooperation I...</td>\n",
       "      <td>2017</td>\n",
       "      <td>ExImBank</td>\n",
       "      <td>Government</td>\n",
       "      <td>Other construction</td>\n",
       "      <td>Within Indigenous Peoples' Lands</td>\n",
       "      <td>Ethiopia</td>\n",
       "      <td>2620.0</td>\n",
       "    </tr>\n",
       "    <tr>\n",
       "      <th>275</th>\n",
       "      <td>Ethiopia-Djibouti Railway Transmission Line Po...</td>\n",
       "      <td>2015</td>\n",
       "      <td>ExImBank</td>\n",
       "      <td>Ethiopian Electric Power Corporation</td>\n",
       "      <td>Power</td>\n",
       "      <td>Within Indigenous Peoples' Lands\\n Within Crit...</td>\n",
       "      <td>Ethiopia</td>\n",
       "      <td>630.0</td>\n",
       "    </tr>\n",
       "    <tr>\n",
       "      <th>308</th>\n",
       "      <td>Genale Dawa III-Yirgalem II-Wolayita Sodo II-H...</td>\n",
       "      <td>2016</td>\n",
       "      <td>ExImBank</td>\n",
       "      <td>Government</td>\n",
       "      <td>Power</td>\n",
       "      <td>Within Indigenous Peoples' Lands\\n Within Crit...</td>\n",
       "      <td>Ethiopia</td>\n",
       "      <td>2490.0</td>\n",
       "    </tr>\n",
       "    <tr>\n",
       "      <th>309</th>\n",
       "      <td>Genale-Dawa III Hydroelectric Power Project</td>\n",
       "      <td>2009</td>\n",
       "      <td>ExImBank</td>\n",
       "      <td>Government</td>\n",
       "      <td>Power</td>\n",
       "      <td>Within Indigenous Peoples' Lands\\n Within Crit...</td>\n",
       "      <td>Ethiopia</td>\n",
       "      <td>2700.0</td>\n",
       "    </tr>\n",
       "    <tr>\n",
       "      <th>310</th>\n",
       "      <td>Gibe III Hydropower Project (Addis Ababa Trans...</td>\n",
       "      <td>2011</td>\n",
       "      <td>ExImBank</td>\n",
       "      <td>Government</td>\n",
       "      <td>Power</td>\n",
       "      <td>None Known</td>\n",
       "      <td>Ethiopia</td>\n",
       "      <td>1880.0</td>\n",
       "    </tr>\n",
       "    <tr>\n",
       "      <th>311</th>\n",
       "      <td>Gibe III Hydropower Project (Part C)</td>\n",
       "      <td>2011</td>\n",
       "      <td>ExImBank</td>\n",
       "      <td>Ethiopian Electric Power Corporation</td>\n",
       "      <td>Power</td>\n",
       "      <td>None Known</td>\n",
       "      <td>Ethiopia</td>\n",
       "      <td>890.0</td>\n",
       "    </tr>\n",
       "    <tr>\n",
       "      <th>377</th>\n",
       "      <td>Kality Ring Road Interchange-Tulu Dimtu Rounda...</td>\n",
       "      <td>2016</td>\n",
       "      <td>ExImBank</td>\n",
       "      <td>Government</td>\n",
       "      <td>Transport</td>\n",
       "      <td>Within Indigenous Peoples' Lands</td>\n",
       "      <td>Ethiopia</td>\n",
       "      <td>1030.0</td>\n",
       "    </tr>\n",
       "    <tr>\n",
       "      <th>395</th>\n",
       "      <td>Kessem Sugar Factory Construction</td>\n",
       "      <td>2012</td>\n",
       "      <td>ExImBank</td>\n",
       "      <td>Ethiopia Sugar Corporation</td>\n",
       "      <td>Agriculture, food</td>\n",
       "      <td>Within Indigenous Peoples' Lands</td>\n",
       "      <td>Ethiopia</td>\n",
       "      <td>1230.0</td>\n",
       "    </tr>\n",
       "    <tr>\n",
       "      <th>477</th>\n",
       "      <td>Mekelle Water Supply Project (PEBC portion)</td>\n",
       "      <td>2018</td>\n",
       "      <td>ExImBank</td>\n",
       "      <td>Government</td>\n",
       "      <td>Government</td>\n",
       "      <td>Within Indigenous Peoples' Lands\\n Within Crit...</td>\n",
       "      <td>Ethiopia</td>\n",
       "      <td>1560.0</td>\n",
       "    </tr>\n",
       "    <tr>\n",
       "      <th>482</th>\n",
       "      <td>Meskere Sq-Bole Road Construction</td>\n",
       "      <td>2011</td>\n",
       "      <td>ExImBank</td>\n",
       "      <td>Government</td>\n",
       "      <td>Transport</td>\n",
       "      <td>Within Indigenous Peoples' Lands</td>\n",
       "      <td>Ethiopia</td>\n",
       "      <td>700.0</td>\n",
       "    </tr>\n",
       "    <tr>\n",
       "      <th>491</th>\n",
       "      <td>Modjo-Hawassa Expressway Construction (Arsi Ne...</td>\n",
       "      <td>2017</td>\n",
       "      <td>ExImBank</td>\n",
       "      <td>Government</td>\n",
       "      <td>Transport</td>\n",
       "      <td>Within Indigenous Peoples' Lands\\n Within Crit...</td>\n",
       "      <td>Ethiopia</td>\n",
       "      <td>1710.0</td>\n",
       "    </tr>\n",
       "    <tr>\n",
       "      <th>583</th>\n",
       "      <td>Omo-Quraz Sugar Factory 2 Construction</td>\n",
       "      <td>2013</td>\n",
       "      <td>CDB</td>\n",
       "      <td>Ethiopia Sugar Corporation</td>\n",
       "      <td>Agriculture, food</td>\n",
       "      <td>Within Indigenous Peoples' Lands\\n Within Nati...</td>\n",
       "      <td>Ethiopia</td>\n",
       "      <td>2900.0</td>\n",
       "    </tr>\n",
       "    <tr>\n",
       "      <th>584</th>\n",
       "      <td>Omo-Quraz Sugar Factory 3 Construction</td>\n",
       "      <td>2013</td>\n",
       "      <td>CDB</td>\n",
       "      <td>Ethiopia Sugar Corporation</td>\n",
       "      <td>Agriculture, food</td>\n",
       "      <td>Within Indigenous Peoples' Lands\\n Within Nati...</td>\n",
       "      <td>Ethiopia</td>\n",
       "      <td>2900.0</td>\n",
       "    </tr>\n",
       "    <tr>\n",
       "      <th>704</th>\n",
       "      <td>Ships Purchase</td>\n",
       "      <td>2011</td>\n",
       "      <td>ExImBank</td>\n",
       "      <td>Ethiopian Shipping Lines</td>\n",
       "      <td>Transport</td>\n",
       "      <td>None Known</td>\n",
       "      <td>Ethiopia</td>\n",
       "      <td>2350.0</td>\n",
       "    </tr>\n",
       "    <tr>\n",
       "      <th>718</th>\n",
       "      <td>SMEs Development Loan</td>\n",
       "      <td>2013</td>\n",
       "      <td>CDB</td>\n",
       "      <td>Development Bank of Ethiopia</td>\n",
       "      <td>Government</td>\n",
       "      <td>None Known</td>\n",
       "      <td>Ethiopia</td>\n",
       "      <td>250.0</td>\n",
       "    </tr>\n",
       "    <tr>\n",
       "      <th>723</th>\n",
       "      <td>SMEs Loan</td>\n",
       "      <td>2012</td>\n",
       "      <td>CDB</td>\n",
       "      <td>Ethiopia Development Bank</td>\n",
       "      <td>Government</td>\n",
       "      <td>None Known</td>\n",
       "      <td>Ethiopia</td>\n",
       "      <td>250.0</td>\n",
       "    </tr>\n",
       "    <tr>\n",
       "      <th>841</th>\n",
       "      <td>Welkait Sugar Mill Construction</td>\n",
       "      <td>2014</td>\n",
       "      <td>ExImBank</td>\n",
       "      <td>Commercial Bank of Ethiopia</td>\n",
       "      <td>Agriculture, food</td>\n",
       "      <td>Within Critical Habitats</td>\n",
       "      <td>Ethiopia</td>\n",
       "      <td>5000.0</td>\n",
       "    </tr>\n",
       "  </tbody>\n",
       "</table>\n",
       "</div>"
      ],
      "text/plain": [
       "                             Expand All | Collapse All  YEAR    LENDER  \\\n",
       "29                            Adama Wind Farm I (51MW)  2010  ExImBank   \n",
       "30                         Adama Wind Farm II (153 MW)  2013  ExImBank   \n",
       "31      Addis Ababa Deep Well Water Supply Project III  2011  ExImBank   \n",
       "32   Addis Ababa Power Network Rehabilitation and U...  2016  ExImBank   \n",
       "33                      Addis Ababa Transmission Lines  2017  ExImBank   \n",
       "34                      Addis-Ababa Light Rail Project  2011  ExImBank   \n",
       "35       Addis-Adama Expressway Construction (Phase 2)  2016  ExImBank   \n",
       "36       Addis-Adama Expressway Construction (Phase I)  2009  ExImBank   \n",
       "37   Addis-Adama Expressway- Toll Montovay Construc...  2013  ExImBank   \n",
       "38                  Addis-Djibouti Railway (Tranche A)  2013  ExImBank   \n",
       "39                  Addis-Djibouti Railway (Tranche B)  2013  ExImBank   \n",
       "40                  Addis-Djibouti Railway (Tranche C)  2013  ExImBank   \n",
       "67                     Aysha Wind Farm II Construction  2017  ExImBank   \n",
       "95                              Bole Airport Expansion  2013  ExImBank   \n",
       "96           Bole Airport Passenger Terminal Expansion  2016  ExImBank   \n",
       "187            Customs Equipment and Scanners Purchase  2010  ExImBank   \n",
       "207                Dire Dawa-Dewalle Road Construction  2014  ExImBank   \n",
       "274  Ethio-Hunan Equipment Production Cooperation I...  2017  ExImBank   \n",
       "275  Ethiopia-Djibouti Railway Transmission Line Po...  2015  ExImBank   \n",
       "308  Genale Dawa III-Yirgalem II-Wolayita Sodo II-H...  2016  ExImBank   \n",
       "309        Genale-Dawa III Hydroelectric Power Project  2009  ExImBank   \n",
       "310  Gibe III Hydropower Project (Addis Ababa Trans...  2011  ExImBank   \n",
       "311               Gibe III Hydropower Project (Part C)  2011  ExImBank   \n",
       "377  Kality Ring Road Interchange-Tulu Dimtu Rounda...  2016  ExImBank   \n",
       "395                  Kessem Sugar Factory Construction  2012  ExImBank   \n",
       "477        Mekelle Water Supply Project (PEBC portion)  2018  ExImBank   \n",
       "482                  Meskere Sq-Bole Road Construction  2011  ExImBank   \n",
       "491  Modjo-Hawassa Expressway Construction (Arsi Ne...  2017  ExImBank   \n",
       "583             Omo-Quraz Sugar Factory 2 Construction  2013       CDB   \n",
       "584             Omo-Quraz Sugar Factory 3 Construction  2013       CDB   \n",
       "704                                     Ships Purchase  2011  ExImBank   \n",
       "718                              SMEs Development Loan  2013       CDB   \n",
       "723                                          SMEs Loan  2012       CDB   \n",
       "841                    Welkait Sugar Mill Construction  2014  ExImBank   \n",
       "\n",
       "                                 BORROWER              SECTOR  \\\n",
       "29                             Government               Power   \n",
       "30                             Government               Power   \n",
       "31                             Government          Government   \n",
       "32                             Government               Power   \n",
       "33                             Government               Power   \n",
       "34                             Government           Transport   \n",
       "35                             Government           Transport   \n",
       "36                             Government           Transport   \n",
       "37                             Government           Transport   \n",
       "38                             Government           Transport   \n",
       "39                             Government           Transport   \n",
       "40                             Government           Transport   \n",
       "67                             Government               Power   \n",
       "95                             Government           Transport   \n",
       "96                             Government           Transport   \n",
       "187                            Government          Government   \n",
       "207                            Government           Transport   \n",
       "274                            Government  Other construction   \n",
       "275  Ethiopian Electric Power Corporation               Power   \n",
       "308                            Government               Power   \n",
       "309                            Government               Power   \n",
       "310                            Government               Power   \n",
       "311  Ethiopian Electric Power Corporation               Power   \n",
       "377                            Government           Transport   \n",
       "395            Ethiopia Sugar Corporation   Agriculture, food   \n",
       "477                            Government          Government   \n",
       "482                            Government           Transport   \n",
       "491                            Government           Transport   \n",
       "583            Ethiopia Sugar Corporation   Agriculture, food   \n",
       "584            Ethiopia Sugar Corporation   Agriculture, food   \n",
       "704              Ethiopian Shipping Lines           Transport   \n",
       "718          Development Bank of Ethiopia          Government   \n",
       "723             Ethiopia Development Bank          Government   \n",
       "841           Commercial Bank of Ethiopia   Agriculture, food   \n",
       "\n",
       "                           SENSITIVE TERRITORY OVERLAP   Country  \\\n",
       "29                    Within Indigenous Peoples' Lands  Ethiopia   \n",
       "30                    Within Indigenous Peoples' Lands  Ethiopia   \n",
       "31   Within Indigenous Peoples' Lands\\n Within Crit...  Ethiopia   \n",
       "32   Within Indigenous Peoples' Lands\\n Within Crit...  Ethiopia   \n",
       "33   Within Indigenous Peoples' Lands\\n Within Crit...  Ethiopia   \n",
       "34                    Within Indigenous Peoples' Lands  Ethiopia   \n",
       "35   Within Indigenous Peoples' Lands\\n Within Crit...  Ethiopia   \n",
       "36   Within Indigenous Peoples' Lands\\n Within Crit...  Ethiopia   \n",
       "37   Within Indigenous Peoples' Lands\\n Within Crit...  Ethiopia   \n",
       "38   Within Indigenous Peoples' Lands\\n Within Crit...  Ethiopia   \n",
       "39   Within Indigenous Peoples' Lands\\n Within Crit...  Ethiopia   \n",
       "40   Within Indigenous Peoples' Lands\\n Within Crit...  Ethiopia   \n",
       "67                    Within Indigenous Peoples' Lands  Ethiopia   \n",
       "95                    Within Indigenous Peoples' Lands  Ethiopia   \n",
       "96                    Within Indigenous Peoples' Lands  Ethiopia   \n",
       "187                                         None Known  Ethiopia   \n",
       "207                   Within Indigenous Peoples' Lands  Ethiopia   \n",
       "274                   Within Indigenous Peoples' Lands  Ethiopia   \n",
       "275  Within Indigenous Peoples' Lands\\n Within Crit...  Ethiopia   \n",
       "308  Within Indigenous Peoples' Lands\\n Within Crit...  Ethiopia   \n",
       "309  Within Indigenous Peoples' Lands\\n Within Crit...  Ethiopia   \n",
       "310                                         None Known  Ethiopia   \n",
       "311                                         None Known  Ethiopia   \n",
       "377                   Within Indigenous Peoples' Lands  Ethiopia   \n",
       "395                   Within Indigenous Peoples' Lands  Ethiopia   \n",
       "477  Within Indigenous Peoples' Lands\\n Within Crit...  Ethiopia   \n",
       "482                   Within Indigenous Peoples' Lands  Ethiopia   \n",
       "491  Within Indigenous Peoples' Lands\\n Within Crit...  Ethiopia   \n",
       "583  Within Indigenous Peoples' Lands\\n Within Nati...  Ethiopia   \n",
       "584  Within Indigenous Peoples' Lands\\n Within Nati...  Ethiopia   \n",
       "704                                         None Known  Ethiopia   \n",
       "718                                         None Known  Ethiopia   \n",
       "723                                         None Known  Ethiopia   \n",
       "841                           Within Critical Habitats  Ethiopia   \n",
       "\n",
       "     amount in lakh ($)  \n",
       "29                990.0  \n",
       "30               2930.0  \n",
       "31                960.0  \n",
       "32               1650.0  \n",
       "33                830.0  \n",
       "34               4750.0  \n",
       "35               1900.0  \n",
       "36               3490.0  \n",
       "37               1430.0  \n",
       "38               2200.0  \n",
       "39               9810.0  \n",
       "40             130000.0  \n",
       "67               2190.0  \n",
       "95               2390.0  \n",
       "96               1170.0  \n",
       "187               260.0  \n",
       "207              1870.0  \n",
       "274              2620.0  \n",
       "275               630.0  \n",
       "308              2490.0  \n",
       "309              2700.0  \n",
       "310              1880.0  \n",
       "311               890.0  \n",
       "377              1030.0  \n",
       "395              1230.0  \n",
       "477              1560.0  \n",
       "482               700.0  \n",
       "491              1710.0  \n",
       "583              2900.0  \n",
       "584              2900.0  \n",
       "704              2350.0  \n",
       "718               250.0  \n",
       "723               250.0  \n",
       "841              5000.0  "
      ]
     },
     "execution_count": 62,
     "metadata": {},
     "output_type": "execute_result"
    }
   ],
   "source": [
    "# analysis lent of Ethiopia\n",
    "ethio=df[df['Country']=='Ethiopia']\n",
    "ethio"
   ]
  },
  {
   "cell_type": "code",
   "execution_count": 63,
   "id": "c8a01693",
   "metadata": {},
   "outputs": [
    {
     "data": {
      "image/png": "[encoded data removed]",
      "text/plain": [
       "<Figure size 432x504 with 1 Axes>"
      ]
     },
     "metadata": {},
     "output_type": "display_data"
    }
   ],
   "source": [
    "plt.figure(figsize=(6,7))\n",
    "plt.pie(ethio['BORROWER'].value_counts(),labels=ethio['BORROWER'].value_counts().index,autopct=lambda x:f\"{x:.3f}%\")\n",
    "plt.title('borrower distribution in Ethiopia')\n",
    "plt.show()"
   ]
  },
  {
   "cell_type": "markdown",
   "id": "f4340f7a",
   "metadata": {},
   "source": [
    "obseravation:\n",
    "1. mostly in Ethiopia the borrower is Government (around 73.529%)"
   ]
  },
  {
   "cell_type": "code",
   "execution_count": 64,
   "id": "f23075d0",
   "metadata": {},
   "outputs": [
    {
     "data": {
      "image/png": "[encoded data removed]",
      "text/plain": [
       "<Figure size 432x504 with 1 Axes>"
      ]
     },
     "metadata": {},
     "output_type": "display_data"
    }
   ],
   "source": [
    "plt.figure(figsize=(6,7))\n",
    "plt.pie(ethio['LENDER'].value_counts(),labels=ethio['LENDER'].value_counts().index,autopct=lambda x:f\"{x:.3f}%\")\n",
    "plt.title('lender distribution in Ethiopia')\n",
    "plt.show()"
   ]
  },
  {
   "cell_type": "markdown",
   "id": "407d3abf",
   "metadata": {},
   "source": [
    "observation:\n",
    "1. ExlmBank and CDB are the only lender for Ethiopia. but ExlmBank is the leader"
   ]
  },
  {
   "cell_type": "code",
   "execution_count": 65,
   "id": "0b4083ce",
   "metadata": {},
   "outputs": [
    {
     "data": {
      "image/png": "[encoded data removed]",
      "text/plain": [
       "<Figure size 432x504 with 1 Axes>"
      ]
     },
     "metadata": {},
     "output_type": "display_data"
    }
   ],
   "source": [
    "plt.figure(figsize=(6,7))\n",
    "plt.pie(ethio['SECTOR'].value_counts(),labels=ethio['SECTOR'].value_counts().index,autopct=lambda x:f\"{x:.3f}%\")\n",
    "plt.title('sector distribution in Ethiopia')\n",
    "plt.show()"
   ]
  },
  {
   "cell_type": "markdown",
   "id": "e3326d4b",
   "metadata": {},
   "source": [
    "observation:\n",
    "1. Ethiopia borrows mostly for transport sector"
   ]
  },
  {
   "cell_type": "code",
   "execution_count": 66,
   "id": "9d408d29",
   "metadata": {},
   "outputs": [
    {
     "data": {
      "text/plain": [
       "1999100000.0"
      ]
     },
     "execution_count": 66,
     "metadata": {},
     "output_type": "execute_result"
    }
   ],
   "source": [
    "# total borrowed amount\n",
    "ethio['amount in lakh ($)'].sum()*10000"
   ]
  },
  {
   "cell_type": "code",
   "execution_count": 67,
   "id": "a00dff1c",
   "metadata": {},
   "outputs": [
    {
     "data": {
      "text/html": [
       "<div>\n",
       "<style scoped>\n",
       "    .dataframe tbody tr th:only-of-type {\n",
       "        vertical-align: middle;\n",
       "    }\n",
       "\n",
       "    .dataframe tbody tr th {\n",
       "        vertical-align: top;\n",
       "    }\n",
       "\n",
       "    .dataframe thead th {\n",
       "        text-align: right;\n",
       "    }\n",
       "</style>\n",
       "<table border=\"1\" class=\"dataframe\">\n",
       "  <thead>\n",
       "    <tr style=\"text-align: right;\">\n",
       "      <th></th>\n",
       "      <th>amount in lakh ($)</th>\n",
       "    </tr>\n",
       "    <tr>\n",
       "      <th>SECTOR</th>\n",
       "      <th></th>\n",
       "    </tr>\n",
       "  </thead>\n",
       "  <tbody>\n",
       "    <tr>\n",
       "      <th>Transport</th>\n",
       "      <td>164800.0</td>\n",
       "    </tr>\n",
       "    <tr>\n",
       "      <th>Power</th>\n",
       "      <td>17180.0</td>\n",
       "    </tr>\n",
       "    <tr>\n",
       "      <th>Agriculture, food</th>\n",
       "      <td>12030.0</td>\n",
       "    </tr>\n",
       "    <tr>\n",
       "      <th>Government</th>\n",
       "      <td>3280.0</td>\n",
       "    </tr>\n",
       "    <tr>\n",
       "      <th>Other construction</th>\n",
       "      <td>2620.0</td>\n",
       "    </tr>\n",
       "  </tbody>\n",
       "</table>\n",
       "</div>"
      ],
      "text/plain": [
       "                    amount in lakh ($)\n",
       "SECTOR                                \n",
       "Transport                     164800.0\n",
       "Power                          17180.0\n",
       "Agriculture, food              12030.0\n",
       "Government                      3280.0\n",
       "Other construction              2620.0"
      ]
     },
     "execution_count": 67,
     "metadata": {},
     "output_type": "execute_result"
    }
   ],
   "source": [
    "ethio[['amount in lakh ($)','SECTOR']].groupby('SECTOR').sum().sort_values('amount in lakh ($)',ascending=False)"
   ]
  },
  {
   "cell_type": "code",
   "execution_count": 68,
   "id": "69865eac",
   "metadata": {},
   "outputs": [
    {
     "data": {
      "text/html": [
       "<div>\n",
       "<style scoped>\n",
       "    .dataframe tbody tr th:only-of-type {\n",
       "        vertical-align: middle;\n",
       "    }\n",
       "\n",
       "    .dataframe tbody tr th {\n",
       "        vertical-align: top;\n",
       "    }\n",
       "\n",
       "    .dataframe thead th {\n",
       "        text-align: right;\n",
       "    }\n",
       "</style>\n",
       "<table border=\"1\" class=\"dataframe\">\n",
       "  <thead>\n",
       "    <tr style=\"text-align: right;\">\n",
       "      <th></th>\n",
       "      <th>amount in lakh ($)</th>\n",
       "    </tr>\n",
       "    <tr>\n",
       "      <th>YEAR</th>\n",
       "      <th></th>\n",
       "    </tr>\n",
       "  </thead>\n",
       "  <tbody>\n",
       "    <tr>\n",
       "      <th>2009</th>\n",
       "      <td>6190.0</td>\n",
       "    </tr>\n",
       "    <tr>\n",
       "      <th>2010</th>\n",
       "      <td>1250.0</td>\n",
       "    </tr>\n",
       "    <tr>\n",
       "      <th>2011</th>\n",
       "      <td>11530.0</td>\n",
       "    </tr>\n",
       "    <tr>\n",
       "      <th>2012</th>\n",
       "      <td>1480.0</td>\n",
       "    </tr>\n",
       "    <tr>\n",
       "      <th>2013</th>\n",
       "      <td>154810.0</td>\n",
       "    </tr>\n",
       "    <tr>\n",
       "      <th>2014</th>\n",
       "      <td>6870.0</td>\n",
       "    </tr>\n",
       "    <tr>\n",
       "      <th>2015</th>\n",
       "      <td>630.0</td>\n",
       "    </tr>\n",
       "    <tr>\n",
       "      <th>2016</th>\n",
       "      <td>8240.0</td>\n",
       "    </tr>\n",
       "    <tr>\n",
       "      <th>2017</th>\n",
       "      <td>7350.0</td>\n",
       "    </tr>\n",
       "    <tr>\n",
       "      <th>2018</th>\n",
       "      <td>1560.0</td>\n",
       "    </tr>\n",
       "  </tbody>\n",
       "</table>\n",
       "</div>"
      ],
      "text/plain": [
       "      amount in lakh ($)\n",
       "YEAR                    \n",
       "2009              6190.0\n",
       "2010              1250.0\n",
       "2011             11530.0\n",
       "2012              1480.0\n",
       "2013            154810.0\n",
       "2014              6870.0\n",
       "2015               630.0\n",
       "2016              8240.0\n",
       "2017              7350.0\n",
       "2018              1560.0"
      ]
     },
     "execution_count": 68,
     "metadata": {},
     "output_type": "execute_result"
    }
   ],
   "source": [
    "ethio_year=ethio[['amount in lakh ($)','YEAR']].groupby('YEAR').sum()\n",
    "ethio_year"
   ]
  },
  {
   "cell_type": "code",
   "execution_count": 69,
   "id": "ac444313",
   "metadata": {},
   "outputs": [
    {
     "data": {
      "text/plain": [
       "<AxesSubplot:xlabel='YEAR'>"
      ]
     },
     "execution_count": 69,
     "metadata": {},
     "output_type": "execute_result"
    },
    {
     "data": {
      "image/png": "[encoded data removed]",
      "text/plain": [
       "<Figure size 432x288 with 1 Axes>"
      ]
     },
     "metadata": {
      "needs_background": "light"
     },
     "output_type": "display_data"
    }
   ],
   "source": [
    "ethio_year.plot()"
   ]
  },
  {
   "cell_type": "markdown",
   "id": "4d6e4ccb",
   "metadata": {},
   "source": [
    "Ethiopia never borrows amount that exceed 2013's amount before and after 2013. it was around 150000Lakh"
   ]
  },
  {
   "cell_type": "code",
   "execution_count": 70,
   "id": "f1274c98",
   "metadata": {},
   "outputs": [
    {
     "data": {
      "image/png": "[encoded data removed]",
      "text/plain": [
       "<Figure size 720x1440 with 1 Axes>"
      ]
     },
     "metadata": {},
     "output_type": "display_data"
    }
   ],
   "source": [
    "plt.figure(1, figsize=(10,20))\n",
    "#the_grid = GridSpec(2, 2)\n",
    "cmap = plt.get_cmap('Spectral')\n",
    "colors = [cmap(i) for i in np.linspace(0, 1, 8)]\n",
    "plt.subplot( aspect=1, title='Sectors distribution in Ethiopia')\n",
    "type_show_ids = plt.pie(ethio['SECTOR'].value_counts(),labels=ethio['SECTOR'].value_counts().index, autopct='%1.1f%%', shadow=True, colors=colors)\n",
    "plt.show()"
   ]
  },
  {
   "cell_type": "code",
   "execution_count": 71,
   "id": "8ff87ed5",
   "metadata": {},
   "outputs": [
    {
     "data": {
      "text/html": [
       "<div>\n",
       "<style scoped>\n",
       "    .dataframe tbody tr th:only-of-type {\n",
       "        vertical-align: middle;\n",
       "    }\n",
       "\n",
       "    .dataframe tbody tr th {\n",
       "        vertical-align: top;\n",
       "    }\n",
       "\n",
       "    .dataframe thead th {\n",
       "        text-align: right;\n",
       "    }\n",
       "</style>\n",
       "<table border=\"1\" class=\"dataframe\">\n",
       "  <thead>\n",
       "    <tr style=\"text-align: right;\">\n",
       "      <th></th>\n",
       "      <th></th>\n",
       "      <th>amount in lakh ($)</th>\n",
       "    </tr>\n",
       "    <tr>\n",
       "      <th>YEAR</th>\n",
       "      <th>SECTOR</th>\n",
       "      <th></th>\n",
       "    </tr>\n",
       "  </thead>\n",
       "  <tbody>\n",
       "    <tr>\n",
       "      <th rowspan=\"2\" valign=\"top\">2009</th>\n",
       "      <th>Power</th>\n",
       "      <td>2700.000000</td>\n",
       "    </tr>\n",
       "    <tr>\n",
       "      <th>Transport</th>\n",
       "      <td>3490.000000</td>\n",
       "    </tr>\n",
       "    <tr>\n",
       "      <th rowspan=\"2\" valign=\"top\">2010</th>\n",
       "      <th>Government</th>\n",
       "      <td>260.000000</td>\n",
       "    </tr>\n",
       "    <tr>\n",
       "      <th>Power</th>\n",
       "      <td>990.000000</td>\n",
       "    </tr>\n",
       "    <tr>\n",
       "      <th rowspan=\"3\" valign=\"top\">2011</th>\n",
       "      <th>Government</th>\n",
       "      <td>960.000000</td>\n",
       "    </tr>\n",
       "    <tr>\n",
       "      <th>Power</th>\n",
       "      <td>1385.000000</td>\n",
       "    </tr>\n",
       "    <tr>\n",
       "      <th>Transport</th>\n",
       "      <td>2600.000000</td>\n",
       "    </tr>\n",
       "    <tr>\n",
       "      <th rowspan=\"2\" valign=\"top\">2012</th>\n",
       "      <th>Agriculture, food</th>\n",
       "      <td>1230.000000</td>\n",
       "    </tr>\n",
       "    <tr>\n",
       "      <th>Government</th>\n",
       "      <td>250.000000</td>\n",
       "    </tr>\n",
       "    <tr>\n",
       "      <th rowspan=\"4\" valign=\"top\">2013</th>\n",
       "      <th>Agriculture, food</th>\n",
       "      <td>2900.000000</td>\n",
       "    </tr>\n",
       "    <tr>\n",
       "      <th>Government</th>\n",
       "      <td>250.000000</td>\n",
       "    </tr>\n",
       "    <tr>\n",
       "      <th>Power</th>\n",
       "      <td>2930.000000</td>\n",
       "    </tr>\n",
       "    <tr>\n",
       "      <th>Transport</th>\n",
       "      <td>29166.000000</td>\n",
       "    </tr>\n",
       "    <tr>\n",
       "      <th rowspan=\"2\" valign=\"top\">2014</th>\n",
       "      <th>Agriculture, food</th>\n",
       "      <td>5000.000000</td>\n",
       "    </tr>\n",
       "    <tr>\n",
       "      <th>Transport</th>\n",
       "      <td>1870.000000</td>\n",
       "    </tr>\n",
       "    <tr>\n",
       "      <th>2015</th>\n",
       "      <th>Power</th>\n",
       "      <td>630.000000</td>\n",
       "    </tr>\n",
       "    <tr>\n",
       "      <th rowspan=\"2\" valign=\"top\">2016</th>\n",
       "      <th>Power</th>\n",
       "      <td>2070.000000</td>\n",
       "    </tr>\n",
       "    <tr>\n",
       "      <th>Transport</th>\n",
       "      <td>1366.666667</td>\n",
       "    </tr>\n",
       "    <tr>\n",
       "      <th rowspan=\"3\" valign=\"top\">2017</th>\n",
       "      <th>Other construction</th>\n",
       "      <td>2620.000000</td>\n",
       "    </tr>\n",
       "    <tr>\n",
       "      <th>Power</th>\n",
       "      <td>1510.000000</td>\n",
       "    </tr>\n",
       "    <tr>\n",
       "      <th>Transport</th>\n",
       "      <td>1710.000000</td>\n",
       "    </tr>\n",
       "    <tr>\n",
       "      <th>2018</th>\n",
       "      <th>Government</th>\n",
       "      <td>1560.000000</td>\n",
       "    </tr>\n",
       "  </tbody>\n",
       "</table>\n",
       "</div>"
      ],
      "text/plain": [
       "                         amount in lakh ($)\n",
       "YEAR SECTOR                                \n",
       "2009 Power                      2700.000000\n",
       "     Transport                  3490.000000\n",
       "2010 Government                  260.000000\n",
       "     Power                       990.000000\n",
       "2011 Government                  960.000000\n",
       "     Power                      1385.000000\n",
       "     Transport                  2600.000000\n",
       "2012 Agriculture, food          1230.000000\n",
       "     Government                  250.000000\n",
       "2013 Agriculture, food          2900.000000\n",
       "     Government                  250.000000\n",
       "     Power                      2930.000000\n",
       "     Transport                 29166.000000\n",
       "2014 Agriculture, food          5000.000000\n",
       "     Transport                  1870.000000\n",
       "2015 Power                       630.000000\n",
       "2016 Power                      2070.000000\n",
       "     Transport                  1366.666667\n",
       "2017 Other construction         2620.000000\n",
       "     Power                      1510.000000\n",
       "     Transport                  1710.000000\n",
       "2018 Government                 1560.000000"
      ]
     },
     "execution_count": 71,
     "metadata": {},
     "output_type": "execute_result"
    }
   ],
   "source": [
    "table=pd.pivot_table(data=ethio,index=['YEAR','SECTOR'])\n",
    "table"
   ]
  },
  {
   "cell_type": "code",
   "execution_count": 72,
   "id": "506815e6",
   "metadata": {},
   "outputs": [
    {
     "data": {
      "text/html": [
       "<div>\n",
       "<style scoped>\n",
       "    .dataframe tbody tr th:only-of-type {\n",
       "        vertical-align: middle;\n",
       "    }\n",
       "\n",
       "    .dataframe tbody tr th {\n",
       "        vertical-align: top;\n",
       "    }\n",
       "\n",
       "    .dataframe thead th {\n",
       "        text-align: right;\n",
       "    }\n",
       "</style>\n",
       "<table border=\"1\" class=\"dataframe\">\n",
       "  <thead>\n",
       "    <tr style=\"text-align: right;\">\n",
       "      <th></th>\n",
       "      <th></th>\n",
       "      <th>amount in lakh ($)</th>\n",
       "    </tr>\n",
       "    <tr>\n",
       "      <th>YEAR</th>\n",
       "      <th>SECTOR</th>\n",
       "      <th></th>\n",
       "    </tr>\n",
       "  </thead>\n",
       "  <tbody>\n",
       "    <tr>\n",
       "      <th rowspan=\"5\" valign=\"top\">2008</th>\n",
       "      <th>Agriculture, food</th>\n",
       "      <td>290.000000</td>\n",
       "    </tr>\n",
       "    <tr>\n",
       "      <th>Extraction, pipelines</th>\n",
       "      <td>4290.000000</td>\n",
       "    </tr>\n",
       "    <tr>\n",
       "      <th>Government</th>\n",
       "      <td>560.000000</td>\n",
       "    </tr>\n",
       "    <tr>\n",
       "      <th>Manufacturing</th>\n",
       "      <td>130000.000000</td>\n",
       "    </tr>\n",
       "    <tr>\n",
       "      <th>Mulit-sector/discretionary</th>\n",
       "      <td>2825.000000</td>\n",
       "    </tr>\n",
       "    <tr>\n",
       "      <th>...</th>\n",
       "      <th>...</th>\n",
       "      <td>...</td>\n",
       "    </tr>\n",
       "    <tr>\n",
       "      <th rowspan=\"2\" valign=\"top\">2018</th>\n",
       "      <th>Telecom</th>\n",
       "      <td>1723.333333</td>\n",
       "    </tr>\n",
       "    <tr>\n",
       "      <th>Transport</th>\n",
       "      <td>7024.500000</td>\n",
       "    </tr>\n",
       "    <tr>\n",
       "      <th rowspan=\"3\" valign=\"top\">2019</th>\n",
       "      <th>Mulit-sector/discretionary</th>\n",
       "      <td>1040.000000</td>\n",
       "    </tr>\n",
       "    <tr>\n",
       "      <th>Power</th>\n",
       "      <td>170000.000000</td>\n",
       "    </tr>\n",
       "    <tr>\n",
       "      <th>Transport</th>\n",
       "      <td>2180.000000</td>\n",
       "    </tr>\n",
       "  </tbody>\n",
       "</table>\n",
       "<p>91 rows × 1 columns</p>\n",
       "</div>"
      ],
      "text/plain": [
       "                                 amount in lakh ($)\n",
       "YEAR SECTOR                                        \n",
       "2008 Agriculture, food                   290.000000\n",
       "     Extraction, pipelines              4290.000000\n",
       "     Government                          560.000000\n",
       "     Manufacturing                    130000.000000\n",
       "     Mulit-sector/discretionary         2825.000000\n",
       "...                                             ...\n",
       "2018 Telecom                            1723.333333\n",
       "     Transport                          7024.500000\n",
       "2019 Mulit-sector/discretionary         1040.000000\n",
       "     Power                            170000.000000\n",
       "     Transport                          2180.000000\n",
       "\n",
       "[91 rows x 1 columns]"
      ]
     },
     "execution_count": 72,
     "metadata": {},
     "output_type": "execute_result"
    }
   ],
   "source": [
    "table2=pd.pivot_table(data=df,index=['YEAR','SECTOR'],values=['amount in lakh ($)'])\n",
    "table2"
   ]
  },
  {
   "cell_type": "code",
   "execution_count": 73,
   "id": "2e5807ad",
   "metadata": {},
   "outputs": [
    {
     "data": {
      "text/html": [
       "<div>\n",
       "<style scoped>\n",
       "    .dataframe tbody tr th:only-of-type {\n",
       "        vertical-align: middle;\n",
       "    }\n",
       "\n",
       "    .dataframe tbody tr th {\n",
       "        vertical-align: top;\n",
       "    }\n",
       "\n",
       "    .dataframe thead th {\n",
       "        text-align: right;\n",
       "    }\n",
       "</style>\n",
       "<table border=\"1\" class=\"dataframe\">\n",
       "  <thead>\n",
       "    <tr style=\"text-align: right;\">\n",
       "      <th></th>\n",
       "      <th></th>\n",
       "      <th>amount in lakh ($)</th>\n",
       "    </tr>\n",
       "    <tr>\n",
       "      <th>YEAR</th>\n",
       "      <th>SECTOR</th>\n",
       "      <th></th>\n",
       "    </tr>\n",
       "  </thead>\n",
       "  <tbody>\n",
       "    <tr>\n",
       "      <th rowspan=\"5\" valign=\"top\">2008</th>\n",
       "      <th>Agriculture, food</th>\n",
       "      <td>290.0</td>\n",
       "    </tr>\n",
       "    <tr>\n",
       "      <th>Extraction, pipelines</th>\n",
       "      <td>4290.0</td>\n",
       "    </tr>\n",
       "    <tr>\n",
       "      <th>Government</th>\n",
       "      <td>2240.0</td>\n",
       "    </tr>\n",
       "    <tr>\n",
       "      <th>Manufacturing</th>\n",
       "      <td>130000.0</td>\n",
       "    </tr>\n",
       "    <tr>\n",
       "      <th>Mulit-sector/discretionary</th>\n",
       "      <td>5650.0</td>\n",
       "    </tr>\n",
       "    <tr>\n",
       "      <th>...</th>\n",
       "      <th>...</th>\n",
       "      <td>...</td>\n",
       "    </tr>\n",
       "    <tr>\n",
       "      <th rowspan=\"2\" valign=\"top\">2018</th>\n",
       "      <th>Telecom</th>\n",
       "      <td>5170.0</td>\n",
       "    </tr>\n",
       "    <tr>\n",
       "      <th>Transport</th>\n",
       "      <td>140490.0</td>\n",
       "    </tr>\n",
       "    <tr>\n",
       "      <th rowspan=\"3\" valign=\"top\">2019</th>\n",
       "      <th>Mulit-sector/discretionary</th>\n",
       "      <td>1040.0</td>\n",
       "    </tr>\n",
       "    <tr>\n",
       "      <th>Power</th>\n",
       "      <td>340000.0</td>\n",
       "    </tr>\n",
       "    <tr>\n",
       "      <th>Transport</th>\n",
       "      <td>4360.0</td>\n",
       "    </tr>\n",
       "  </tbody>\n",
       "</table>\n",
       "<p>91 rows × 1 columns</p>\n",
       "</div>"
      ],
      "text/plain": [
       "                                 amount in lakh ($)\n",
       "YEAR SECTOR                                        \n",
       "2008 Agriculture, food                        290.0\n",
       "     Extraction, pipelines                   4290.0\n",
       "     Government                              2240.0\n",
       "     Manufacturing                         130000.0\n",
       "     Mulit-sector/discretionary              5650.0\n",
       "...                                             ...\n",
       "2018 Telecom                                 5170.0\n",
       "     Transport                             140490.0\n",
       "2019 Mulit-sector/discretionary              1040.0\n",
       "     Power                                 340000.0\n",
       "     Transport                               4360.0\n",
       "\n",
       "[91 rows x 1 columns]"
      ]
     },
     "execution_count": 73,
     "metadata": {},
     "output_type": "execute_result"
    }
   ],
   "source": [
    "df[['amount in lakh ($)','YEAR','SECTOR']].groupby(['YEAR','SECTOR']).sum()"
   ]
  },
  {
   "cell_type": "code",
   "execution_count": null,
   "id": "6388df64",
   "metadata": {},
   "outputs": [],
   "source": []
  },
  {
   "cell_type": "code",
   "execution_count": null,
   "id": "97bd0b0d",
   "metadata": {},
   "outputs": [],
   "source": []
  }
 ],
 "metadata": {
  "kernelspec": {
   "display_name": "Python 3 (ipykernel)",
   "language": "python",
   "name": "python3"
  },
  "language_info": {
   "codemirror_mode": {
    "name": "ipython",
    "version": 3
   },
   "file_extension": ".py",
   "mimetype": "text/x-python",
   "name": "python",
   "nbconvert_exporter": "python",
   "pygments_lexer": "ipython3",
   "version": "3.9.7"
  }
 },
 "nbformat": 4,
 "nbformat_minor": 5
}
