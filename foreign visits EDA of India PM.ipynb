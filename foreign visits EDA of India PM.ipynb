{
 "cells": [
  {
   "cell_type": "code",
   "execution_count": null,
   "id": "324957e6",
   "metadata": {},
   "outputs": [],
   "source": [
    "INDIA PM VISITING HISTORY"
   ]
  },
  {
   "cell_type": "markdown",
   "id": "6471e1f9",
   "metadata": {},
   "source": [
    "here I try to analyse India PM domestic and foreign visiting history data.\n",
    "\n",
    "library pandas to read csv file\n",
    "methods: grouping by year and country\n",
    "the main objective is to understand his visiting:\n",
    "\n",
    "ploting some chart\n",
    "grouping"
   ]
  },
  {
   "cell_type": "code",
   "execution_count": 327,
   "id": "a9c9ef16",
   "metadata": {},
   "outputs": [],
   "source": [
    "import pandas as pd\n",
    "import matplotlib.pyplot as plt\n",
    "import seaborn as sns\n",
    "%matplotlib inline"
   ]
  },
  {
   "cell_type": "code",
   "execution_count": 328,
   "id": "c8c9a2fe",
   "metadata": {},
   "outputs": [
    {
     "data": {
      "text/html": [
       "<div>\n",
       "<style scoped>\n",
       "    .dataframe tbody tr th:only-of-type {\n",
       "        vertical-align: middle;\n",
       "    }\n",
       "\n",
       "    .dataframe tbody tr th {\n",
       "        vertical-align: top;\n",
       "    }\n",
       "\n",
       "    .dataframe thead th {\n",
       "        text-align: right;\n",
       "    }\n",
       "</style>\n",
       "<table border=\"1\" class=\"dataframe\">\n",
       "  <thead>\n",
       "    <tr style=\"text-align: right;\">\n",
       "      <th></th>\n",
       "      <th>place_of_visit</th>\n",
       "      <th>period_of_visit_from</th>\n",
       "      <th>period_of_visit_to</th>\n",
       "      <th>no_of_days</th>\n",
       "      <th>expenses_incurred_on_chartered_flight_rs</th>\n",
       "    </tr>\n",
       "  </thead>\n",
       "  <tbody>\n",
       "    <tr>\n",
       "      <th>0</th>\n",
       "      <td>Bhutan</td>\n",
       "      <td>15-06-2014</td>\n",
       "      <td>16-06-2014</td>\n",
       "      <td>1.0</td>\n",
       "      <td>24527465</td>\n",
       "    </tr>\n",
       "    <tr>\n",
       "      <th>1</th>\n",
       "      <td>Brazil</td>\n",
       "      <td>13-07-2014</td>\n",
       "      <td>17-07-2014</td>\n",
       "      <td>4.0</td>\n",
       "      <td>203548000</td>\n",
       "    </tr>\n",
       "    <tr>\n",
       "      <th>2</th>\n",
       "      <td>Nepal</td>\n",
       "      <td>03-08-2014</td>\n",
       "      <td>05-08-2014</td>\n",
       "      <td>2.0</td>\n",
       "      <td>IAF BBJ Aircraft</td>\n",
       "    </tr>\n",
       "    <tr>\n",
       "      <th>3</th>\n",
       "      <td>Japan</td>\n",
       "      <td>30-08-2014</td>\n",
       "      <td>03-09-2014</td>\n",
       "      <td>4.0</td>\n",
       "      <td>134758000</td>\n",
       "    </tr>\n",
       "    <tr>\n",
       "      <th>4</th>\n",
       "      <td>USA</td>\n",
       "      <td>25-09-2014</td>\n",
       "      <td>01-10-2014</td>\n",
       "      <td>6.0</td>\n",
       "      <td>190460000</td>\n",
       "    </tr>\n",
       "  </tbody>\n",
       "</table>\n",
       "</div>"
      ],
      "text/plain": [
       "  place_of_visit period_of_visit_from period_of_visit_to  no_of_days  \\\n",
       "0         Bhutan           15-06-2014         16-06-2014         1.0   \n",
       "1         Brazil           13-07-2014         17-07-2014         4.0   \n",
       "2          Nepal           03-08-2014         05-08-2014         2.0   \n",
       "3          Japan           30-08-2014         03-09-2014         4.0   \n",
       "4            USA           25-09-2014         01-10-2014         6.0   \n",
       "\n",
       "  expenses_incurred_on_chartered_flight_rs  \n",
       "0                                 24527465  \n",
       "1                                203548000  \n",
       "2                         IAF BBJ Aircraft  \n",
       "3                                134758000  \n",
       "4                                190460000  "
      ]
     },
     "execution_count": 328,
     "metadata": {},
     "output_type": "execute_result"
    }
   ],
   "source": [
    "df=pd.read_csv('foreign_visits.csv')\n",
    "df.head()"
   ]
  },
  {
   "cell_type": "code",
   "execution_count": 329,
   "id": "978c36a2",
   "metadata": {},
   "outputs": [
    {
     "data": {
      "text/html": [
       "<div>\n",
       "<style scoped>\n",
       "    .dataframe tbody tr th:only-of-type {\n",
       "        vertical-align: middle;\n",
       "    }\n",
       "\n",
       "    .dataframe tbody tr th {\n",
       "        vertical-align: top;\n",
       "    }\n",
       "\n",
       "    .dataframe thead th {\n",
       "        text-align: right;\n",
       "    }\n",
       "</style>\n",
       "<table border=\"1\" class=\"dataframe\">\n",
       "  <thead>\n",
       "    <tr style=\"text-align: right;\">\n",
       "      <th></th>\n",
       "      <th>place_of_visit</th>\n",
       "      <th>period_of_visit_from</th>\n",
       "      <th>period_of_visit_to</th>\n",
       "      <th>no_of_days</th>\n",
       "      <th>expenses_incurred_on_chartered_flight_rs</th>\n",
       "    </tr>\n",
       "  </thead>\n",
       "  <tbody>\n",
       "    <tr>\n",
       "      <th>101</th>\n",
       "      <td>Thailand</td>\n",
       "      <td>02-11-2019</td>\n",
       "      <td>04-11-2019</td>\n",
       "      <td>3.0</td>\n",
       "      <td>6,68,34,000</td>\n",
       "    </tr>\n",
       "    <tr>\n",
       "      <th>102</th>\n",
       "      <td>Brazil</td>\n",
       "      <td>13-11-2021</td>\n",
       "      <td>15-11-2019</td>\n",
       "      <td>3.0</td>\n",
       "      <td>20,01,61,000</td>\n",
       "    </tr>\n",
       "    <tr>\n",
       "      <th>103</th>\n",
       "      <td>Bangladesh</td>\n",
       "      <td>26-03-2021</td>\n",
       "      <td>27-03-2021</td>\n",
       "      <td>2.0</td>\n",
       "      <td>NaN</td>\n",
       "    </tr>\n",
       "    <tr>\n",
       "      <th>104</th>\n",
       "      <td>USA</td>\n",
       "      <td>22-09-2021</td>\n",
       "      <td>26-09-2021</td>\n",
       "      <td>5.0</td>\n",
       "      <td>NaN</td>\n",
       "    </tr>\n",
       "    <tr>\n",
       "      <th>105</th>\n",
       "      <td>Italy and UK</td>\n",
       "      <td>29-10-2021</td>\n",
       "      <td>02-11-2021</td>\n",
       "      <td>5.0</td>\n",
       "      <td>NaN</td>\n",
       "    </tr>\n",
       "  </tbody>\n",
       "</table>\n",
       "</div>"
      ],
      "text/plain": [
       "    place_of_visit period_of_visit_from period_of_visit_to  no_of_days  \\\n",
       "101       Thailand           02-11-2019         04-11-2019         3.0   \n",
       "102         Brazil           13-11-2021         15-11-2019         3.0   \n",
       "103     Bangladesh           26-03-2021         27-03-2021         2.0   \n",
       "104            USA           22-09-2021         26-09-2021         5.0   \n",
       "105   Italy and UK           29-10-2021         02-11-2021         5.0   \n",
       "\n",
       "    expenses_incurred_on_chartered_flight_rs  \n",
       "101                              6,68,34,000  \n",
       "102                             20,01,61,000  \n",
       "103                                      NaN  \n",
       "104                                      NaN  \n",
       "105                                      NaN  "
      ]
     },
     "execution_count": 329,
     "metadata": {},
     "output_type": "execute_result"
    }
   ],
   "source": [
    "df.tail()"
   ]
  },
  {
   "cell_type": "code",
   "execution_count": 330,
   "id": "cb6f0b5e",
   "metadata": {},
   "outputs": [
    {
     "name": "stdout",
     "output_type": "stream",
     "text": [
      "<class 'pandas.core.frame.DataFrame'>\n",
      "RangeIndex: 106 entries, 0 to 105\n",
      "Data columns (total 5 columns):\n",
      " #   Column                                    Non-Null Count  Dtype  \n",
      "---  ------                                    --------------  -----  \n",
      " 0   place_of_visit                            106 non-null    object \n",
      " 1   period_of_visit_from                      106 non-null    object \n",
      " 2   period_of_visit_to                        106 non-null    object \n",
      " 3   no_of_days                                106 non-null    float64\n",
      " 4   expenses_incurred_on_chartered_flight_rs  103 non-null    object \n",
      "dtypes: float64(1), object(4)\n",
      "memory usage: 4.3+ KB\n"
     ]
    }
   ],
   "source": [
    "# checking the datatype of columns\n",
    "df.info()"
   ]
  },
  {
   "cell_type": "code",
   "execution_count": 331,
   "id": "ae6b71fa",
   "metadata": {},
   "outputs": [
    {
     "data": {
      "text/html": [
       "<div>\n",
       "<style scoped>\n",
       "    .dataframe tbody tr th:only-of-type {\n",
       "        vertical-align: middle;\n",
       "    }\n",
       "\n",
       "    .dataframe tbody tr th {\n",
       "        vertical-align: top;\n",
       "    }\n",
       "\n",
       "    .dataframe thead th {\n",
       "        text-align: right;\n",
       "    }\n",
       "</style>\n",
       "<table border=\"1\" class=\"dataframe\">\n",
       "  <thead>\n",
       "    <tr style=\"text-align: right;\">\n",
       "      <th></th>\n",
       "      <th>no_of_days</th>\n",
       "    </tr>\n",
       "  </thead>\n",
       "  <tbody>\n",
       "    <tr>\n",
       "      <th>count</th>\n",
       "      <td>106.000000</td>\n",
       "    </tr>\n",
       "    <tr>\n",
       "      <th>mean</th>\n",
       "      <td>1.858491</td>\n",
       "    </tr>\n",
       "    <tr>\n",
       "      <th>std</th>\n",
       "      <td>1.337650</td>\n",
       "    </tr>\n",
       "    <tr>\n",
       "      <th>min</th>\n",
       "      <td>0.000000</td>\n",
       "    </tr>\n",
       "    <tr>\n",
       "      <th>25%</th>\n",
       "      <td>1.000000</td>\n",
       "    </tr>\n",
       "    <tr>\n",
       "      <th>50%</th>\n",
       "      <td>1.750000</td>\n",
       "    </tr>\n",
       "    <tr>\n",
       "      <th>75%</th>\n",
       "      <td>2.000000</td>\n",
       "    </tr>\n",
       "    <tr>\n",
       "      <th>max</th>\n",
       "      <td>8.000000</td>\n",
       "    </tr>\n",
       "  </tbody>\n",
       "</table>\n",
       "</div>"
      ],
      "text/plain": [
       "       no_of_days\n",
       "count  106.000000\n",
       "mean     1.858491\n",
       "std      1.337650\n",
       "min      0.000000\n",
       "25%      1.000000\n",
       "50%      1.750000\n",
       "75%      2.000000\n",
       "max      8.000000"
      ]
     },
     "execution_count": 331,
     "metadata": {},
     "output_type": "execute_result"
    }
   ],
   "source": [
    "df.describe()"
   ]
  },
  {
   "cell_type": "code",
   "execution_count": 332,
   "id": "9f312e45",
   "metadata": {},
   "outputs": [],
   "source": [
    "# changing the datatype\n",
    "df['period_of_visit_from'] = pd.to_datetime(df['period_of_visit_from'])\n",
    "df['period_of_visit_to'] = pd.to_datetime(df['period_of_visit_to'])"
   ]
  },
  {
   "cell_type": "code",
   "execution_count": 333,
   "id": "c4b64efc",
   "metadata": {},
   "outputs": [
    {
     "name": "stdout",
     "output_type": "stream",
     "text": [
      "<class 'pandas.core.frame.DataFrame'>\n",
      "RangeIndex: 106 entries, 0 to 105\n",
      "Data columns (total 5 columns):\n",
      " #   Column                                    Non-Null Count  Dtype         \n",
      "---  ------                                    --------------  -----         \n",
      " 0   place_of_visit                            106 non-null    object        \n",
      " 1   period_of_visit_from                      106 non-null    datetime64[ns]\n",
      " 2   period_of_visit_to                        106 non-null    datetime64[ns]\n",
      " 3   no_of_days                                106 non-null    float64       \n",
      " 4   expenses_incurred_on_chartered_flight_rs  103 non-null    object        \n",
      "dtypes: datetime64[ns](2), float64(1), object(2)\n",
      "memory usage: 4.3+ KB\n"
     ]
    }
   ],
   "source": [
    "# checking the data type after we change the data type\n",
    "df.info()"
   ]
  },
  {
   "cell_type": "code",
   "execution_count": 334,
   "id": "ceaceab8",
   "metadata": {},
   "outputs": [],
   "source": [
    "# extract year from the period_of_visit_from\n",
    "df['year'] = pd. DatetimeIndex(df['period_of_visit_from']). year"
   ]
  },
  {
   "cell_type": "code",
   "execution_count": 335,
   "id": "70faed46",
   "metadata": {},
   "outputs": [
    {
     "data": {
      "text/plain": [
       "197.0"
      ]
     },
     "execution_count": 335,
     "metadata": {},
     "output_type": "execute_result"
    }
   ],
   "source": [
    "# how many days the PM was on visiting\n",
    "df['no_of_days'].sum()"
   ]
  },
  {
   "cell_type": "code",
   "execution_count": 336,
   "id": "8efd2859",
   "metadata": {},
   "outputs": [
    {
     "data": {
      "text/plain": [
       "65"
      ]
     },
     "execution_count": 336,
     "metadata": {},
     "output_type": "execute_result"
    }
   ],
   "source": [
    "# how many countries does the PM visit\n",
    "len(df['place_of_visit'].unique())"
   ]
  },
  {
   "cell_type": "code",
   "execution_count": 337,
   "id": "26b48089",
   "metadata": {},
   "outputs": [
    {
     "data": {
      "text/plain": [
       "USA          7\n",
       "Russia       5\n",
       "Singapore    4\n",
       "Nepal        4\n",
       "Japan        4\n",
       "Name: place_of_visit, dtype: int64"
      ]
     },
     "execution_count": 337,
     "metadata": {},
     "output_type": "execute_result"
    }
   ],
   "source": [
    "# top 5 countries (frequently) visited by PM of India\n",
    "df['place_of_visit'].value_counts().head(5)"
   ]
  },
  {
   "cell_type": "code",
   "execution_count": 338,
   "id": "de5ca500",
   "metadata": {},
   "outputs": [
    {
     "data": {
      "text/html": [
       "<div>\n",
       "<style scoped>\n",
       "    .dataframe tbody tr th:only-of-type {\n",
       "        vertical-align: middle;\n",
       "    }\n",
       "\n",
       "    .dataframe tbody tr th {\n",
       "        vertical-align: top;\n",
       "    }\n",
       "\n",
       "    .dataframe thead th {\n",
       "        text-align: right;\n",
       "    }\n",
       "</style>\n",
       "<table border=\"1\" class=\"dataframe\">\n",
       "  <thead>\n",
       "    <tr style=\"text-align: right;\">\n",
       "      <th></th>\n",
       "      <th>place_of_visit</th>\n",
       "      <th>period_of_visit_from</th>\n",
       "      <th>period_of_visit_to</th>\n",
       "      <th>no_of_days</th>\n",
       "      <th>expenses_incurred_on_chartered_flight_rs</th>\n",
       "      <th>year</th>\n",
       "    </tr>\n",
       "  </thead>\n",
       "  <tbody>\n",
       "    <tr>\n",
       "      <th>2</th>\n",
       "      <td>Nepal</td>\n",
       "      <td>2014-03-08</td>\n",
       "      <td>2014-05-08</td>\n",
       "      <td>2.0</td>\n",
       "      <td>IAF BBJ Aircraft</td>\n",
       "      <td>2014</td>\n",
       "    </tr>\n",
       "    <tr>\n",
       "      <th>8</th>\n",
       "      <td>Nepal</td>\n",
       "      <td>2014-11-25</td>\n",
       "      <td>2014-11-27</td>\n",
       "      <td>2.0</td>\n",
       "      <td>IAF BBJ Aircraft</td>\n",
       "      <td>2014</td>\n",
       "    </tr>\n",
       "    <tr>\n",
       "      <th>12</th>\n",
       "      <td>Singapore</td>\n",
       "      <td>2015-03-28</td>\n",
       "      <td>2015-03-29</td>\n",
       "      <td>1.0</td>\n",
       "      <td>IAF BBJ Aircraft</td>\n",
       "      <td>2015</td>\n",
       "    </tr>\n",
       "    <tr>\n",
       "      <th>19</th>\n",
       "      <td>Bangladesh</td>\n",
       "      <td>2015-06-06</td>\n",
       "      <td>2015-07-06</td>\n",
       "      <td>1.0</td>\n",
       "      <td>IAF BBJ Aircraft</td>\n",
       "      <td>2015</td>\n",
       "    </tr>\n",
       "    <tr>\n",
       "      <th>40</th>\n",
       "      <td>Iran</td>\n",
       "      <td>2016-05-22</td>\n",
       "      <td>2016-05-23</td>\n",
       "      <td>1.0</td>\n",
       "      <td>IAF BBJ Aircraft</td>\n",
       "      <td>2016</td>\n",
       "    </tr>\n",
       "    <tr>\n",
       "      <th>87</th>\n",
       "      <td>Nepal</td>\n",
       "      <td>2018-08-30</td>\n",
       "      <td>2018-08-31</td>\n",
       "      <td>1.0</td>\n",
       "      <td>IAF BBJ Aircraft</td>\n",
       "      <td>2018</td>\n",
       "    </tr>\n",
       "    <tr>\n",
       "      <th>93</th>\n",
       "      <td>Maldives &amp; Sri Lanka</td>\n",
       "      <td>2019-08-06</td>\n",
       "      <td>2019-09-06</td>\n",
       "      <td>2.0</td>\n",
       "      <td>IAF BBJ Aircraft</td>\n",
       "      <td>2019</td>\n",
       "    </tr>\n",
       "    <tr>\n",
       "      <th>96</th>\n",
       "      <td>Bhutan</td>\n",
       "      <td>2019-08-17</td>\n",
       "      <td>2019-08-18</td>\n",
       "      <td>2.0</td>\n",
       "      <td>IAF BBJ Aircraft</td>\n",
       "      <td>2019</td>\n",
       "    </tr>\n",
       "  </tbody>\n",
       "</table>\n",
       "</div>"
      ],
      "text/plain": [
       "          place_of_visit period_of_visit_from period_of_visit_to  no_of_days  \\\n",
       "2                  Nepal           2014-03-08         2014-05-08         2.0   \n",
       "8                  Nepal           2014-11-25         2014-11-27         2.0   \n",
       "12             Singapore           2015-03-28         2015-03-29         1.0   \n",
       "19            Bangladesh           2015-06-06         2015-07-06         1.0   \n",
       "40                  Iran           2016-05-22         2016-05-23         1.0   \n",
       "87                 Nepal           2018-08-30         2018-08-31         1.0   \n",
       "93  Maldives & Sri Lanka           2019-08-06         2019-09-06         2.0   \n",
       "96                Bhutan           2019-08-17         2019-08-18         2.0   \n",
       "\n",
       "   expenses_incurred_on_chartered_flight_rs  year  \n",
       "2                          IAF BBJ Aircraft  2014  \n",
       "8                          IAF BBJ Aircraft  2014  \n",
       "12                         IAF BBJ Aircraft  2015  \n",
       "19                         IAF BBJ Aircraft  2015  \n",
       "40                         IAF BBJ Aircraft  2016  \n",
       "87                         IAF BBJ Aircraft  2018  \n",
       "93                         IAF BBJ Aircraft  2019  \n",
       "96                         IAF BBJ Aircraft  2019  "
      ]
     },
     "execution_count": 338,
     "metadata": {},
     "output_type": "execute_result"
    }
   ],
   "source": [
    "# looking how many his visits were covered by IAF BBJ Aircraft\n",
    "df[df['expenses_incurred_on_chartered_flight_rs']=='IAF BBJ Aircraft']"
   ]
  },
  {
   "cell_type": "code",
   "execution_count": 339,
   "id": "4ba15835",
   "metadata": {},
   "outputs": [
    {
     "data": {
      "text/plain": [
       "8"
      ]
     },
     "execution_count": 339,
     "metadata": {},
     "output_type": "execute_result"
    }
   ],
   "source": [
    "IAFBBJAircraft=df[df['expenses_incurred_on_chartered_flight_rs']=='IAF BBJ Aircraft']\n",
    "IAFBBJAircraft.shape[0]"
   ]
  },
  {
   "cell_type": "code",
   "execution_count": 340,
   "id": "db951024",
   "metadata": {},
   "outputs": [
    {
     "data": {
      "text/plain": [
       "array(['Nepal', 'Singapore', 'Bangladesh', 'Iran', 'Maldives & Sri Lanka',\n",
       "       'Bhutan'], dtype=object)"
      ]
     },
     "execution_count": 340,
     "metadata": {},
     "output_type": "execute_result"
    }
   ],
   "source": [
    "IAFBBJAircraft['place_of_visit'].unique()"
   ]
  },
  {
   "cell_type": "code",
   "execution_count": 386,
   "id": "8affe476",
   "metadata": {},
   "outputs": [
    {
     "data": {
      "text/html": [
       "<div>\n",
       "<style scoped>\n",
       "    .dataframe tbody tr th:only-of-type {\n",
       "        vertical-align: middle;\n",
       "    }\n",
       "\n",
       "    .dataframe tbody tr th {\n",
       "        vertical-align: top;\n",
       "    }\n",
       "\n",
       "    .dataframe thead th {\n",
       "        text-align: right;\n",
       "    }\n",
       "</style>\n",
       "<table border=\"1\" class=\"dataframe\">\n",
       "  <thead>\n",
       "    <tr style=\"text-align: right;\">\n",
       "      <th></th>\n",
       "      <th>place_of_visit</th>\n",
       "      <th>period_of_visit_from</th>\n",
       "      <th>period_of_visit_to</th>\n",
       "      <th>no_of_days</th>\n",
       "      <th>expenses_incurred_on_chartered_flight_rs</th>\n",
       "      <th>year</th>\n",
       "    </tr>\n",
       "  </thead>\n",
       "  <tbody>\n",
       "    <tr>\n",
       "      <th>2</th>\n",
       "      <td>Nepal</td>\n",
       "      <td>2014-03-08</td>\n",
       "      <td>2014-05-08</td>\n",
       "      <td>2.0</td>\n",
       "      <td>IAF BBJ Aircraft</td>\n",
       "      <td>2014</td>\n",
       "    </tr>\n",
       "    <tr>\n",
       "      <th>8</th>\n",
       "      <td>Nepal</td>\n",
       "      <td>2014-11-25</td>\n",
       "      <td>2014-11-27</td>\n",
       "      <td>2.0</td>\n",
       "      <td>IAF BBJ Aircraft</td>\n",
       "      <td>2014</td>\n",
       "    </tr>\n",
       "    <tr>\n",
       "      <th>12</th>\n",
       "      <td>Singapore</td>\n",
       "      <td>2015-03-28</td>\n",
       "      <td>2015-03-29</td>\n",
       "      <td>1.0</td>\n",
       "      <td>IAF BBJ Aircraft</td>\n",
       "      <td>2015</td>\n",
       "    </tr>\n",
       "    <tr>\n",
       "      <th>19</th>\n",
       "      <td>Bangladesh</td>\n",
       "      <td>2015-06-06</td>\n",
       "      <td>2015-07-06</td>\n",
       "      <td>1.0</td>\n",
       "      <td>IAF BBJ Aircraft</td>\n",
       "      <td>2015</td>\n",
       "    </tr>\n",
       "    <tr>\n",
       "      <th>40</th>\n",
       "      <td>Iran</td>\n",
       "      <td>2016-05-22</td>\n",
       "      <td>2016-05-23</td>\n",
       "      <td>1.0</td>\n",
       "      <td>IAF BBJ Aircraft</td>\n",
       "      <td>2016</td>\n",
       "    </tr>\n",
       "    <tr>\n",
       "      <th>87</th>\n",
       "      <td>Nepal</td>\n",
       "      <td>2018-08-30</td>\n",
       "      <td>2018-08-31</td>\n",
       "      <td>1.0</td>\n",
       "      <td>IAF BBJ Aircraft</td>\n",
       "      <td>2018</td>\n",
       "    </tr>\n",
       "    <tr>\n",
       "      <th>93</th>\n",
       "      <td>Maldives &amp; Sri Lanka</td>\n",
       "      <td>2019-08-06</td>\n",
       "      <td>2019-09-06</td>\n",
       "      <td>2.0</td>\n",
       "      <td>IAF BBJ Aircraft</td>\n",
       "      <td>2019</td>\n",
       "    </tr>\n",
       "    <tr>\n",
       "      <th>96</th>\n",
       "      <td>Bhutan</td>\n",
       "      <td>2019-08-17</td>\n",
       "      <td>2019-08-18</td>\n",
       "      <td>2.0</td>\n",
       "      <td>IAF BBJ Aircraft</td>\n",
       "      <td>2019</td>\n",
       "    </tr>\n",
       "  </tbody>\n",
       "</table>\n",
       "</div>"
      ],
      "text/plain": [
       "          place_of_visit period_of_visit_from period_of_visit_to  no_of_days  \\\n",
       "2                  Nepal           2014-03-08         2014-05-08         2.0   \n",
       "8                  Nepal           2014-11-25         2014-11-27         2.0   \n",
       "12             Singapore           2015-03-28         2015-03-29         1.0   \n",
       "19            Bangladesh           2015-06-06         2015-07-06         1.0   \n",
       "40                  Iran           2016-05-22         2016-05-23         1.0   \n",
       "87                 Nepal           2018-08-30         2018-08-31         1.0   \n",
       "93  Maldives & Sri Lanka           2019-08-06         2019-09-06         2.0   \n",
       "96                Bhutan           2019-08-17         2019-08-18         2.0   \n",
       "\n",
       "   expenses_incurred_on_chartered_flight_rs  year  \n",
       "2                          IAF BBJ Aircraft  2014  \n",
       "8                          IAF BBJ Aircraft  2014  \n",
       "12                         IAF BBJ Aircraft  2015  \n",
       "19                         IAF BBJ Aircraft  2015  \n",
       "40                         IAF BBJ Aircraft  2016  \n",
       "87                         IAF BBJ Aircraft  2018  \n",
       "93                         IAF BBJ Aircraft  2019  \n",
       "96                         IAF BBJ Aircraft  2019  "
      ]
     },
     "execution_count": 386,
     "metadata": {},
     "output_type": "execute_result"
    }
   ],
   "source": [
    "IAFBBJAircraft"
   ]
  },
  {
   "cell_type": "code",
   "execution_count": 395,
   "id": "cc0a524d",
   "metadata": {},
   "outputs": [
    {
     "data": {
      "text/plain": [
       "<AxesSubplot:xlabel='place_of_visit', ylabel='count'>"
      ]
     },
     "execution_count": 395,
     "metadata": {},
     "output_type": "execute_result"
    },
    {
     "data": {
      "image/png": "[encoded data removed]",
      "text/plain": [
       "<Figure size 864x576 with 1 Axes>"
      ]
     },
     "metadata": {
      "needs_background": "light"
     },
     "output_type": "display_data"
    }
   ],
   "source": [
    "plt.figure(figsize=(12,8))\n",
    "sns.countplot(x='place_of_visit',data=IAFBBJAircraft)"
   ]
  },
  {
   "cell_type": "code",
   "execution_count": 396,
   "id": "5cadd216",
   "metadata": {},
   "outputs": [
    {
     "data": {
      "text/plain": [
       "<seaborn.axisgrid.FacetGrid at 0x20162f22910>"
      ]
     },
     "execution_count": 396,
     "metadata": {},
     "output_type": "execute_result"
    },
    {
     "data": {
      "text/plain": [
       "<Figure size 864x576 with 0 Axes>"
      ]
     },
     "metadata": {},
     "output_type": "display_data"
    },
    {
     "data": {
      "image/png": "[encoded data removed]",
      "text/plain": [
       "<Figure size 360x360 with 1 Axes>"
      ]
     },
     "metadata": {
      "needs_background": "light"
     },
     "output_type": "display_data"
    }
   ],
   "source": [
    "plt.figure(figsize=(12,8))\n",
    "sns.catplot(x='year',kind='count',data=IAFBBJAircraft)"
   ]
  },
  {
   "cell_type": "code",
   "execution_count": 401,
   "id": "be09f6af",
   "metadata": {},
   "outputs": [
    {
     "data": {
      "image/png": "[encoded data removed]",
      "text/plain": [
       "<Figure size 421.5x360 with 1 Axes>"
      ]
     },
     "metadata": {
      "needs_background": "light"
     },
     "output_type": "display_data"
    }
   ],
   "source": [
    "sns.catplot(x='place_of_visit',kind='count',data=IAFBBJAircraft,hue='year')\n",
    "plt.xticks(rotation=90)\n",
    "plt.show()"
   ]
  },
  {
   "cell_type": "markdown",
   "id": "dbcd7ee0",
   "metadata": {},
   "source": [
    "observation:\n",
    "1. IAFBBJAircraft only sponsers him for max of 2 days staying in a year\n",
    "2. IAFBBJAircraft only sponser him for visiting Asia"
   ]
  },
  {
   "cell_type": "code",
   "execution_count": 341,
   "id": "26e87115",
   "metadata": {},
   "outputs": [],
   "source": [
    "# let's drop IAFBBJAircraft value from expences table to get other insight\n",
    "df.drop(df[df['expenses_incurred_on_chartered_flight_rs']=='IAF BBJ Aircraft'].index,inplace=True)"
   ]
  },
  {
   "cell_type": "code",
   "execution_count": 342,
   "id": "9c9c2b10",
   "metadata": {},
   "outputs": [
    {
     "data": {
      "text/html": [
       "<div>\n",
       "<style scoped>\n",
       "    .dataframe tbody tr th:only-of-type {\n",
       "        vertical-align: middle;\n",
       "    }\n",
       "\n",
       "    .dataframe tbody tr th {\n",
       "        vertical-align: top;\n",
       "    }\n",
       "\n",
       "    .dataframe thead th {\n",
       "        text-align: right;\n",
       "    }\n",
       "</style>\n",
       "<table border=\"1\" class=\"dataframe\">\n",
       "  <thead>\n",
       "    <tr style=\"text-align: right;\">\n",
       "      <th></th>\n",
       "      <th>place_of_visit</th>\n",
       "      <th>period_of_visit_from</th>\n",
       "      <th>period_of_visit_to</th>\n",
       "      <th>no_of_days</th>\n",
       "      <th>expenses_incurred_on_chartered_flight_rs</th>\n",
       "      <th>year</th>\n",
       "    </tr>\n",
       "  </thead>\n",
       "  <tbody>\n",
       "    <tr>\n",
       "      <th>0</th>\n",
       "      <td>Bhutan</td>\n",
       "      <td>2014-06-15</td>\n",
       "      <td>2014-06-16</td>\n",
       "      <td>1.0</td>\n",
       "      <td>24527465</td>\n",
       "      <td>2014</td>\n",
       "    </tr>\n",
       "    <tr>\n",
       "      <th>1</th>\n",
       "      <td>Brazil</td>\n",
       "      <td>2014-07-13</td>\n",
       "      <td>2014-07-17</td>\n",
       "      <td>4.0</td>\n",
       "      <td>203548000</td>\n",
       "      <td>2014</td>\n",
       "    </tr>\n",
       "    <tr>\n",
       "      <th>3</th>\n",
       "      <td>Japan</td>\n",
       "      <td>2014-08-30</td>\n",
       "      <td>2014-03-09</td>\n",
       "      <td>4.0</td>\n",
       "      <td>134758000</td>\n",
       "      <td>2014</td>\n",
       "    </tr>\n",
       "    <tr>\n",
       "      <th>4</th>\n",
       "      <td>USA</td>\n",
       "      <td>2014-09-25</td>\n",
       "      <td>2014-01-10</td>\n",
       "      <td>6.0</td>\n",
       "      <td>190460000</td>\n",
       "      <td>2014</td>\n",
       "    </tr>\n",
       "    <tr>\n",
       "      <th>5</th>\n",
       "      <td>Myanmar</td>\n",
       "      <td>2014-11-11</td>\n",
       "      <td>2014-11-13</td>\n",
       "      <td>2.0</td>\n",
       "      <td>75288333</td>\n",
       "      <td>2014</td>\n",
       "    </tr>\n",
       "  </tbody>\n",
       "</table>\n",
       "</div>"
      ],
      "text/plain": [
       "  place_of_visit period_of_visit_from period_of_visit_to  no_of_days  \\\n",
       "0         Bhutan           2014-06-15         2014-06-16         1.0   \n",
       "1         Brazil           2014-07-13         2014-07-17         4.0   \n",
       "3          Japan           2014-08-30         2014-03-09         4.0   \n",
       "4            USA           2014-09-25         2014-01-10         6.0   \n",
       "5        Myanmar           2014-11-11         2014-11-13         2.0   \n",
       "\n",
       "  expenses_incurred_on_chartered_flight_rs  year  \n",
       "0                                 24527465  2014  \n",
       "1                                203548000  2014  \n",
       "3                                134758000  2014  \n",
       "4                                190460000  2014  \n",
       "5                                 75288333  2014  "
      ]
     },
     "execution_count": 342,
     "metadata": {},
     "output_type": "execute_result"
    }
   ],
   "source": [
    "df.head()"
   ]
  },
  {
   "cell_type": "code",
   "execution_count": 343,
   "id": "3dd5bfa0",
   "metadata": {},
   "outputs": [],
   "source": [
    "#to remove , from numbers\n",
    "df['expenses_incurred_on_chartered_flight_rs']=df['expenses_incurred_on_chartered_flight_rs'].str.replace(',','')"
   ]
  },
  {
   "cell_type": "code",
   "execution_count": 344,
   "id": "bc119466",
   "metadata": {},
   "outputs": [],
   "source": [
    "#  change the data type\n",
    "df['expenses_incurred_on_chartered_flight_rs']=df['expenses_incurred_on_chartered_flight_rs'].astype(float)"
   ]
  },
  {
   "cell_type": "code",
   "execution_count": 346,
   "id": "1a26be37",
   "metadata": {},
   "outputs": [
    {
     "name": "stdout",
     "output_type": "stream",
     "text": [
      "expenses_incurred_on_chartered_flight_rs has 0.030612244897959183 missing values\n"
     ]
    }
   ],
   "source": [
    "# looking missing values\n",
    "for i in df.columns:\n",
    "    if(df[i].isnull().sum()>0):\n",
    "        print('{} has {} missing values'.format(i,df[i].isnull().sum()/df.shape[0]))"
   ]
  },
  {
   "cell_type": "code",
   "execution_count": 347,
   "id": "3422d2ee",
   "metadata": {},
   "outputs": [
    {
     "data": {
      "text/html": [
       "<div>\n",
       "<style scoped>\n",
       "    .dataframe tbody tr th:only-of-type {\n",
       "        vertical-align: middle;\n",
       "    }\n",
       "\n",
       "    .dataframe tbody tr th {\n",
       "        vertical-align: top;\n",
       "    }\n",
       "\n",
       "    .dataframe thead th {\n",
       "        text-align: right;\n",
       "    }\n",
       "</style>\n",
       "<table border=\"1\" class=\"dataframe\">\n",
       "  <thead>\n",
       "    <tr style=\"text-align: right;\">\n",
       "      <th></th>\n",
       "      <th>place_of_visit</th>\n",
       "      <th>period_of_visit_from</th>\n",
       "      <th>period_of_visit_to</th>\n",
       "      <th>no_of_days</th>\n",
       "      <th>expenses_incurred_on_chartered_flight_rs</th>\n",
       "      <th>year</th>\n",
       "    </tr>\n",
       "  </thead>\n",
       "  <tbody>\n",
       "    <tr>\n",
       "      <th>101</th>\n",
       "      <td>Thailand</td>\n",
       "      <td>2019-02-11</td>\n",
       "      <td>2019-04-11</td>\n",
       "      <td>3.0</td>\n",
       "      <td>6.683400e+07</td>\n",
       "      <td>2019</td>\n",
       "    </tr>\n",
       "    <tr>\n",
       "      <th>102</th>\n",
       "      <td>Brazil</td>\n",
       "      <td>2021-11-13</td>\n",
       "      <td>2019-11-15</td>\n",
       "      <td>3.0</td>\n",
       "      <td>2.001610e+08</td>\n",
       "      <td>2021</td>\n",
       "    </tr>\n",
       "    <tr>\n",
       "      <th>103</th>\n",
       "      <td>Bangladesh</td>\n",
       "      <td>2021-03-26</td>\n",
       "      <td>2021-03-27</td>\n",
       "      <td>2.0</td>\n",
       "      <td>6.087378e+07</td>\n",
       "      <td>2021</td>\n",
       "    </tr>\n",
       "    <tr>\n",
       "      <th>104</th>\n",
       "      <td>USA</td>\n",
       "      <td>2021-09-22</td>\n",
       "      <td>2021-09-26</td>\n",
       "      <td>5.0</td>\n",
       "      <td>6.087378e+07</td>\n",
       "      <td>2021</td>\n",
       "    </tr>\n",
       "    <tr>\n",
       "      <th>105</th>\n",
       "      <td>Italy and UK</td>\n",
       "      <td>2021-10-29</td>\n",
       "      <td>2021-02-11</td>\n",
       "      <td>5.0</td>\n",
       "      <td>6.087378e+07</td>\n",
       "      <td>2021</td>\n",
       "    </tr>\n",
       "  </tbody>\n",
       "</table>\n",
       "</div>"
      ],
      "text/plain": [
       "    place_of_visit period_of_visit_from period_of_visit_to  no_of_days  \\\n",
       "101       Thailand           2019-02-11         2019-04-11         3.0   \n",
       "102         Brazil           2021-11-13         2019-11-15         3.0   \n",
       "103     Bangladesh           2021-03-26         2021-03-27         2.0   \n",
       "104            USA           2021-09-22         2021-09-26         5.0   \n",
       "105   Italy and UK           2021-10-29         2021-02-11         5.0   \n",
       "\n",
       "     expenses_incurred_on_chartered_flight_rs  year  \n",
       "101                              6.683400e+07  2019  \n",
       "102                              2.001610e+08  2021  \n",
       "103                              6.087378e+07  2021  \n",
       "104                              6.087378e+07  2021  \n",
       "105                              6.087378e+07  2021  "
      ]
     },
     "execution_count": 347,
     "metadata": {},
     "output_type": "execute_result"
    }
   ],
   "source": [
    "# imputing missing values with mean\n",
    "df['expenses_incurred_on_chartered_flight_rs'].fillna(df['expenses_incurred_on_chartered_flight_rs'].mean(),inplace=True)\n",
    "df.tail()"
   ]
  },
  {
   "cell_type": "code",
   "execution_count": 348,
   "id": "d10062be",
   "metadata": {},
   "outputs": [
    {
     "data": {
      "text/plain": [
       "5965630517.378737"
      ]
     },
     "execution_count": 348,
     "metadata": {},
     "output_type": "execute_result"
    }
   ],
   "source": [
    "# looking how much budget is allocated for his visit\n",
    "df['expenses_incurred_on_chartered_flight_rs'].sum()"
   ]
  },
  {
   "cell_type": "code",
   "execution_count": 243,
   "id": "8d5dbc52",
   "metadata": {},
   "outputs": [],
   "source": [
    "# visualize"
   ]
  },
  {
   "cell_type": "code",
   "execution_count": 349,
   "id": "1422e584",
   "metadata": {},
   "outputs": [
    {
     "name": "stderr",
     "output_type": "stream",
     "text": [
      "C:\\Users\\KIIT\\anaconda3\\lib\\site-packages\\seaborn\\_decorators.py:36: FutureWarning: Pass the following variable as a keyword arg: x. From version 0.12, the only valid positional argument will be `data`, and passing other arguments without an explicit keyword will result in an error or misinterpretation.\n",
      "  warnings.warn(\n"
     ]
    },
    {
     "data": {
      "image/png": "[encoded data removed]",
      "text/plain": [
       "<Figure size 1800x432 with 1 Axes>"
      ]
     },
     "metadata": {
      "needs_background": "light"
     },
     "output_type": "display_data"
    }
   ],
   "source": [
    "plt.figure(figsize=(25,6))\n",
    "sns.countplot('place_of_visit',data=df,palette='hls')\n",
    "plt.xticks(rotation=90)\n",
    "plt.show()"
   ]
  },
  {
   "cell_type": "code",
   "execution_count": 402,
   "id": "5de24d39",
   "metadata": {},
   "outputs": [
    {
     "data": {
      "image/png": "[encoded data removed]",
      "text/plain": [
       "<Figure size 1080x360 with 1 Axes>"
      ]
     },
     "metadata": {
      "needs_background": "light"
     },
     "output_type": "display_data"
    }
   ],
   "source": [
    "plt.figure(figsize=(15,5))\n",
    "plt.scatter(df['place_of_visit'],df['expenses_incurred_on_chartered_flight_rs'])\n",
    "plt.xticks(rotation=90)\n",
    "plt.title('scatter plot expense with place of visit')\n",
    "plt.show()"
   ]
  },
  {
   "cell_type": "code",
   "execution_count": 403,
   "id": "e4cf570e",
   "metadata": {},
   "outputs": [
    {
     "data": {
      "image/png": "[encoded data removed]",
      "text/plain": [
       "<Figure size 1080x432 with 1 Axes>"
      ]
     },
     "metadata": {
      "needs_background": "light"
     },
     "output_type": "display_data"
    }
   ],
   "source": [
    "plt.figure(figsize=(15,6))\n",
    "plt.scatter(df['place_of_visit'],df['no_of_days'])\n",
    "plt.xticks(rotation=90)\n",
    "plt.title('scatter plot number of stayed with place of visit')\n",
    "plt.show()"
   ]
  },
  {
   "cell_type": "code",
   "execution_count": 406,
   "id": "5c6af63b",
   "metadata": {},
   "outputs": [
    {
     "data": {
      "image/png": "[encoded data removed]",
      "text/plain": [
       "<Figure size 1080x432 with 1 Axes>"
      ]
     },
     "metadata": {
      "needs_background": "light"
     },
     "output_type": "display_data"
    }
   ],
   "source": [
    "plt.figure(figsize=(15,6))\n",
    "plt.scatter(df['no_of_days'],df['expenses_incurred_on_chartered_flight_rs'])\n",
    "plt.xticks(rotation=90)\n",
    "plt.title('scatter plot expense with number of days')\n",
    "plt.show()"
   ]
  },
  {
   "cell_type": "code",
   "execution_count": 409,
   "id": "41aec77a",
   "metadata": {},
   "outputs": [
    {
     "name": "stderr",
     "output_type": "stream",
     "text": [
      "C:\\Users\\KIIT\\anaconda3\\lib\\site-packages\\seaborn\\_decorators.py:36: FutureWarning: Pass the following variables as keyword args: x, y. From version 0.12, the only valid positional argument will be `data`, and passing other arguments without an explicit keyword will result in an error or misinterpretation.\n",
      "  warnings.warn(\n"
     ]
    },
    {
     "data": {
      "image/png": "[encoded data removed]",
      "text/plain": [
       "<Figure size 1080x360 with 1 Axes>"
      ]
     },
     "metadata": {
      "needs_background": "light"
     },
     "output_type": "display_data"
    }
   ],
   "source": [
    "# to visualize the distribution with density\n",
    "plt.figure(figsize=(15,5))\n",
    "sns.violinplot('no_of_days','expenses_incurred_on_chartered_flight_rs',data=df)\n",
    "plt.xticks(rotation=90)\n",
    "plt.title('violin plot expense with place of visit')\n",
    "plt.show()"
   ]
  },
  {
   "cell_type": "code",
   "execution_count": 353,
   "id": "c68cfb3f",
   "metadata": {},
   "outputs": [
    {
     "data": {
      "text/html": [
       "<div>\n",
       "<style scoped>\n",
       "    .dataframe tbody tr th:only-of-type {\n",
       "        vertical-align: middle;\n",
       "    }\n",
       "\n",
       "    .dataframe tbody tr th {\n",
       "        vertical-align: top;\n",
       "    }\n",
       "\n",
       "    .dataframe thead th {\n",
       "        text-align: right;\n",
       "    }\n",
       "</style>\n",
       "<table border=\"1\" class=\"dataframe\">\n",
       "  <thead>\n",
       "    <tr style=\"text-align: right;\">\n",
       "      <th></th>\n",
       "      <th>period_of_visit_from</th>\n",
       "      <th>period_of_visit_to</th>\n",
       "      <th>no_of_days</th>\n",
       "      <th>expenses_incurred_on_chartered_flight_rs</th>\n",
       "      <th>year</th>\n",
       "    </tr>\n",
       "    <tr>\n",
       "      <th>place_of_visit</th>\n",
       "      <th></th>\n",
       "      <th></th>\n",
       "      <th></th>\n",
       "      <th></th>\n",
       "      <th></th>\n",
       "    </tr>\n",
       "  </thead>\n",
       "  <tbody>\n",
       "    <tr>\n",
       "      <th>Afghanistan</th>\n",
       "      <td>2015-12-24</td>\n",
       "      <td>2015-12-25</td>\n",
       "      <td>0.5</td>\n",
       "      <td>2.713700e+07</td>\n",
       "      <td>2015</td>\n",
       "    </tr>\n",
       "    <tr>\n",
       "      <th>Argentina</th>\n",
       "      <td>2018-11-28</td>\n",
       "      <td>2018-03-12</td>\n",
       "      <td>5.0</td>\n",
       "      <td>1.559830e+08</td>\n",
       "      <td>2018</td>\n",
       "    </tr>\n",
       "    <tr>\n",
       "      <th>Australia</th>\n",
       "      <td>2014-11-14</td>\n",
       "      <td>2014-11-19</td>\n",
       "      <td>4.0</td>\n",
       "      <td>7.528833e+07</td>\n",
       "      <td>2014</td>\n",
       "    </tr>\n",
       "    <tr>\n",
       "      <th>Bangladesh</th>\n",
       "      <td>2021-03-26</td>\n",
       "      <td>2021-03-27</td>\n",
       "      <td>2.0</td>\n",
       "      <td>6.087378e+07</td>\n",
       "      <td>2021</td>\n",
       "    </tr>\n",
       "    <tr>\n",
       "      <th>Belgium</th>\n",
       "      <td>2016-03-30</td>\n",
       "      <td>2016-03-30</td>\n",
       "      <td>1.0</td>\n",
       "      <td>3.962550e+07</td>\n",
       "      <td>2016</td>\n",
       "    </tr>\n",
       "    <tr>\n",
       "      <th>...</th>\n",
       "      <td>...</td>\n",
       "      <td>...</td>\n",
       "      <td>...</td>\n",
       "      <td>...</td>\n",
       "      <td>...</td>\n",
       "    </tr>\n",
       "    <tr>\n",
       "      <th>USA</th>\n",
       "      <td>2014-09-25</td>\n",
       "      <td>2014-01-10</td>\n",
       "      <td>6.0</td>\n",
       "      <td>1.904600e+08</td>\n",
       "      <td>2014</td>\n",
       "    </tr>\n",
       "    <tr>\n",
       "      <th>Uganda</th>\n",
       "      <td>2018-07-24</td>\n",
       "      <td>2018-07-25</td>\n",
       "      <td>1.0</td>\n",
       "      <td>4.705867e+07</td>\n",
       "      <td>2018</td>\n",
       "    </tr>\n",
       "    <tr>\n",
       "      <th>United Arab Emirates</th>\n",
       "      <td>2015-08-16</td>\n",
       "      <td>2015-08-17</td>\n",
       "      <td>1.0</td>\n",
       "      <td>5.906600e+07</td>\n",
       "      <td>2015</td>\n",
       "    </tr>\n",
       "    <tr>\n",
       "      <th>Uzbekistan</th>\n",
       "      <td>2015-06-07</td>\n",
       "      <td>2015-06-07</td>\n",
       "      <td>1.0</td>\n",
       "      <td>1.972988e+07</td>\n",
       "      <td>2015</td>\n",
       "    </tr>\n",
       "    <tr>\n",
       "      <th>Vietnam</th>\n",
       "      <td>2016-02-09</td>\n",
       "      <td>2016-03-09</td>\n",
       "      <td>1.0</td>\n",
       "      <td>3.179700e+07</td>\n",
       "      <td>2016</td>\n",
       "    </tr>\n",
       "  </tbody>\n",
       "</table>\n",
       "<p>63 rows × 5 columns</p>\n",
       "</div>"
      ],
      "text/plain": [
       "                     period_of_visit_from period_of_visit_to  no_of_days  \\\n",
       "place_of_visit                                                             \n",
       "Afghanistan                    2015-12-24         2015-12-25         0.5   \n",
       "Argentina                      2018-11-28         2018-03-12         5.0   \n",
       "Australia                      2014-11-14         2014-11-19         4.0   \n",
       "Bangladesh                     2021-03-26         2021-03-27         2.0   \n",
       "Belgium                        2016-03-30         2016-03-30         1.0   \n",
       "...                                   ...                ...         ...   \n",
       "USA                            2014-09-25         2014-01-10         6.0   \n",
       "Uganda                         2018-07-24         2018-07-25         1.0   \n",
       "United Arab Emirates           2015-08-16         2015-08-17         1.0   \n",
       "Uzbekistan                     2015-06-07         2015-06-07         1.0   \n",
       "Vietnam                        2016-02-09         2016-03-09         1.0   \n",
       "\n",
       "                      expenses_incurred_on_chartered_flight_rs  year  \n",
       "place_of_visit                                                        \n",
       "Afghanistan                                       2.713700e+07  2015  \n",
       "Argentina                                         1.559830e+08  2018  \n",
       "Australia                                         7.528833e+07  2014  \n",
       "Bangladesh                                        6.087378e+07  2021  \n",
       "Belgium                                           3.962550e+07  2016  \n",
       "...                                                        ...   ...  \n",
       "USA                                               1.904600e+08  2014  \n",
       "Uganda                                            4.705867e+07  2018  \n",
       "United Arab Emirates                              5.906600e+07  2015  \n",
       "Uzbekistan                                        1.972988e+07  2015  \n",
       "Vietnam                                           3.179700e+07  2016  \n",
       "\n",
       "[63 rows x 5 columns]"
      ]
     },
     "execution_count": 353,
     "metadata": {},
     "output_type": "execute_result"
    }
   ],
   "source": [
    "# grouping the data by place of visit\n",
    "cou=df.groupby('place_of_visit')\n",
    "cou.first()"
   ]
  },
  {
   "cell_type": "code",
   "execution_count": 354,
   "id": "ce4a0dcf",
   "metadata": {},
   "outputs": [
    {
     "data": {
      "text/html": [
       "<div>\n",
       "<style scoped>\n",
       "    .dataframe tbody tr th:only-of-type {\n",
       "        vertical-align: middle;\n",
       "    }\n",
       "\n",
       "    .dataframe tbody tr th {\n",
       "        vertical-align: top;\n",
       "    }\n",
       "\n",
       "    .dataframe thead th {\n",
       "        text-align: right;\n",
       "    }\n",
       "</style>\n",
       "<table border=\"1\" class=\"dataframe\">\n",
       "  <thead>\n",
       "    <tr style=\"text-align: right;\">\n",
       "      <th></th>\n",
       "      <th>period_of_visit_from</th>\n",
       "      <th>period_of_visit_to</th>\n",
       "      <th>no_of_days</th>\n",
       "      <th>expenses_incurred_on_chartered_flight_rs</th>\n",
       "      <th>year</th>\n",
       "    </tr>\n",
       "    <tr>\n",
       "      <th>place_of_visit</th>\n",
       "      <th></th>\n",
       "      <th></th>\n",
       "      <th></th>\n",
       "      <th></th>\n",
       "      <th></th>\n",
       "    </tr>\n",
       "  </thead>\n",
       "  <tbody>\n",
       "    <tr>\n",
       "      <th>Afghanistan</th>\n",
       "      <td>2016-04-06</td>\n",
       "      <td>2016-04-06</td>\n",
       "      <td>1.0</td>\n",
       "      <td>2.319433e+07</td>\n",
       "      <td>2016</td>\n",
       "    </tr>\n",
       "    <tr>\n",
       "      <th>Argentina</th>\n",
       "      <td>2018-11-28</td>\n",
       "      <td>2018-03-12</td>\n",
       "      <td>5.0</td>\n",
       "      <td>1.559830e+08</td>\n",
       "      <td>2018</td>\n",
       "    </tr>\n",
       "    <tr>\n",
       "      <th>Australia</th>\n",
       "      <td>2014-11-14</td>\n",
       "      <td>2014-11-19</td>\n",
       "      <td>4.0</td>\n",
       "      <td>7.528833e+07</td>\n",
       "      <td>2014</td>\n",
       "    </tr>\n",
       "    <tr>\n",
       "      <th>Bangladesh</th>\n",
       "      <td>2021-03-26</td>\n",
       "      <td>2021-03-27</td>\n",
       "      <td>2.0</td>\n",
       "      <td>6.087378e+07</td>\n",
       "      <td>2021</td>\n",
       "    </tr>\n",
       "    <tr>\n",
       "      <th>Belgium</th>\n",
       "      <td>2016-03-30</td>\n",
       "      <td>2016-03-30</td>\n",
       "      <td>1.0</td>\n",
       "      <td>3.962550e+07</td>\n",
       "      <td>2016</td>\n",
       "    </tr>\n",
       "    <tr>\n",
       "      <th>...</th>\n",
       "      <td>...</td>\n",
       "      <td>...</td>\n",
       "      <td>...</td>\n",
       "      <td>...</td>\n",
       "      <td>...</td>\n",
       "    </tr>\n",
       "    <tr>\n",
       "      <th>USA</th>\n",
       "      <td>2021-09-22</td>\n",
       "      <td>2021-09-26</td>\n",
       "      <td>5.0</td>\n",
       "      <td>6.087378e+07</td>\n",
       "      <td>2021</td>\n",
       "    </tr>\n",
       "    <tr>\n",
       "      <th>Uganda</th>\n",
       "      <td>2018-07-24</td>\n",
       "      <td>2018-07-25</td>\n",
       "      <td>1.0</td>\n",
       "      <td>4.705867e+07</td>\n",
       "      <td>2018</td>\n",
       "    </tr>\n",
       "    <tr>\n",
       "      <th>United Arab Emirates</th>\n",
       "      <td>2015-08-16</td>\n",
       "      <td>2015-08-17</td>\n",
       "      <td>1.0</td>\n",
       "      <td>5.906600e+07</td>\n",
       "      <td>2015</td>\n",
       "    </tr>\n",
       "    <tr>\n",
       "      <th>Uzbekistan</th>\n",
       "      <td>2016-06-23</td>\n",
       "      <td>2016-06-24</td>\n",
       "      <td>1.0</td>\n",
       "      <td>6.327800e+07</td>\n",
       "      <td>2016</td>\n",
       "    </tr>\n",
       "    <tr>\n",
       "      <th>Vietnam</th>\n",
       "      <td>2016-02-09</td>\n",
       "      <td>2016-03-09</td>\n",
       "      <td>1.0</td>\n",
       "      <td>3.179700e+07</td>\n",
       "      <td>2016</td>\n",
       "    </tr>\n",
       "  </tbody>\n",
       "</table>\n",
       "<p>63 rows × 5 columns</p>\n",
       "</div>"
      ],
      "text/plain": [
       "                     period_of_visit_from period_of_visit_to  no_of_days  \\\n",
       "place_of_visit                                                             \n",
       "Afghanistan                    2016-04-06         2016-04-06         1.0   \n",
       "Argentina                      2018-11-28         2018-03-12         5.0   \n",
       "Australia                      2014-11-14         2014-11-19         4.0   \n",
       "Bangladesh                     2021-03-26         2021-03-27         2.0   \n",
       "Belgium                        2016-03-30         2016-03-30         1.0   \n",
       "...                                   ...                ...         ...   \n",
       "USA                            2021-09-22         2021-09-26         5.0   \n",
       "Uganda                         2018-07-24         2018-07-25         1.0   \n",
       "United Arab Emirates           2015-08-16         2015-08-17         1.0   \n",
       "Uzbekistan                     2016-06-23         2016-06-24         1.0   \n",
       "Vietnam                        2016-02-09         2016-03-09         1.0   \n",
       "\n",
       "                      expenses_incurred_on_chartered_flight_rs  year  \n",
       "place_of_visit                                                        \n",
       "Afghanistan                                       2.319433e+07  2016  \n",
       "Argentina                                         1.559830e+08  2018  \n",
       "Australia                                         7.528833e+07  2014  \n",
       "Bangladesh                                        6.087378e+07  2021  \n",
       "Belgium                                           3.962550e+07  2016  \n",
       "...                                                        ...   ...  \n",
       "USA                                               6.087378e+07  2021  \n",
       "Uganda                                            4.705867e+07  2018  \n",
       "United Arab Emirates                              5.906600e+07  2015  \n",
       "Uzbekistan                                        6.327800e+07  2016  \n",
       "Vietnam                                           3.179700e+07  2016  \n",
       "\n",
       "[63 rows x 5 columns]"
      ]
     },
     "execution_count": 354,
     "metadata": {},
     "output_type": "execute_result"
    }
   ],
   "source": [
    "cou.last()"
   ]
  },
  {
   "cell_type": "code",
   "execution_count": 355,
   "id": "f047aa42",
   "metadata": {},
   "outputs": [
    {
     "data": {
      "text/html": [
       "<div>\n",
       "<style scoped>\n",
       "    .dataframe tbody tr th:only-of-type {\n",
       "        vertical-align: middle;\n",
       "    }\n",
       "\n",
       "    .dataframe tbody tr th {\n",
       "        vertical-align: top;\n",
       "    }\n",
       "\n",
       "    .dataframe thead th {\n",
       "        text-align: right;\n",
       "    }\n",
       "</style>\n",
       "<table border=\"1\" class=\"dataframe\">\n",
       "  <thead>\n",
       "    <tr style=\"text-align: right;\">\n",
       "      <th></th>\n",
       "      <th>place_of_visit</th>\n",
       "      <th>period_of_visit_from</th>\n",
       "      <th>period_of_visit_to</th>\n",
       "      <th>no_of_days</th>\n",
       "      <th>expenses_incurred_on_chartered_flight_rs</th>\n",
       "      <th>year</th>\n",
       "    </tr>\n",
       "  </thead>\n",
       "  <tbody>\n",
       "    <tr>\n",
       "      <th>4</th>\n",
       "      <td>USA</td>\n",
       "      <td>2014-09-25</td>\n",
       "      <td>2014-01-10</td>\n",
       "      <td>6.0</td>\n",
       "      <td>1.904600e+08</td>\n",
       "      <td>2014</td>\n",
       "    </tr>\n",
       "    <tr>\n",
       "      <th>28</th>\n",
       "      <td>USA</td>\n",
       "      <td>2015-09-24</td>\n",
       "      <td>2015-09-29</td>\n",
       "      <td>5.0</td>\n",
       "      <td>1.539125e+08</td>\n",
       "      <td>2015</td>\n",
       "    </tr>\n",
       "    <tr>\n",
       "      <th>38</th>\n",
       "      <td>USA</td>\n",
       "      <td>2016-03-31</td>\n",
       "      <td>2016-01-04</td>\n",
       "      <td>1.0</td>\n",
       "      <td>3.962550e+07</td>\n",
       "      <td>2016</td>\n",
       "    </tr>\n",
       "    <tr>\n",
       "      <th>44</th>\n",
       "      <td>USA</td>\n",
       "      <td>2016-06-06</td>\n",
       "      <td>2016-08-06</td>\n",
       "      <td>2.0</td>\n",
       "      <td>2.319433e+07</td>\n",
       "      <td>2016</td>\n",
       "    </tr>\n",
       "    <tr>\n",
       "      <th>62</th>\n",
       "      <td>USA</td>\n",
       "      <td>2017-06-24</td>\n",
       "      <td>2017-06-26</td>\n",
       "      <td>2.0</td>\n",
       "      <td>4.609367e+07</td>\n",
       "      <td>2017</td>\n",
       "    </tr>\n",
       "    <tr>\n",
       "      <th>99</th>\n",
       "      <td>USA</td>\n",
       "      <td>2019-09-21</td>\n",
       "      <td>2019-09-28</td>\n",
       "      <td>8.0</td>\n",
       "      <td>2.327090e+08</td>\n",
       "      <td>2019</td>\n",
       "    </tr>\n",
       "    <tr>\n",
       "      <th>104</th>\n",
       "      <td>USA</td>\n",
       "      <td>2021-09-22</td>\n",
       "      <td>2021-09-26</td>\n",
       "      <td>5.0</td>\n",
       "      <td>6.087378e+07</td>\n",
       "      <td>2021</td>\n",
       "    </tr>\n",
       "  </tbody>\n",
       "</table>\n",
       "</div>"
      ],
      "text/plain": [
       "    place_of_visit period_of_visit_from period_of_visit_to  no_of_days  \\\n",
       "4              USA           2014-09-25         2014-01-10         6.0   \n",
       "28             USA           2015-09-24         2015-09-29         5.0   \n",
       "38             USA           2016-03-31         2016-01-04         1.0   \n",
       "44             USA           2016-06-06         2016-08-06         2.0   \n",
       "62             USA           2017-06-24         2017-06-26         2.0   \n",
       "99             USA           2019-09-21         2019-09-28         8.0   \n",
       "104            USA           2021-09-22         2021-09-26         5.0   \n",
       "\n",
       "     expenses_incurred_on_chartered_flight_rs  year  \n",
       "4                                1.904600e+08  2014  \n",
       "28                               1.539125e+08  2015  \n",
       "38                               3.962550e+07  2016  \n",
       "44                               2.319433e+07  2016  \n",
       "62                               4.609367e+07  2017  \n",
       "99                               2.327090e+08  2019  \n",
       "104                              6.087378e+07  2021  "
      ]
     },
     "execution_count": 355,
     "metadata": {},
     "output_type": "execute_result"
    }
   ],
   "source": [
    "# looking USA visiting history\n",
    "usa=cou.get_group('USA')\n",
    "usa"
   ]
  },
  {
   "cell_type": "code",
   "execution_count": 356,
   "id": "757cac93",
   "metadata": {},
   "outputs": [
    {
     "data": {
      "text/plain": [
       "746868780.459579"
      ]
     },
     "execution_count": 356,
     "metadata": {},
     "output_type": "execute_result"
    }
   ],
   "source": [
    "# total expences he spent in USA\n",
    "usa['expenses_incurred_on_chartered_flight_rs'].sum()"
   ]
  },
  {
   "cell_type": "code",
   "execution_count": 357,
   "id": "a0bcec8f",
   "metadata": {},
   "outputs": [
    {
     "data": {
      "text/plain": [
       "29.0"
      ]
     },
     "execution_count": 357,
     "metadata": {},
     "output_type": "execute_result"
    }
   ],
   "source": [
    "# total days he stayed in USA\n",
    "usa['no_of_days'].sum()"
   ]
  },
  {
   "cell_type": "code",
   "execution_count": 359,
   "id": "5b7d0c86",
   "metadata": {},
   "outputs": [
    {
     "data": {
      "text/html": [
       "<div>\n",
       "<style scoped>\n",
       "    .dataframe tbody tr th:only-of-type {\n",
       "        vertical-align: middle;\n",
       "    }\n",
       "\n",
       "    .dataframe tbody tr th {\n",
       "        vertical-align: top;\n",
       "    }\n",
       "\n",
       "    .dataframe thead th {\n",
       "        text-align: right;\n",
       "    }\n",
       "</style>\n",
       "<table border=\"1\" class=\"dataframe\">\n",
       "  <thead>\n",
       "    <tr style=\"text-align: right;\">\n",
       "      <th></th>\n",
       "      <th>no_of_days</th>\n",
       "      <th>expenses_incurred_on_chartered_flight_rs</th>\n",
       "    </tr>\n",
       "    <tr>\n",
       "      <th>place_of_visit</th>\n",
       "      <th></th>\n",
       "      <th></th>\n",
       "    </tr>\n",
       "  </thead>\n",
       "  <tbody>\n",
       "    <tr>\n",
       "      <th>Afghanistan</th>\n",
       "      <td>1.5</td>\n",
       "      <td>5.033133e+07</td>\n",
       "    </tr>\n",
       "    <tr>\n",
       "      <th>Argentina</th>\n",
       "      <td>5.0</td>\n",
       "      <td>1.559830e+08</td>\n",
       "    </tr>\n",
       "    <tr>\n",
       "      <th>Australia</th>\n",
       "      <td>4.0</td>\n",
       "      <td>7.528833e+07</td>\n",
       "    </tr>\n",
       "    <tr>\n",
       "      <th>Bangladesh</th>\n",
       "      <td>2.0</td>\n",
       "      <td>6.087378e+07</td>\n",
       "    </tr>\n",
       "    <tr>\n",
       "      <th>Belgium</th>\n",
       "      <td>1.0</td>\n",
       "      <td>3.962550e+07</td>\n",
       "    </tr>\n",
       "    <tr>\n",
       "      <th>...</th>\n",
       "      <td>...</td>\n",
       "      <td>...</td>\n",
       "    </tr>\n",
       "    <tr>\n",
       "      <th>USA</th>\n",
       "      <td>29.0</td>\n",
       "      <td>7.468688e+08</td>\n",
       "    </tr>\n",
       "    <tr>\n",
       "      <th>Uganda</th>\n",
       "      <td>1.0</td>\n",
       "      <td>4.705867e+07</td>\n",
       "    </tr>\n",
       "    <tr>\n",
       "      <th>United Arab Emirates</th>\n",
       "      <td>1.0</td>\n",
       "      <td>5.906600e+07</td>\n",
       "    </tr>\n",
       "    <tr>\n",
       "      <th>Uzbekistan</th>\n",
       "      <td>2.0</td>\n",
       "      <td>8.300788e+07</td>\n",
       "    </tr>\n",
       "    <tr>\n",
       "      <th>Vietnam</th>\n",
       "      <td>1.0</td>\n",
       "      <td>3.179700e+07</td>\n",
       "    </tr>\n",
       "  </tbody>\n",
       "</table>\n",
       "<p>63 rows × 2 columns</p>\n",
       "</div>"
      ],
      "text/plain": [
       "                      no_of_days  expenses_incurred_on_chartered_flight_rs\n",
       "place_of_visit                                                            \n",
       "Afghanistan                  1.5                              5.033133e+07\n",
       "Argentina                    5.0                              1.559830e+08\n",
       "Australia                    4.0                              7.528833e+07\n",
       "Bangladesh                   2.0                              6.087378e+07\n",
       "Belgium                      1.0                              3.962550e+07\n",
       "...                          ...                                       ...\n",
       "USA                         29.0                              7.468688e+08\n",
       "Uganda                       1.0                              4.705867e+07\n",
       "United Arab Emirates         1.0                              5.906600e+07\n",
       "Uzbekistan                   2.0                              8.300788e+07\n",
       "Vietnam                      1.0                              3.179700e+07\n",
       "\n",
       "[63 rows x 2 columns]"
      ]
     },
     "execution_count": 359,
     "metadata": {},
     "output_type": "execute_result"
    }
   ],
   "source": [
    "# looking total number of days and expenses he spend in each country\n",
    "total_expence_in_country=cou[['no_of_days','expenses_incurred_on_chartered_flight_rs']].sum()\n",
    "total_expence_in_country"
   ]
  },
  {
   "cell_type": "code",
   "execution_count": 361,
   "id": "6603fb0e",
   "metadata": {},
   "outputs": [
    {
     "data": {
      "text/html": [
       "<div>\n",
       "<style scoped>\n",
       "    .dataframe tbody tr th:only-of-type {\n",
       "        vertical-align: middle;\n",
       "    }\n",
       "\n",
       "    .dataframe tbody tr th {\n",
       "        vertical-align: top;\n",
       "    }\n",
       "\n",
       "    .dataframe thead th {\n",
       "        text-align: right;\n",
       "    }\n",
       "</style>\n",
       "<table border=\"1\" class=\"dataframe\">\n",
       "  <thead>\n",
       "    <tr style=\"text-align: right;\">\n",
       "      <th></th>\n",
       "      <th>no_of_days</th>\n",
       "      <th>expenses_incurred_on_chartered_flight_rs</th>\n",
       "    </tr>\n",
       "    <tr>\n",
       "      <th>place_of_visit</th>\n",
       "      <th></th>\n",
       "      <th></th>\n",
       "    </tr>\n",
       "  </thead>\n",
       "  <tbody>\n",
       "    <tr>\n",
       "      <th>USA</th>\n",
       "      <td>29.0</td>\n",
       "      <td>7.468688e+08</td>\n",
       "    </tr>\n",
       "  </tbody>\n",
       "</table>\n",
       "</div>"
      ],
      "text/plain": [
       "                no_of_days  expenses_incurred_on_chartered_flight_rs\n",
       "place_of_visit                                                      \n",
       "USA                   29.0                              7.468688e+08"
      ]
     },
     "execution_count": 361,
     "metadata": {},
     "output_type": "execute_result"
    }
   ],
   "source": [
    "# maximum total cost among countries\n",
    "total_expence_in_country[total_expence_in_country['expenses_incurred_on_chartered_flight_rs']==total_expence_in_country['expenses_incurred_on_chartered_flight_rs'].max()]"
   ]
  },
  {
   "cell_type": "code",
   "execution_count": 362,
   "id": "98e670b4",
   "metadata": {},
   "outputs": [
    {
     "data": {
      "text/plain": [
       "Index(['place_of_visit', 'period_of_visit_from', 'period_of_visit_to',\n",
       "       'no_of_days', 'expenses_incurred_on_chartered_flight_rs', 'year'],\n",
       "      dtype='object')"
      ]
     },
     "execution_count": 362,
     "metadata": {},
     "output_type": "execute_result"
    }
   ],
   "source": [
    "df.columns"
   ]
  },
  {
   "cell_type": "code",
   "execution_count": 363,
   "id": "99c7bed5",
   "metadata": {},
   "outputs": [
    {
     "data": {
      "text/plain": [
       "<AxesSubplot:xlabel='place_of_visit'>"
      ]
     },
     "execution_count": 363,
     "metadata": {},
     "output_type": "execute_result"
    },
    {
     "data": {
      "image/png": "[encoded data removed]",
      "text/plain": [
       "<Figure size 1080x432 with 1 Axes>"
      ]
     },
     "metadata": {
      "needs_background": "light"
     },
     "output_type": "display_data"
    }
   ],
   "source": [
    "plt.figure(figsize=(15,6))\n",
    "df.groupby(['place_of_visit']).size().plot(kind = \"bar\")"
   ]
  },
  {
   "cell_type": "code",
   "execution_count": 364,
   "id": "1d398b48",
   "metadata": {},
   "outputs": [
    {
     "data": {
      "text/html": [
       "<div>\n",
       "<style scoped>\n",
       "    .dataframe tbody tr th:only-of-type {\n",
       "        vertical-align: middle;\n",
       "    }\n",
       "\n",
       "    .dataframe tbody tr th {\n",
       "        vertical-align: top;\n",
       "    }\n",
       "\n",
       "    .dataframe thead th {\n",
       "        text-align: right;\n",
       "    }\n",
       "</style>\n",
       "<table border=\"1\" class=\"dataframe\">\n",
       "  <thead>\n",
       "    <tr style=\"text-align: right;\">\n",
       "      <th></th>\n",
       "      <th>no_of_days</th>\n",
       "      <th>expenses_incurred_on_chartered_flight_rs</th>\n",
       "    </tr>\n",
       "    <tr>\n",
       "      <th>year</th>\n",
       "      <th></th>\n",
       "      <th></th>\n",
       "    </tr>\n",
       "  </thead>\n",
       "  <tbody>\n",
       "    <tr>\n",
       "      <th>2014</th>\n",
       "      <td>24.0</td>\n",
       "      <td>7.791585e+08</td>\n",
       "    </tr>\n",
       "    <tr>\n",
       "      <th>2015</th>\n",
       "      <td>43.0</td>\n",
       "      <td>1.298064e+09</td>\n",
       "    </tr>\n",
       "    <tr>\n",
       "      <th>2016</th>\n",
       "      <td>21.0</td>\n",
       "      <td>6.999482e+08</td>\n",
       "    </tr>\n",
       "    <tr>\n",
       "      <th>2017</th>\n",
       "      <td>21.0</td>\n",
       "      <td>7.651840e+08</td>\n",
       "    </tr>\n",
       "    <tr>\n",
       "      <th>2018</th>\n",
       "      <td>34.0</td>\n",
       "      <td>1.133488e+09</td>\n",
       "    </tr>\n",
       "    <tr>\n",
       "      <th>2019</th>\n",
       "      <td>27.0</td>\n",
       "      <td>9.070050e+08</td>\n",
       "    </tr>\n",
       "    <tr>\n",
       "      <th>2021</th>\n",
       "      <td>15.0</td>\n",
       "      <td>3.827823e+08</td>\n",
       "    </tr>\n",
       "  </tbody>\n",
       "</table>\n",
       "</div>"
      ],
      "text/plain": [
       "      no_of_days  expenses_incurred_on_chartered_flight_rs\n",
       "year                                                      \n",
       "2014        24.0                              7.791585e+08\n",
       "2015        43.0                              1.298064e+09\n",
       "2016        21.0                              6.999482e+08\n",
       "2017        21.0                              7.651840e+08\n",
       "2018        34.0                              1.133488e+09\n",
       "2019        27.0                              9.070050e+08\n",
       "2021        15.0                              3.827823e+08"
      ]
     },
     "execution_count": 364,
     "metadata": {},
     "output_type": "execute_result"
    }
   ],
   "source": [
    "# total days and expenses he spend in each year\n",
    "df.groupby('year').sum()"
   ]
  },
  {
   "cell_type": "code",
   "execution_count": 365,
   "id": "201ea38d",
   "metadata": {},
   "outputs": [
    {
     "data": {
      "text/plain": [
       "<AxesSubplot:title={'center':'no_of days he stayed in each year'}, xlabel='year'>"
      ]
     },
     "execution_count": 365,
     "metadata": {},
     "output_type": "execute_result"
    },
    {
     "data": {
      "image/png": "[encoded data removed]",
      "text/plain": [
       "<Figure size 720x432 with 1 Axes>"
      ]
     },
     "metadata": {
      "needs_background": "light"
     },
     "output_type": "display_data"
    }
   ],
   "source": [
    "year_data=df.groupby('year').sum()\n",
    "plt.figure(figsize=(10,6))\n",
    "plt.title('no_of days he stayed in each year')\n",
    "year_data['no_of_days'].plot()"
   ]
  },
  {
   "cell_type": "code",
   "execution_count": 366,
   "id": "e9d74f60",
   "metadata": {},
   "outputs": [
    {
     "data": {
      "text/plain": [
       "<AxesSubplot:title={'center':'expenses_incurred_on_chartered_flight_rs he stayed in each year'}, xlabel='year'>"
      ]
     },
     "execution_count": 366,
     "metadata": {},
     "output_type": "execute_result"
    },
    {
     "data": {
      "image/png": "[encoded data removed]",
      "text/plain": [
       "<Figure size 720x432 with 1 Axes>"
      ]
     },
     "metadata": {
      "needs_background": "light"
     },
     "output_type": "display_data"
    }
   ],
   "source": [
    "plt.figure(figsize=(10,6))\n",
    "plt.title('expenses_incurred_on_chartered_flight_rs he stayed in each year')\n",
    "year_data['expenses_incurred_on_chartered_flight_rs'].plot()"
   ]
  },
  {
   "cell_type": "markdown",
   "id": "2bf4b4a6",
   "metadata": {},
   "source": [
    "observation:\n",
    "1. on 2015 the number of his visiting days is reach, and inflated on 2016, from 2018 his his number of days inflated\n",
    "2. the chart of no_of_days and expences are almost same except on 2017"
   ]
  },
  {
   "cell_type": "code",
   "execution_count": 367,
   "id": "ee6b2420",
   "metadata": {},
   "outputs": [
    {
     "data": {
      "text/html": [
       "<div>\n",
       "<style scoped>\n",
       "    .dataframe tbody tr th:only-of-type {\n",
       "        vertical-align: middle;\n",
       "    }\n",
       "\n",
       "    .dataframe tbody tr th {\n",
       "        vertical-align: top;\n",
       "    }\n",
       "\n",
       "    .dataframe thead th {\n",
       "        text-align: right;\n",
       "    }\n",
       "</style>\n",
       "<table border=\"1\" class=\"dataframe\">\n",
       "  <thead>\n",
       "    <tr style=\"text-align: right;\">\n",
       "      <th></th>\n",
       "      <th>no_of_days</th>\n",
       "      <th>expenses_incurred_on_chartered_flight_rs</th>\n",
       "    </tr>\n",
       "  </thead>\n",
       "  <tbody>\n",
       "    <tr>\n",
       "      <th>no_of_days</th>\n",
       "      <td>1.000000</td>\n",
       "      <td>0.973341</td>\n",
       "    </tr>\n",
       "    <tr>\n",
       "      <th>expenses_incurred_on_chartered_flight_rs</th>\n",
       "      <td>0.973341</td>\n",
       "      <td>1.000000</td>\n",
       "    </tr>\n",
       "  </tbody>\n",
       "</table>\n",
       "</div>"
      ],
      "text/plain": [
       "                                          no_of_days  \\\n",
       "no_of_days                                  1.000000   \n",
       "expenses_incurred_on_chartered_flight_rs    0.973341   \n",
       "\n",
       "                                          expenses_incurred_on_chartered_flight_rs  \n",
       "no_of_days                                                                0.973341  \n",
       "expenses_incurred_on_chartered_flight_rs                                  1.000000  "
      ]
     },
     "execution_count": 367,
     "metadata": {},
     "output_type": "execute_result"
    }
   ],
   "source": [
    "# let's see the relationship between no_of_days and expenses_incurred_on_chartered_flight_rs\n",
    "year_data.corr()"
   ]
  },
  {
   "cell_type": "code",
   "execution_count": 368,
   "id": "76132290",
   "metadata": {
    "scrolled": true
   },
   "outputs": [
    {
     "data": {
      "text/plain": [
       "<AxesSubplot:>"
      ]
     },
     "execution_count": 368,
     "metadata": {},
     "output_type": "execute_result"
    },
    {
     "data": {
      "image/png": "[encoded data removed]",
      "text/plain": [
       "<Figure size 432x288 with 2 Axes>"
      ]
     },
     "metadata": {
      "needs_background": "light"
     },
     "output_type": "display_data"
    }
   ],
   "source": [
    "sns.heatmap(year_data.corr())"
   ]
  },
  {
   "cell_type": "markdown",
   "id": "e030b9cd",
   "metadata": {},
   "source": [
    "1. no_of_days is highly correlated with expenses_incurred_on_chartered_flight_rs"
   ]
  }
 ],
 "metadata": {
  "kernelspec": {
   "display_name": "Python 3 (ipykernel)",
   "language": "python",
   "name": "python3"
  },
  "language_info": {
   "codemirror_mode": {
    "name": "ipython",
    "version": 3
   },
   "file_extension": ".py",
   "mimetype": "text/x-python",
   "name": "python",
   "nbconvert_exporter": "python",
   "pygments_lexer": "ipython3",
   "version": "3.9.7"
  }
 },
 "nbformat": 4,
 "nbformat_minor": 5
}
